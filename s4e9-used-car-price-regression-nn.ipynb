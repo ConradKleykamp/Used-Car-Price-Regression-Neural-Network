{
 "cells": [
  {
   "cell_type": "markdown",
   "id": "e2a284dd",
   "metadata": {
    "papermill": {
     "duration": 0.018556,
     "end_time": "2024-09-18T18:22:48.017048",
     "exception": false,
     "start_time": "2024-09-18T18:22:47.998492",
     "status": "completed"
    },
    "tags": []
   },
   "source": [
    "<a id=\"0\"></a>\n",
    "\n",
    "# **S4E9: Used Car Price Regression (NN)**\n",
    "\n",
    "Table of Contents:\n",
    "* [About the Project](#1)\n",
    "* [About the Data](#2)\n",
    "* [Set Up](#3)\n",
    "* [Exploring the Datasets](#4)\n",
    "    - [Train Dataset](#4a)\n",
    "    - [Test Dataset](#4b)\n",
    "    - [Original Dataset](#4c)\n",
    "* [Data Cleaning](#5)\n",
    "    - [Concatenating Datasets](#5a)\n",
    "    - [Missing Values: 'fuel_type'](#5b)\n",
    "    - [Missing Values: 'clean_title' & 'accident'](#5c)\n",
    "* [Data Preprocessing](#6)\n",
    "* [Building the Neural Network](#7)\n",
    "* [Making Predictions](#8)\n",
    "* [Conclusion](#c)\n",
    "* [References](#r)"
   ]
  },
  {
   "cell_type": "markdown",
   "id": "f608f6ea",
   "metadata": {
    "papermill": {
     "duration": 0.017678,
     "end_time": "2024-09-18T18:22:48.052557",
     "exception": false,
     "start_time": "2024-09-18T18:22:48.034879",
     "status": "completed"
    },
    "tags": []
   },
   "source": [
    "<a id=\"1\"></a>\n",
    "\n",
    "# **About the Project**\n",
    "\n",
    "This project has been completed as part of Kaggle's [Regression of Used Car Prices](https://www.kaggle.com/competitions/playground-series-s4e9/overview) competition (S4E9). Furthermore, this project presents an opportunity to practice both data cleaning and the development of neural networks. The overall goal here is to develop a neural network model which will predict the price of a car based upon its predictor variables. This will be accomplished by first determining an efficient method of dealing with missing data. Following this, a neural network will be built and evaluated by the root mean squared error (RMSE) of the predicted car prices compared to the actual car prices. "
   ]
  },
  {
   "cell_type": "markdown",
   "id": "9b076e15",
   "metadata": {
    "papermill": {
     "duration": 0.017485,
     "end_time": "2024-09-18T18:22:48.088328",
     "exception": false,
     "start_time": "2024-09-18T18:22:48.070843",
     "status": "completed"
    },
    "tags": []
   },
   "source": [
    "<a id=\"0\"></a>\n",
    "\n",
    "<a href=\"#0\" style=\"background-color:blue; color:white; padding: 7px 10px; text-decoration: none; border-radius: 50px;\">Back to top</a><a id=\"0\"></a>\n",
    "\n",
    "<a id=\"0\"></a>\n",
    "\n",
    "<a href=\"#3\" style=\"background-color:blue; color:white; padding: 7px 10px; text-decoration: none; border-radius: 50px;\">Next Section</a><a id=\"0\"></a>\n",
    "\n",
    "<a id=\"2\"></a>\n",
    "\n",
    "# **About the Data**\n",
    "\n",
    "Two of the datasets used in this project were made available by Kaggle, i.e. the train and test sets. These sets were generated from a deep learning model trained on the [Used Car Price Prediction Dataset](https://www.kaggle.com/datasets/taeefnajib/used-car-price-prediction-dataset). To enhance the amount of data used for model training, I have also included the original dataset in this project. The Kaggle train dataset contains 188533 rows and 13 columns of data. The Kaggle test dataset contains 125690 rows and 12 columns of data. The original dataset contains 4009 rows and 12 columns of data.\n",
    "\n",
    "Target Variable:\n",
    "- Price (dollars)\n",
    "\n",
    "Predictor Variables:\n",
    "- Brand ---> the brand or company name of the vehicle\n",
    "- Model ---> the specific model of the vehicle\n",
    "- Model Year ---> the year the vehicle was manufactured\n",
    "- Milage ---> the milage of the vehicle\n",
    "- Fuel Type ---> the type of fuel the vehicle uses (ex: gasoline, diesel, hybrid)\n",
    "- Engine ---> the specifications of the engine\n",
    "- Transmission ---> the type of transmission (ex: manual, automatic)\n",
    "- Ext Col ---> the exterior color of the vehicle\n",
    "- Int Col ---> the interior color of the vehicle\n",
    "- Accident ---> whether the vehicle has a prior history of accidents or damage\n",
    "- Clean Title ---> whether the vehicle has a clean title"
   ]
  },
  {
   "cell_type": "markdown",
   "id": "09a7df4e",
   "metadata": {
    "papermill": {
     "duration": 0.017311,
     "end_time": "2024-09-18T18:22:48.123158",
     "exception": false,
     "start_time": "2024-09-18T18:22:48.105847",
     "status": "completed"
    },
    "tags": []
   },
   "source": [
    "<a id=\"0\"></a>\n",
    "\n",
    "<a href=\"#0\" style=\"background-color:blue; color:white; padding: 7px 10px; text-decoration: none; border-radius: 50px;\">Back to top</a><a id=\"0\"></a>\n",
    "\n",
    "<a id=\"0\"></a>\n",
    "\n",
    "<a href=\"#4\" style=\"background-color:blue; color:white; padding: 7px 10px; text-decoration: none; border-radius: 50px;\">Next Section</a><a id=\"0\"></a>\n",
    "\n",
    "<a id=\"3\"></a>\n",
    "\n",
    "# **Set Up**"
   ]
  },
  {
   "cell_type": "code",
   "execution_count": 1,
   "id": "9c5180d0",
   "metadata": {
    "_cell_guid": "b1076dfc-b9ad-4769-8c92-a6c4dae69d19",
    "_uuid": "8f2839f25d086af736a60e9eeb907d3b93b6e0e5",
    "execution": {
     "iopub.execute_input": "2024-09-18T18:22:48.160331Z",
     "iopub.status.busy": "2024-09-18T18:22:48.159285Z",
     "iopub.status.idle": "2024-09-18T18:23:01.668638Z",
     "shell.execute_reply": "2024-09-18T18:23:01.667580Z"
    },
    "papermill": {
     "duration": 13.530546,
     "end_time": "2024-09-18T18:23:01.671102",
     "exception": false,
     "start_time": "2024-09-18T18:22:48.140556",
     "status": "completed"
    },
    "tags": []
   },
   "outputs": [],
   "source": [
    "# Importing necessary libraries\n",
    "import pandas as pd\n",
    "import numpy as np\n",
    "\n",
    "import matplotlib.pyplot as plt\n",
    "\n",
    "from sklearn.preprocessing import LabelEncoder\n",
    "from sklearn.preprocessing import MinMaxScaler\n",
    "from sklearn.model_selection import train_test_split\n",
    "from sklearn.metrics import mean_squared_error\n",
    "\n",
    "import tensorflow as tf\n",
    "from tensorflow.keras.models import Sequential\n",
    "from tensorflow.keras.layers import Input, Dense, Dropout, BatchNormalization\n",
    "from tensorflow.keras.optimizers import Adam"
   ]
  },
  {
   "cell_type": "code",
   "execution_count": 2,
   "id": "55e4b8a4",
   "metadata": {
    "execution": {
     "iopub.execute_input": "2024-09-18T18:23:01.708707Z",
     "iopub.status.busy": "2024-09-18T18:23:01.707563Z",
     "iopub.status.idle": "2024-09-18T18:23:02.936216Z",
     "shell.execute_reply": "2024-09-18T18:23:02.935176Z"
    },
    "papermill": {
     "duration": 1.249683,
     "end_time": "2024-09-18T18:23:02.938629",
     "exception": false,
     "start_time": "2024-09-18T18:23:01.688946",
     "status": "completed"
    },
    "tags": []
   },
   "outputs": [],
   "source": [
    "# Loading in the Kaggle datasets\n",
    "train_df = pd.read_csv('/kaggle/input/playground-series-s4e9/train.csv')\n",
    "test_df = pd.read_csv('/kaggle/input/playground-series-s4e9/test.csv')"
   ]
  },
  {
   "cell_type": "code",
   "execution_count": 3,
   "id": "036ff9d2",
   "metadata": {
    "execution": {
     "iopub.execute_input": "2024-09-18T18:23:02.975562Z",
     "iopub.status.busy": "2024-09-18T18:23:02.974634Z",
     "iopub.status.idle": "2024-09-18T18:23:03.003218Z",
     "shell.execute_reply": "2024-09-18T18:23:03.002414Z"
    },
    "papermill": {
     "duration": 0.049357,
     "end_time": "2024-09-18T18:23:03.005514",
     "exception": false,
     "start_time": "2024-09-18T18:23:02.956157",
     "status": "completed"
    },
    "tags": []
   },
   "outputs": [],
   "source": [
    "# Loading in the original dataset\n",
    "original_df = pd.read_csv('/kaggle/input/used-car-price-prediction-dataset/used_cars.csv')"
   ]
  },
  {
   "cell_type": "markdown",
   "id": "65929f47",
   "metadata": {
    "papermill": {
     "duration": 0.01736,
     "end_time": "2024-09-18T18:23:03.040631",
     "exception": false,
     "start_time": "2024-09-18T18:23:03.023271",
     "status": "completed"
    },
    "tags": []
   },
   "source": [
    "<a id=\"0\"></a>\n",
    "\n",
    "<a href=\"#0\" style=\"background-color:blue; color:white; padding: 7px 10px; text-decoration: none; border-radius: 50px;\">Back to top</a><a id=\"0\"></a>\n",
    "\n",
    "<a id=\"0\"></a>\n",
    "\n",
    "<a href=\"#5\" style=\"background-color:blue; color:white; padding: 7px 10px; text-decoration: none; border-radius: 50px;\">Next Section</a><a id=\"0\"></a>\n",
    "\n",
    "<a id=\"4\"></a>\n",
    "\n",
    "# **Exploring the Datasets**\n",
    "\n",
    "This section briefly explores the general structure of the two Kaggle datasets ('train_df' & 'test_df') and the original dataset ('original_df'). The objective here is to simply become familiar with the content in these datasets. Most importantly, this section identifies any missing values, which will be remedied in the following section 'Data Cleaning'. "
   ]
  },
  {
   "cell_type": "markdown",
   "id": "9f98c7ce",
   "metadata": {
    "papermill": {
     "duration": 0.017072,
     "end_time": "2024-09-18T18:23:03.075075",
     "exception": false,
     "start_time": "2024-09-18T18:23:03.058003",
     "status": "completed"
    },
    "tags": []
   },
   "source": [
    "<a id=\"4a\"></a>\n",
    "\n",
    "## **Viewing the 'train_df' dataset**"
   ]
  },
  {
   "cell_type": "code",
   "execution_count": 4,
   "id": "d81d305d",
   "metadata": {
    "execution": {
     "iopub.execute_input": "2024-09-18T18:23:03.111519Z",
     "iopub.status.busy": "2024-09-18T18:23:03.110747Z",
     "iopub.status.idle": "2024-09-18T18:23:03.134469Z",
     "shell.execute_reply": "2024-09-18T18:23:03.133408Z"
    },
    "papermill": {
     "duration": 0.044331,
     "end_time": "2024-09-18T18:23:03.136566",
     "exception": false,
     "start_time": "2024-09-18T18:23:03.092235",
     "status": "completed"
    },
    "tags": []
   },
   "outputs": [
    {
     "data": {
      "text/html": [
       "<div>\n",
       "<style scoped>\n",
       "    .dataframe tbody tr th:only-of-type {\n",
       "        vertical-align: middle;\n",
       "    }\n",
       "\n",
       "    .dataframe tbody tr th {\n",
       "        vertical-align: top;\n",
       "    }\n",
       "\n",
       "    .dataframe thead th {\n",
       "        text-align: right;\n",
       "    }\n",
       "</style>\n",
       "<table border=\"1\" class=\"dataframe\">\n",
       "  <thead>\n",
       "    <tr style=\"text-align: right;\">\n",
       "      <th></th>\n",
       "      <th>id</th>\n",
       "      <th>brand</th>\n",
       "      <th>model</th>\n",
       "      <th>model_year</th>\n",
       "      <th>milage</th>\n",
       "      <th>fuel_type</th>\n",
       "      <th>engine</th>\n",
       "      <th>transmission</th>\n",
       "      <th>ext_col</th>\n",
       "      <th>int_col</th>\n",
       "      <th>accident</th>\n",
       "      <th>clean_title</th>\n",
       "      <th>price</th>\n",
       "    </tr>\n",
       "  </thead>\n",
       "  <tbody>\n",
       "    <tr>\n",
       "      <th>0</th>\n",
       "      <td>0</td>\n",
       "      <td>MINI</td>\n",
       "      <td>Cooper S Base</td>\n",
       "      <td>2007</td>\n",
       "      <td>213000</td>\n",
       "      <td>Gasoline</td>\n",
       "      <td>172.0HP 1.6L 4 Cylinder Engine Gasoline Fuel</td>\n",
       "      <td>A/T</td>\n",
       "      <td>Yellow</td>\n",
       "      <td>Gray</td>\n",
       "      <td>None reported</td>\n",
       "      <td>Yes</td>\n",
       "      <td>4200</td>\n",
       "    </tr>\n",
       "    <tr>\n",
       "      <th>1</th>\n",
       "      <td>1</td>\n",
       "      <td>Lincoln</td>\n",
       "      <td>LS V8</td>\n",
       "      <td>2002</td>\n",
       "      <td>143250</td>\n",
       "      <td>Gasoline</td>\n",
       "      <td>252.0HP 3.9L 8 Cylinder Engine Gasoline Fuel</td>\n",
       "      <td>A/T</td>\n",
       "      <td>Silver</td>\n",
       "      <td>Beige</td>\n",
       "      <td>At least 1 accident or damage reported</td>\n",
       "      <td>Yes</td>\n",
       "      <td>4999</td>\n",
       "    </tr>\n",
       "    <tr>\n",
       "      <th>2</th>\n",
       "      <td>2</td>\n",
       "      <td>Chevrolet</td>\n",
       "      <td>Silverado 2500 LT</td>\n",
       "      <td>2002</td>\n",
       "      <td>136731</td>\n",
       "      <td>E85 Flex Fuel</td>\n",
       "      <td>320.0HP 5.3L 8 Cylinder Engine Flex Fuel Capab...</td>\n",
       "      <td>A/T</td>\n",
       "      <td>Blue</td>\n",
       "      <td>Gray</td>\n",
       "      <td>None reported</td>\n",
       "      <td>Yes</td>\n",
       "      <td>13900</td>\n",
       "    </tr>\n",
       "    <tr>\n",
       "      <th>3</th>\n",
       "      <td>3</td>\n",
       "      <td>Genesis</td>\n",
       "      <td>G90 5.0 Ultimate</td>\n",
       "      <td>2017</td>\n",
       "      <td>19500</td>\n",
       "      <td>Gasoline</td>\n",
       "      <td>420.0HP 5.0L 8 Cylinder Engine Gasoline Fuel</td>\n",
       "      <td>Transmission w/Dual Shift Mode</td>\n",
       "      <td>Black</td>\n",
       "      <td>Black</td>\n",
       "      <td>None reported</td>\n",
       "      <td>Yes</td>\n",
       "      <td>45000</td>\n",
       "    </tr>\n",
       "    <tr>\n",
       "      <th>4</th>\n",
       "      <td>4</td>\n",
       "      <td>Mercedes-Benz</td>\n",
       "      <td>Metris Base</td>\n",
       "      <td>2021</td>\n",
       "      <td>7388</td>\n",
       "      <td>Gasoline</td>\n",
       "      <td>208.0HP 2.0L 4 Cylinder Engine Gasoline Fuel</td>\n",
       "      <td>7-Speed A/T</td>\n",
       "      <td>Black</td>\n",
       "      <td>Beige</td>\n",
       "      <td>None reported</td>\n",
       "      <td>Yes</td>\n",
       "      <td>97500</td>\n",
       "    </tr>\n",
       "  </tbody>\n",
       "</table>\n",
       "</div>"
      ],
      "text/plain": [
       "   id          brand              model  model_year  milage      fuel_type  \\\n",
       "0   0           MINI      Cooper S Base        2007  213000       Gasoline   \n",
       "1   1        Lincoln              LS V8        2002  143250       Gasoline   \n",
       "2   2      Chevrolet  Silverado 2500 LT        2002  136731  E85 Flex Fuel   \n",
       "3   3        Genesis   G90 5.0 Ultimate        2017   19500       Gasoline   \n",
       "4   4  Mercedes-Benz        Metris Base        2021    7388       Gasoline   \n",
       "\n",
       "                                              engine  \\\n",
       "0       172.0HP 1.6L 4 Cylinder Engine Gasoline Fuel   \n",
       "1       252.0HP 3.9L 8 Cylinder Engine Gasoline Fuel   \n",
       "2  320.0HP 5.3L 8 Cylinder Engine Flex Fuel Capab...   \n",
       "3       420.0HP 5.0L 8 Cylinder Engine Gasoline Fuel   \n",
       "4       208.0HP 2.0L 4 Cylinder Engine Gasoline Fuel   \n",
       "\n",
       "                     transmission ext_col int_col  \\\n",
       "0                             A/T  Yellow    Gray   \n",
       "1                             A/T  Silver   Beige   \n",
       "2                             A/T    Blue    Gray   \n",
       "3  Transmission w/Dual Shift Mode   Black   Black   \n",
       "4                     7-Speed A/T   Black   Beige   \n",
       "\n",
       "                                 accident clean_title  price  \n",
       "0                           None reported         Yes   4200  \n",
       "1  At least 1 accident or damage reported         Yes   4999  \n",
       "2                           None reported         Yes  13900  \n",
       "3                           None reported         Yes  45000  \n",
       "4                           None reported         Yes  97500  "
      ]
     },
     "execution_count": 4,
     "metadata": {},
     "output_type": "execute_result"
    }
   ],
   "source": [
    "# Checking the first 5 entries in 'train_df'\n",
    "train_df.head()"
   ]
  },
  {
   "cell_type": "code",
   "execution_count": 5,
   "id": "a9158589",
   "metadata": {
    "execution": {
     "iopub.execute_input": "2024-09-18T18:23:03.175065Z",
     "iopub.status.busy": "2024-09-18T18:23:03.174345Z",
     "iopub.status.idle": "2024-09-18T18:23:03.273049Z",
     "shell.execute_reply": "2024-09-18T18:23:03.271808Z"
    },
    "papermill": {
     "duration": 0.120184,
     "end_time": "2024-09-18T18:23:03.275330",
     "exception": false,
     "start_time": "2024-09-18T18:23:03.155146",
     "status": "completed"
    },
    "tags": []
   },
   "outputs": [
    {
     "name": "stdout",
     "output_type": "stream",
     "text": [
      "<class 'pandas.core.frame.DataFrame'>\n",
      "RangeIndex: 188533 entries, 0 to 188532\n",
      "Data columns (total 13 columns):\n",
      " #   Column        Non-Null Count   Dtype \n",
      "---  ------        --------------   ----- \n",
      " 0   id            188533 non-null  int64 \n",
      " 1   brand         188533 non-null  object\n",
      " 2   model         188533 non-null  object\n",
      " 3   model_year    188533 non-null  int64 \n",
      " 4   milage        188533 non-null  int64 \n",
      " 5   fuel_type     183450 non-null  object\n",
      " 6   engine        188533 non-null  object\n",
      " 7   transmission  188533 non-null  object\n",
      " 8   ext_col       188533 non-null  object\n",
      " 9   int_col       188533 non-null  object\n",
      " 10  accident      186081 non-null  object\n",
      " 11  clean_title   167114 non-null  object\n",
      " 12  price         188533 non-null  int64 \n",
      "dtypes: int64(4), object(9)\n",
      "memory usage: 18.7+ MB\n"
     ]
    }
   ],
   "source": [
    "# Viewing basic info of 'train_df'\n",
    "train_df.info()"
   ]
  },
  {
   "cell_type": "code",
   "execution_count": 6,
   "id": "963a8fe3",
   "metadata": {
    "execution": {
     "iopub.execute_input": "2024-09-18T18:23:03.313364Z",
     "iopub.status.busy": "2024-09-18T18:23:03.312739Z",
     "iopub.status.idle": "2024-09-18T18:23:03.356251Z",
     "shell.execute_reply": "2024-09-18T18:23:03.355302Z"
    },
    "papermill": {
     "duration": 0.064814,
     "end_time": "2024-09-18T18:23:03.358396",
     "exception": false,
     "start_time": "2024-09-18T18:23:03.293582",
     "status": "completed"
    },
    "tags": []
   },
   "outputs": [
    {
     "data": {
      "text/html": [
       "<div>\n",
       "<style scoped>\n",
       "    .dataframe tbody tr th:only-of-type {\n",
       "        vertical-align: middle;\n",
       "    }\n",
       "\n",
       "    .dataframe tbody tr th {\n",
       "        vertical-align: top;\n",
       "    }\n",
       "\n",
       "    .dataframe thead th {\n",
       "        text-align: right;\n",
       "    }\n",
       "</style>\n",
       "<table border=\"1\" class=\"dataframe\">\n",
       "  <thead>\n",
       "    <tr style=\"text-align: right;\">\n",
       "      <th></th>\n",
       "      <th>id</th>\n",
       "      <th>model_year</th>\n",
       "      <th>milage</th>\n",
       "      <th>price</th>\n",
       "    </tr>\n",
       "  </thead>\n",
       "  <tbody>\n",
       "    <tr>\n",
       "      <th>count</th>\n",
       "      <td>188533.000000</td>\n",
       "      <td>188533.000000</td>\n",
       "      <td>188533.000000</td>\n",
       "      <td>1.885330e+05</td>\n",
       "    </tr>\n",
       "    <tr>\n",
       "      <th>mean</th>\n",
       "      <td>94266.000000</td>\n",
       "      <td>2015.829998</td>\n",
       "      <td>65705.295174</td>\n",
       "      <td>4.387802e+04</td>\n",
       "    </tr>\n",
       "    <tr>\n",
       "      <th>std</th>\n",
       "      <td>54424.933488</td>\n",
       "      <td>5.660967</td>\n",
       "      <td>49798.158076</td>\n",
       "      <td>7.881952e+04</td>\n",
       "    </tr>\n",
       "    <tr>\n",
       "      <th>min</th>\n",
       "      <td>0.000000</td>\n",
       "      <td>1974.000000</td>\n",
       "      <td>100.000000</td>\n",
       "      <td>2.000000e+03</td>\n",
       "    </tr>\n",
       "    <tr>\n",
       "      <th>25%</th>\n",
       "      <td>47133.000000</td>\n",
       "      <td>2013.000000</td>\n",
       "      <td>24115.000000</td>\n",
       "      <td>1.700000e+04</td>\n",
       "    </tr>\n",
       "    <tr>\n",
       "      <th>50%</th>\n",
       "      <td>94266.000000</td>\n",
       "      <td>2017.000000</td>\n",
       "      <td>57785.000000</td>\n",
       "      <td>3.082500e+04</td>\n",
       "    </tr>\n",
       "    <tr>\n",
       "      <th>75%</th>\n",
       "      <td>141399.000000</td>\n",
       "      <td>2020.000000</td>\n",
       "      <td>95400.000000</td>\n",
       "      <td>4.990000e+04</td>\n",
       "    </tr>\n",
       "    <tr>\n",
       "      <th>max</th>\n",
       "      <td>188532.000000</td>\n",
       "      <td>2024.000000</td>\n",
       "      <td>405000.000000</td>\n",
       "      <td>2.954083e+06</td>\n",
       "    </tr>\n",
       "  </tbody>\n",
       "</table>\n",
       "</div>"
      ],
      "text/plain": [
       "                  id     model_year         milage         price\n",
       "count  188533.000000  188533.000000  188533.000000  1.885330e+05\n",
       "mean    94266.000000    2015.829998   65705.295174  4.387802e+04\n",
       "std     54424.933488       5.660967   49798.158076  7.881952e+04\n",
       "min         0.000000    1974.000000     100.000000  2.000000e+03\n",
       "25%     47133.000000    2013.000000   24115.000000  1.700000e+04\n",
       "50%     94266.000000    2017.000000   57785.000000  3.082500e+04\n",
       "75%    141399.000000    2020.000000   95400.000000  4.990000e+04\n",
       "max    188532.000000    2024.000000  405000.000000  2.954083e+06"
      ]
     },
     "execution_count": 6,
     "metadata": {},
     "output_type": "execute_result"
    }
   ],
   "source": [
    "# Generating descriptive statistics of 'train_df'\n",
    "train_df.describe()"
   ]
  },
  {
   "cell_type": "code",
   "execution_count": 7,
   "id": "40b08c36",
   "metadata": {
    "execution": {
     "iopub.execute_input": "2024-09-18T18:23:03.397063Z",
     "iopub.status.busy": "2024-09-18T18:23:03.396703Z",
     "iopub.status.idle": "2024-09-18T18:23:03.402856Z",
     "shell.execute_reply": "2024-09-18T18:23:03.401860Z"
    },
    "papermill": {
     "duration": 0.02766,
     "end_time": "2024-09-18T18:23:03.404962",
     "exception": false,
     "start_time": "2024-09-18T18:23:03.377302",
     "status": "completed"
    },
    "tags": []
   },
   "outputs": [],
   "source": [
    "# Creating a function to show summary statistics of a given dataset\n",
    "def show_stats(dataset):\n",
    "    stats_df = pd.DataFrame(index = list(dataset))\n",
    "    stats_df['Dtype'] = dataset.dtypes\n",
    "    stats_df['Count'] = dataset.count()\n",
    "    stats_df['#Unique'] = dataset.nunique()\n",
    "    stats_df['%Unique'] = stats_df['#Unique'] / len(dataset) * 100\n",
    "    stats_df['#Null'] = dataset.isnull().sum()\n",
    "    stats_df['%Null'] = stats_df['#Null'] / len(dataset) * 100\n",
    "    print(stats_df)"
   ]
  },
  {
   "cell_type": "code",
   "execution_count": 8,
   "id": "3b79ad46",
   "metadata": {
    "execution": {
     "iopub.execute_input": "2024-09-18T18:23:03.443299Z",
     "iopub.status.busy": "2024-09-18T18:23:03.442568Z",
     "iopub.status.idle": "2024-09-18T18:23:03.720485Z",
     "shell.execute_reply": "2024-09-18T18:23:03.719528Z"
    },
    "papermill": {
     "duration": 0.29966,
     "end_time": "2024-09-18T18:23:03.722741",
     "exception": false,
     "start_time": "2024-09-18T18:23:03.423081",
     "status": "completed"
    },
    "tags": []
   },
   "outputs": [
    {
     "name": "stdout",
     "output_type": "stream",
     "text": [
      "               Dtype   Count  #Unique     %Unique  #Null      %Null\n",
      "id             int64  188533   188533  100.000000      0   0.000000\n",
      "brand         object  188533       57    0.030233      0   0.000000\n",
      "model         object  188533     1897    1.006190      0   0.000000\n",
      "model_year     int64  188533       34    0.018034      0   0.000000\n",
      "milage         int64  188533     6651    3.527764      0   0.000000\n",
      "fuel_type     object  183450        7    0.003713   5083   2.696080\n",
      "engine        object  188533     1117    0.592469      0   0.000000\n",
      "transmission  object  188533       52    0.027581      0   0.000000\n",
      "ext_col       object  188533      319    0.169201      0   0.000000\n",
      "int_col       object  188533      156    0.082744      0   0.000000\n",
      "accident      object  186081        2    0.001061   2452   1.300568\n",
      "clean_title   object  167114        1    0.000530  21419  11.360876\n",
      "price          int64  188533     1569    0.832215      0   0.000000\n"
     ]
    }
   ],
   "source": [
    "# Getting more summary statistics of the 'train_df' dataset\n",
    "show_stats(train_df)"
   ]
  },
  {
   "cell_type": "markdown",
   "id": "bb4cefc0",
   "metadata": {
    "papermill": {
     "duration": 0.018031,
     "end_time": "2024-09-18T18:23:03.759179",
     "exception": false,
     "start_time": "2024-09-18T18:23:03.741148",
     "status": "completed"
    },
    "tags": []
   },
   "source": [
    "By viewing the 'train_df' dataset, we can see that three columns have missing entries. These columns are 'fuel_type', 'accident', and 'clean_title'. These columns will need to be cleaned up, by either simply dropping particular rows of data, or by manually filling them in with synthetic data. \n",
    "\n",
    "We can also see that many of the object type columns have a large number of unique entries. For example, the 'model' column has 1897 unique values. This means that there are almost 2000 unique car brands! Columns like these may need to be simplified by assigning and grouping these unique values into more comprehensible categories. "
   ]
  },
  {
   "cell_type": "markdown",
   "id": "5c34a458",
   "metadata": {
    "papermill": {
     "duration": 0.017809,
     "end_time": "2024-09-18T18:23:03.795021",
     "exception": false,
     "start_time": "2024-09-18T18:23:03.777212",
     "status": "completed"
    },
    "tags": []
   },
   "source": [
    "<a id=\"4b\"></a>\n",
    "\n",
    "## **Viewing the 'test_df' dataset**"
   ]
  },
  {
   "cell_type": "code",
   "execution_count": 9,
   "id": "cf35330a",
   "metadata": {
    "execution": {
     "iopub.execute_input": "2024-09-18T18:23:03.833297Z",
     "iopub.status.busy": "2024-09-18T18:23:03.832916Z",
     "iopub.status.idle": "2024-09-18T18:23:03.847276Z",
     "shell.execute_reply": "2024-09-18T18:23:03.846376Z"
    },
    "papermill": {
     "duration": 0.03598,
     "end_time": "2024-09-18T18:23:03.849264",
     "exception": false,
     "start_time": "2024-09-18T18:23:03.813284",
     "status": "completed"
    },
    "tags": []
   },
   "outputs": [
    {
     "data": {
      "text/html": [
       "<div>\n",
       "<style scoped>\n",
       "    .dataframe tbody tr th:only-of-type {\n",
       "        vertical-align: middle;\n",
       "    }\n",
       "\n",
       "    .dataframe tbody tr th {\n",
       "        vertical-align: top;\n",
       "    }\n",
       "\n",
       "    .dataframe thead th {\n",
       "        text-align: right;\n",
       "    }\n",
       "</style>\n",
       "<table border=\"1\" class=\"dataframe\">\n",
       "  <thead>\n",
       "    <tr style=\"text-align: right;\">\n",
       "      <th></th>\n",
       "      <th>id</th>\n",
       "      <th>brand</th>\n",
       "      <th>model</th>\n",
       "      <th>model_year</th>\n",
       "      <th>milage</th>\n",
       "      <th>fuel_type</th>\n",
       "      <th>engine</th>\n",
       "      <th>transmission</th>\n",
       "      <th>ext_col</th>\n",
       "      <th>int_col</th>\n",
       "      <th>accident</th>\n",
       "      <th>clean_title</th>\n",
       "    </tr>\n",
       "  </thead>\n",
       "  <tbody>\n",
       "    <tr>\n",
       "      <th>0</th>\n",
       "      <td>188533</td>\n",
       "      <td>Land</td>\n",
       "      <td>Rover LR2 Base</td>\n",
       "      <td>2015</td>\n",
       "      <td>98000</td>\n",
       "      <td>Gasoline</td>\n",
       "      <td>240.0HP 2.0L 4 Cylinder Engine Gasoline Fuel</td>\n",
       "      <td>6-Speed A/T</td>\n",
       "      <td>White</td>\n",
       "      <td>Beige</td>\n",
       "      <td>None reported</td>\n",
       "      <td>Yes</td>\n",
       "    </tr>\n",
       "    <tr>\n",
       "      <th>1</th>\n",
       "      <td>188534</td>\n",
       "      <td>Land</td>\n",
       "      <td>Rover Defender SE</td>\n",
       "      <td>2020</td>\n",
       "      <td>9142</td>\n",
       "      <td>Hybrid</td>\n",
       "      <td>395.0HP 3.0L Straight 6 Cylinder Engine Gasoli...</td>\n",
       "      <td>8-Speed A/T</td>\n",
       "      <td>Silver</td>\n",
       "      <td>Black</td>\n",
       "      <td>None reported</td>\n",
       "      <td>Yes</td>\n",
       "    </tr>\n",
       "    <tr>\n",
       "      <th>2</th>\n",
       "      <td>188535</td>\n",
       "      <td>Ford</td>\n",
       "      <td>Expedition Limited</td>\n",
       "      <td>2022</td>\n",
       "      <td>28121</td>\n",
       "      <td>Gasoline</td>\n",
       "      <td>3.5L V6 24V PDI DOHC Twin Turbo</td>\n",
       "      <td>10-Speed Automatic</td>\n",
       "      <td>White</td>\n",
       "      <td>Ebony</td>\n",
       "      <td>None reported</td>\n",
       "      <td>NaN</td>\n",
       "    </tr>\n",
       "    <tr>\n",
       "      <th>3</th>\n",
       "      <td>188536</td>\n",
       "      <td>Audi</td>\n",
       "      <td>A6 2.0T Sport</td>\n",
       "      <td>2016</td>\n",
       "      <td>61258</td>\n",
       "      <td>Gasoline</td>\n",
       "      <td>2.0 Liter TFSI</td>\n",
       "      <td>Automatic</td>\n",
       "      <td>Silician Yellow</td>\n",
       "      <td>Black</td>\n",
       "      <td>None reported</td>\n",
       "      <td>NaN</td>\n",
       "    </tr>\n",
       "    <tr>\n",
       "      <th>4</th>\n",
       "      <td>188537</td>\n",
       "      <td>Audi</td>\n",
       "      <td>A6 2.0T Premium Plus</td>\n",
       "      <td>2018</td>\n",
       "      <td>59000</td>\n",
       "      <td>Gasoline</td>\n",
       "      <td>252.0HP 2.0L 4 Cylinder Engine Gasoline Fuel</td>\n",
       "      <td>A/T</td>\n",
       "      <td>Gray</td>\n",
       "      <td>Black</td>\n",
       "      <td>None reported</td>\n",
       "      <td>Yes</td>\n",
       "    </tr>\n",
       "  </tbody>\n",
       "</table>\n",
       "</div>"
      ],
      "text/plain": [
       "       id brand                 model  model_year  milage fuel_type  \\\n",
       "0  188533  Land        Rover LR2 Base        2015   98000  Gasoline   \n",
       "1  188534  Land     Rover Defender SE        2020    9142    Hybrid   \n",
       "2  188535  Ford    Expedition Limited        2022   28121  Gasoline   \n",
       "3  188536  Audi         A6 2.0T Sport        2016   61258  Gasoline   \n",
       "4  188537  Audi  A6 2.0T Premium Plus        2018   59000  Gasoline   \n",
       "\n",
       "                                              engine        transmission  \\\n",
       "0       240.0HP 2.0L 4 Cylinder Engine Gasoline Fuel         6-Speed A/T   \n",
       "1  395.0HP 3.0L Straight 6 Cylinder Engine Gasoli...         8-Speed A/T   \n",
       "2                    3.5L V6 24V PDI DOHC Twin Turbo  10-Speed Automatic   \n",
       "3                                     2.0 Liter TFSI           Automatic   \n",
       "4       252.0HP 2.0L 4 Cylinder Engine Gasoline Fuel                 A/T   \n",
       "\n",
       "           ext_col int_col       accident clean_title  \n",
       "0            White   Beige  None reported         Yes  \n",
       "1           Silver   Black  None reported         Yes  \n",
       "2            White   Ebony  None reported         NaN  \n",
       "3  Silician Yellow   Black  None reported         NaN  \n",
       "4             Gray   Black  None reported         Yes  "
      ]
     },
     "execution_count": 9,
     "metadata": {},
     "output_type": "execute_result"
    }
   ],
   "source": [
    "# Viewing the first 5 entries of 'test_df'\n",
    "test_df.head()"
   ]
  },
  {
   "cell_type": "code",
   "execution_count": 10,
   "id": "7ad17f7d",
   "metadata": {
    "execution": {
     "iopub.execute_input": "2024-09-18T18:23:03.935822Z",
     "iopub.status.busy": "2024-09-18T18:23:03.935400Z",
     "iopub.status.idle": "2024-09-18T18:23:03.996515Z",
     "shell.execute_reply": "2024-09-18T18:23:03.995456Z"
    },
    "papermill": {
     "duration": 0.130888,
     "end_time": "2024-09-18T18:23:03.998890",
     "exception": false,
     "start_time": "2024-09-18T18:23:03.868002",
     "status": "completed"
    },
    "tags": []
   },
   "outputs": [
    {
     "name": "stdout",
     "output_type": "stream",
     "text": [
      "<class 'pandas.core.frame.DataFrame'>\n",
      "RangeIndex: 125690 entries, 0 to 125689\n",
      "Data columns (total 12 columns):\n",
      " #   Column        Non-Null Count   Dtype \n",
      "---  ------        --------------   ----- \n",
      " 0   id            125690 non-null  int64 \n",
      " 1   brand         125690 non-null  object\n",
      " 2   model         125690 non-null  object\n",
      " 3   model_year    125690 non-null  int64 \n",
      " 4   milage        125690 non-null  int64 \n",
      " 5   fuel_type     122307 non-null  object\n",
      " 6   engine        125690 non-null  object\n",
      " 7   transmission  125690 non-null  object\n",
      " 8   ext_col       125690 non-null  object\n",
      " 9   int_col       125690 non-null  object\n",
      " 10  accident      124058 non-null  object\n",
      " 11  clean_title   111451 non-null  object\n",
      "dtypes: int64(3), object(9)\n",
      "memory usage: 11.5+ MB\n"
     ]
    }
   ],
   "source": [
    "# Viewing basic info of 'test_df'\n",
    "test_df.info()"
   ]
  },
  {
   "cell_type": "code",
   "execution_count": 11,
   "id": "19e8dbdd",
   "metadata": {
    "execution": {
     "iopub.execute_input": "2024-09-18T18:23:04.039077Z",
     "iopub.status.busy": "2024-09-18T18:23:04.038503Z",
     "iopub.status.idle": "2024-09-18T18:23:04.064090Z",
     "shell.execute_reply": "2024-09-18T18:23:04.063088Z"
    },
    "papermill": {
     "duration": 0.047822,
     "end_time": "2024-09-18T18:23:04.066092",
     "exception": false,
     "start_time": "2024-09-18T18:23:04.018270",
     "status": "completed"
    },
    "tags": []
   },
   "outputs": [
    {
     "data": {
      "text/html": [
       "<div>\n",
       "<style scoped>\n",
       "    .dataframe tbody tr th:only-of-type {\n",
       "        vertical-align: middle;\n",
       "    }\n",
       "\n",
       "    .dataframe tbody tr th {\n",
       "        vertical-align: top;\n",
       "    }\n",
       "\n",
       "    .dataframe thead th {\n",
       "        text-align: right;\n",
       "    }\n",
       "</style>\n",
       "<table border=\"1\" class=\"dataframe\">\n",
       "  <thead>\n",
       "    <tr style=\"text-align: right;\">\n",
       "      <th></th>\n",
       "      <th>id</th>\n",
       "      <th>model_year</th>\n",
       "      <th>milage</th>\n",
       "    </tr>\n",
       "  </thead>\n",
       "  <tbody>\n",
       "    <tr>\n",
       "      <th>count</th>\n",
       "      <td>125690.000000</td>\n",
       "      <td>125690.000000</td>\n",
       "      <td>125690.000000</td>\n",
       "    </tr>\n",
       "    <tr>\n",
       "      <th>mean</th>\n",
       "      <td>251377.500000</td>\n",
       "      <td>2015.797526</td>\n",
       "      <td>66042.581510</td>\n",
       "    </tr>\n",
       "    <tr>\n",
       "      <th>std</th>\n",
       "      <td>36283.722005</td>\n",
       "      <td>5.673797</td>\n",
       "      <td>50223.858435</td>\n",
       "    </tr>\n",
       "    <tr>\n",
       "      <th>min</th>\n",
       "      <td>188533.000000</td>\n",
       "      <td>1974.000000</td>\n",
       "      <td>100.000000</td>\n",
       "    </tr>\n",
       "    <tr>\n",
       "      <th>25%</th>\n",
       "      <td>219955.250000</td>\n",
       "      <td>2013.000000</td>\n",
       "      <td>24500.000000</td>\n",
       "    </tr>\n",
       "    <tr>\n",
       "      <th>50%</th>\n",
       "      <td>251377.500000</td>\n",
       "      <td>2017.000000</td>\n",
       "      <td>57500.000000</td>\n",
       "    </tr>\n",
       "    <tr>\n",
       "      <th>75%</th>\n",
       "      <td>282799.750000</td>\n",
       "      <td>2020.000000</td>\n",
       "      <td>95798.000000</td>\n",
       "    </tr>\n",
       "    <tr>\n",
       "      <th>max</th>\n",
       "      <td>314222.000000</td>\n",
       "      <td>2024.000000</td>\n",
       "      <td>405000.000000</td>\n",
       "    </tr>\n",
       "  </tbody>\n",
       "</table>\n",
       "</div>"
      ],
      "text/plain": [
       "                  id     model_year         milage\n",
       "count  125690.000000  125690.000000  125690.000000\n",
       "mean   251377.500000    2015.797526   66042.581510\n",
       "std     36283.722005       5.673797   50223.858435\n",
       "min    188533.000000    1974.000000     100.000000\n",
       "25%    219955.250000    2013.000000   24500.000000\n",
       "50%    251377.500000    2017.000000   57500.000000\n",
       "75%    282799.750000    2020.000000   95798.000000\n",
       "max    314222.000000    2024.000000  405000.000000"
      ]
     },
     "execution_count": 11,
     "metadata": {},
     "output_type": "execute_result"
    }
   ],
   "source": [
    "# Generating descriptive statistics of 'test_df'\n",
    "test_df.describe()"
   ]
  },
  {
   "cell_type": "code",
   "execution_count": 12,
   "id": "c9c3213f",
   "metadata": {
    "execution": {
     "iopub.execute_input": "2024-09-18T18:23:04.105771Z",
     "iopub.status.busy": "2024-09-18T18:23:04.104874Z",
     "iopub.status.idle": "2024-09-18T18:23:04.290264Z",
     "shell.execute_reply": "2024-09-18T18:23:04.289269Z"
    },
    "papermill": {
     "duration": 0.207751,
     "end_time": "2024-09-18T18:23:04.292640",
     "exception": false,
     "start_time": "2024-09-18T18:23:04.084889",
     "status": "completed"
    },
    "tags": []
   },
   "outputs": [
    {
     "name": "stdout",
     "output_type": "stream",
     "text": [
      "               Dtype   Count  #Unique     %Unique  #Null      %Null\n",
      "id             int64  125690   125690  100.000000      0   0.000000\n",
      "brand         object  125690       55    0.043758      0   0.000000\n",
      "model         object  125690     1891    1.504495      0   0.000000\n",
      "model_year     int64  125690       36    0.028642      0   0.000000\n",
      "milage         int64  125690     5700    4.534967      0   0.000000\n",
      "fuel_type     object  122307        7    0.005569   3383   2.691543\n",
      "engine        object  125690     1117    0.888694      0   0.000000\n",
      "transmission  object  125690       52    0.041372      0   0.000000\n",
      "ext_col       object  125690      317    0.252208      0   0.000000\n",
      "int_col       object  125690      156    0.124115      0   0.000000\n",
      "accident      object  124058        2    0.001591   1632   1.298433\n",
      "clean_title   object  111451        1    0.000796  14239  11.328666\n"
     ]
    }
   ],
   "source": [
    "# Getting more summary stats of 'test_df'\n",
    "show_stats(test_df)"
   ]
  },
  {
   "cell_type": "markdown",
   "id": "fe53adb3",
   "metadata": {
    "papermill": {
     "duration": 0.018761,
     "end_time": "2024-09-18T18:23:04.330489",
     "exception": false,
     "start_time": "2024-09-18T18:23:04.311728",
     "status": "completed"
    },
    "tags": []
   },
   "source": [
    "The 'test_df' dataset shares an almost identical structure to that of the 'train_df' dataset. This is to be expected, as the 'test_df' dataset will be used to make predictions on the target variable 'price'. The key difference here is that 'test_df' does not contain the target variable 'price'. "
   ]
  },
  {
   "cell_type": "markdown",
   "id": "42c52c1c",
   "metadata": {
    "papermill": {
     "duration": 0.01865,
     "end_time": "2024-09-18T18:23:04.368602",
     "exception": false,
     "start_time": "2024-09-18T18:23:04.349952",
     "status": "completed"
    },
    "tags": []
   },
   "source": [
    "<a id=\"4c\"></a>\n",
    "\n",
    "## **Viewing the 'original' dataset**"
   ]
  },
  {
   "cell_type": "code",
   "execution_count": 13,
   "id": "1d7302ef",
   "metadata": {
    "execution": {
     "iopub.execute_input": "2024-09-18T18:23:04.408489Z",
     "iopub.status.busy": "2024-09-18T18:23:04.407579Z",
     "iopub.status.idle": "2024-09-18T18:23:04.421974Z",
     "shell.execute_reply": "2024-09-18T18:23:04.421043Z"
    },
    "papermill": {
     "duration": 0.036419,
     "end_time": "2024-09-18T18:23:04.423919",
     "exception": false,
     "start_time": "2024-09-18T18:23:04.387500",
     "status": "completed"
    },
    "tags": []
   },
   "outputs": [
    {
     "data": {
      "text/html": [
       "<div>\n",
       "<style scoped>\n",
       "    .dataframe tbody tr th:only-of-type {\n",
       "        vertical-align: middle;\n",
       "    }\n",
       "\n",
       "    .dataframe tbody tr th {\n",
       "        vertical-align: top;\n",
       "    }\n",
       "\n",
       "    .dataframe thead th {\n",
       "        text-align: right;\n",
       "    }\n",
       "</style>\n",
       "<table border=\"1\" class=\"dataframe\">\n",
       "  <thead>\n",
       "    <tr style=\"text-align: right;\">\n",
       "      <th></th>\n",
       "      <th>brand</th>\n",
       "      <th>model</th>\n",
       "      <th>model_year</th>\n",
       "      <th>milage</th>\n",
       "      <th>fuel_type</th>\n",
       "      <th>engine</th>\n",
       "      <th>transmission</th>\n",
       "      <th>ext_col</th>\n",
       "      <th>int_col</th>\n",
       "      <th>accident</th>\n",
       "      <th>clean_title</th>\n",
       "      <th>price</th>\n",
       "    </tr>\n",
       "  </thead>\n",
       "  <tbody>\n",
       "    <tr>\n",
       "      <th>0</th>\n",
       "      <td>Ford</td>\n",
       "      <td>Utility Police Interceptor Base</td>\n",
       "      <td>2013</td>\n",
       "      <td>51,000 mi.</td>\n",
       "      <td>E85 Flex Fuel</td>\n",
       "      <td>300.0HP 3.7L V6 Cylinder Engine Flex Fuel Capa...</td>\n",
       "      <td>6-Speed A/T</td>\n",
       "      <td>Black</td>\n",
       "      <td>Black</td>\n",
       "      <td>At least 1 accident or damage reported</td>\n",
       "      <td>Yes</td>\n",
       "      <td>$10,300</td>\n",
       "    </tr>\n",
       "    <tr>\n",
       "      <th>1</th>\n",
       "      <td>Hyundai</td>\n",
       "      <td>Palisade SEL</td>\n",
       "      <td>2021</td>\n",
       "      <td>34,742 mi.</td>\n",
       "      <td>Gasoline</td>\n",
       "      <td>3.8L V6 24V GDI DOHC</td>\n",
       "      <td>8-Speed Automatic</td>\n",
       "      <td>Moonlight Cloud</td>\n",
       "      <td>Gray</td>\n",
       "      <td>At least 1 accident or damage reported</td>\n",
       "      <td>Yes</td>\n",
       "      <td>$38,005</td>\n",
       "    </tr>\n",
       "    <tr>\n",
       "      <th>2</th>\n",
       "      <td>Lexus</td>\n",
       "      <td>RX 350 RX 350</td>\n",
       "      <td>2022</td>\n",
       "      <td>22,372 mi.</td>\n",
       "      <td>Gasoline</td>\n",
       "      <td>3.5 Liter DOHC</td>\n",
       "      <td>Automatic</td>\n",
       "      <td>Blue</td>\n",
       "      <td>Black</td>\n",
       "      <td>None reported</td>\n",
       "      <td>NaN</td>\n",
       "      <td>$54,598</td>\n",
       "    </tr>\n",
       "    <tr>\n",
       "      <th>3</th>\n",
       "      <td>INFINITI</td>\n",
       "      <td>Q50 Hybrid Sport</td>\n",
       "      <td>2015</td>\n",
       "      <td>88,900 mi.</td>\n",
       "      <td>Hybrid</td>\n",
       "      <td>354.0HP 3.5L V6 Cylinder Engine Gas/Electric H...</td>\n",
       "      <td>7-Speed A/T</td>\n",
       "      <td>Black</td>\n",
       "      <td>Black</td>\n",
       "      <td>None reported</td>\n",
       "      <td>Yes</td>\n",
       "      <td>$15,500</td>\n",
       "    </tr>\n",
       "    <tr>\n",
       "      <th>4</th>\n",
       "      <td>Audi</td>\n",
       "      <td>Q3 45 S line Premium Plus</td>\n",
       "      <td>2021</td>\n",
       "      <td>9,835 mi.</td>\n",
       "      <td>Gasoline</td>\n",
       "      <td>2.0L I4 16V GDI DOHC Turbo</td>\n",
       "      <td>8-Speed Automatic</td>\n",
       "      <td>Glacier White Metallic</td>\n",
       "      <td>Black</td>\n",
       "      <td>None reported</td>\n",
       "      <td>NaN</td>\n",
       "      <td>$34,999</td>\n",
       "    </tr>\n",
       "  </tbody>\n",
       "</table>\n",
       "</div>"
      ],
      "text/plain": [
       "      brand                            model  model_year      milage  \\\n",
       "0      Ford  Utility Police Interceptor Base        2013  51,000 mi.   \n",
       "1   Hyundai                     Palisade SEL        2021  34,742 mi.   \n",
       "2     Lexus                    RX 350 RX 350        2022  22,372 mi.   \n",
       "3  INFINITI                 Q50 Hybrid Sport        2015  88,900 mi.   \n",
       "4      Audi        Q3 45 S line Premium Plus        2021   9,835 mi.   \n",
       "\n",
       "       fuel_type                                             engine  \\\n",
       "0  E85 Flex Fuel  300.0HP 3.7L V6 Cylinder Engine Flex Fuel Capa...   \n",
       "1       Gasoline                               3.8L V6 24V GDI DOHC   \n",
       "2       Gasoline                                     3.5 Liter DOHC   \n",
       "3         Hybrid  354.0HP 3.5L V6 Cylinder Engine Gas/Electric H...   \n",
       "4       Gasoline                         2.0L I4 16V GDI DOHC Turbo   \n",
       "\n",
       "        transmission                 ext_col int_col  \\\n",
       "0        6-Speed A/T                   Black   Black   \n",
       "1  8-Speed Automatic         Moonlight Cloud    Gray   \n",
       "2          Automatic                    Blue   Black   \n",
       "3        7-Speed A/T                   Black   Black   \n",
       "4  8-Speed Automatic  Glacier White Metallic   Black   \n",
       "\n",
       "                                 accident clean_title    price  \n",
       "0  At least 1 accident or damage reported         Yes  $10,300  \n",
       "1  At least 1 accident or damage reported         Yes  $38,005  \n",
       "2                           None reported         NaN  $54,598  \n",
       "3                           None reported         Yes  $15,500  \n",
       "4                           None reported         NaN  $34,999  "
      ]
     },
     "execution_count": 13,
     "metadata": {},
     "output_type": "execute_result"
    }
   ],
   "source": [
    "# Viewing the first 5 entries in 'original_df'\n",
    "original_df.head()"
   ]
  },
  {
   "cell_type": "code",
   "execution_count": 14,
   "id": "b608b0ab",
   "metadata": {
    "execution": {
     "iopub.execute_input": "2024-09-18T18:23:04.463787Z",
     "iopub.status.busy": "2024-09-18T18:23:04.463405Z",
     "iopub.status.idle": "2024-09-18T18:23:04.476155Z",
     "shell.execute_reply": "2024-09-18T18:23:04.475104Z"
    },
    "papermill": {
     "duration": 0.035208,
     "end_time": "2024-09-18T18:23:04.478162",
     "exception": false,
     "start_time": "2024-09-18T18:23:04.442954",
     "status": "completed"
    },
    "tags": []
   },
   "outputs": [
    {
     "name": "stdout",
     "output_type": "stream",
     "text": [
      "<class 'pandas.core.frame.DataFrame'>\n",
      "RangeIndex: 4009 entries, 0 to 4008\n",
      "Data columns (total 12 columns):\n",
      " #   Column        Non-Null Count  Dtype \n",
      "---  ------        --------------  ----- \n",
      " 0   brand         4009 non-null   object\n",
      " 1   model         4009 non-null   object\n",
      " 2   model_year    4009 non-null   int64 \n",
      " 3   milage        4009 non-null   object\n",
      " 4   fuel_type     3839 non-null   object\n",
      " 5   engine        4009 non-null   object\n",
      " 6   transmission  4009 non-null   object\n",
      " 7   ext_col       4009 non-null   object\n",
      " 8   int_col       4009 non-null   object\n",
      " 9   accident      3896 non-null   object\n",
      " 10  clean_title   3413 non-null   object\n",
      " 11  price         4009 non-null   object\n",
      "dtypes: int64(1), object(11)\n",
      "memory usage: 376.0+ KB\n"
     ]
    }
   ],
   "source": [
    "# Getting basic info of 'original_df'\n",
    "original_df.info()"
   ]
  },
  {
   "cell_type": "code",
   "execution_count": 15,
   "id": "68e54fb4",
   "metadata": {
    "execution": {
     "iopub.execute_input": "2024-09-18T18:23:04.518668Z",
     "iopub.status.busy": "2024-09-18T18:23:04.517981Z",
     "iopub.status.idle": "2024-09-18T18:23:04.539860Z",
     "shell.execute_reply": "2024-09-18T18:23:04.538906Z"
    },
    "papermill": {
     "duration": 0.044768,
     "end_time": "2024-09-18T18:23:04.542320",
     "exception": false,
     "start_time": "2024-09-18T18:23:04.497552",
     "status": "completed"
    },
    "tags": []
   },
   "outputs": [
    {
     "name": "stdout",
     "output_type": "stream",
     "text": [
      "               Dtype  Count  #Unique    %Unique  #Null      %Null\n",
      "brand         object   4009       57   1.421801      0   0.000000\n",
      "model         object   4009     1898  47.343477      0   0.000000\n",
      "model_year     int64   4009       34   0.848092      0   0.000000\n",
      "milage        object   4009     2818  70.291843      0   0.000000\n",
      "fuel_type     object   3839        7   0.174607    170   4.240459\n",
      "engine        object   4009     1146  28.585682      0   0.000000\n",
      "transmission  object   4009       62   1.546520      0   0.000000\n",
      "ext_col       object   4009      319   7.957097      0   0.000000\n",
      "int_col       object   4009      156   3.891245      0   0.000000\n",
      "accident      object   3896        2   0.049888    113   2.818658\n",
      "clean_title   object   3413        1   0.024944    596  14.866550\n",
      "price         object   4009     1569  39.136942      0   0.000000\n"
     ]
    }
   ],
   "source": [
    "# Getting more stats of 'original_df'\n",
    "show_stats(original_df)"
   ]
  },
  {
   "cell_type": "markdown",
   "id": "3d4045d8",
   "metadata": {
    "papermill": {
     "duration": 0.020334,
     "end_time": "2024-09-18T18:23:04.590002",
     "exception": false,
     "start_time": "2024-09-18T18:23:04.569668",
     "status": "completed"
    },
    "tags": []
   },
   "source": [
    "Overall, the 'original_df' dataset shares the same structure as the 'train_df' dataset. This is to be expected, as 'train_df' was generated from 'original_df'. The key differences here are that 'original_df' contains no 'id' column and has far fewer entries of data. More specifically, 'train_df' has 188533 entries (rows) of data while 'original_df' has only 4009. Also, it should be noted that the 'milage' and 'price' columns are object type. This is because they contain unnecessary elements, such as a dollar sign and 'mi.'. These will have to be removed in order to convert these columns into int. \n",
    "\n",
    "The 'original_df' dataset also has missing values in the same columns as 'train_df'. In the next section, these datasets will be concatenated and cleaned simultaneously. "
   ]
  },
  {
   "cell_type": "markdown",
   "id": "38c5bea5",
   "metadata": {
    "papermill": {
     "duration": 0.019081,
     "end_time": "2024-09-18T18:23:04.628752",
     "exception": false,
     "start_time": "2024-09-18T18:23:04.609671",
     "status": "completed"
    },
    "tags": []
   },
   "source": [
    "<a id=\"0\"></a>\n",
    "\n",
    "<a href=\"#0\" style=\"background-color:blue; color:white; padding: 7px 10px; text-decoration: none; border-radius: 50px;\">Back to top</a><a id=\"0\"></a>\n",
    "\n",
    "<a id=\"0\"></a>\n",
    "\n",
    "<a href=\"#6\" style=\"background-color:blue; color:white; padding: 7px 10px; text-decoration: none; border-radius: 50px;\">Next Section</a><a id=\"0\"></a>\n",
    "\n",
    "<a id=\"5\"></a>\n",
    "\n",
    "# **Data Cleaning**\n",
    "\n",
    "Objectives:\n",
    "- Remove unnecessary elements from 'price' and 'milage' columns in 'original_df'\n",
    "- Combine 'train_df' and 'original_df' datasets\n",
    "- Resolve missing values for 'fuel_type' \n",
    "- Resolve missing titles for 'accident'\n",
    "- Resolve missing values for 'clean_title'"
   ]
  },
  {
   "cell_type": "markdown",
   "id": "f3ce27a3",
   "metadata": {
    "papermill": {
     "duration": 0.019106,
     "end_time": "2024-09-18T18:23:04.668649",
     "exception": false,
     "start_time": "2024-09-18T18:23:04.649543",
     "status": "completed"
    },
    "tags": []
   },
   "source": [
    "<a id=\"5a\"></a>\n",
    "\n",
    "## **Concatenating Datasets**"
   ]
  },
  {
   "cell_type": "code",
   "execution_count": 16,
   "id": "55fe2d0e",
   "metadata": {
    "execution": {
     "iopub.execute_input": "2024-09-18T18:23:04.708966Z",
     "iopub.status.busy": "2024-09-18T18:23:04.708564Z",
     "iopub.status.idle": "2024-09-18T18:23:04.727440Z",
     "shell.execute_reply": "2024-09-18T18:23:04.726447Z"
    },
    "papermill": {
     "duration": 0.041477,
     "end_time": "2024-09-18T18:23:04.729471",
     "exception": false,
     "start_time": "2024-09-18T18:23:04.687994",
     "status": "completed"
    },
    "tags": []
   },
   "outputs": [],
   "source": [
    "# Removing '$' from 'price' column in 'original_df'\n",
    "# Converting 'price' column to int\n",
    "original_df['price'] = original_df['price'].str.replace('\\W', '', regex=True).astype(int)\n",
    "\n",
    "# Removing 'mi.' from 'milage' column\n",
    "# Converting 'milage' column to int\n",
    "original_df['milage'] = original_df['milage'].str.replace(r'\\D', '', regex=True).astype(int)"
   ]
  },
  {
   "cell_type": "code",
   "execution_count": 17,
   "id": "f876033c",
   "metadata": {
    "execution": {
     "iopub.execute_input": "2024-09-18T18:23:04.770669Z",
     "iopub.status.busy": "2024-09-18T18:23:04.769767Z",
     "iopub.status.idle": "2024-09-18T18:23:05.078380Z",
     "shell.execute_reply": "2024-09-18T18:23:05.077546Z"
    },
    "papermill": {
     "duration": 0.331578,
     "end_time": "2024-09-18T18:23:05.080688",
     "exception": false,
     "start_time": "2024-09-18T18:23:04.749110",
     "status": "completed"
    },
    "tags": []
   },
   "outputs": [],
   "source": [
    "# Concatenating 'train_df' and 'original_df' datasets to increase size of data\n",
    "# Also removing 'id' column from the dataset\n",
    "train = pd.concat([train_df, original_df]).drop(['id'], axis=1).drop_duplicates()"
   ]
  },
  {
   "cell_type": "code",
   "execution_count": 18,
   "id": "eda9462f",
   "metadata": {
    "execution": {
     "iopub.execute_input": "2024-09-18T18:23:05.121466Z",
     "iopub.status.busy": "2024-09-18T18:23:05.120564Z",
     "iopub.status.idle": "2024-09-18T18:23:05.206569Z",
     "shell.execute_reply": "2024-09-18T18:23:05.205456Z"
    },
    "papermill": {
     "duration": 0.108519,
     "end_time": "2024-09-18T18:23:05.208686",
     "exception": false,
     "start_time": "2024-09-18T18:23:05.100167",
     "status": "completed"
    },
    "tags": []
   },
   "outputs": [
    {
     "name": "stdout",
     "output_type": "stream",
     "text": [
      "<class 'pandas.core.frame.DataFrame'>\n",
      "Index: 192542 entries, 0 to 4008\n",
      "Data columns (total 12 columns):\n",
      " #   Column        Non-Null Count   Dtype \n",
      "---  ------        --------------   ----- \n",
      " 0   brand         192542 non-null  object\n",
      " 1   model         192542 non-null  object\n",
      " 2   model_year    192542 non-null  int64 \n",
      " 3   milage        192542 non-null  int64 \n",
      " 4   fuel_type     187289 non-null  object\n",
      " 5   engine        192542 non-null  object\n",
      " 6   transmission  192542 non-null  object\n",
      " 7   ext_col       192542 non-null  object\n",
      " 8   int_col       192542 non-null  object\n",
      " 9   accident      189977 non-null  object\n",
      " 10  clean_title   170527 non-null  object\n",
      " 11  price         192542 non-null  int64 \n",
      "dtypes: int64(3), object(9)\n",
      "memory usage: 19.1+ MB\n"
     ]
    }
   ],
   "source": [
    "# Getting info on new 'train' dataset\n",
    "train.info()"
   ]
  },
  {
   "cell_type": "markdown",
   "id": "0c7c0870",
   "metadata": {
    "papermill": {
     "duration": 0.019603,
     "end_time": "2024-09-18T18:23:05.248320",
     "exception": false,
     "start_time": "2024-09-18T18:23:05.228717",
     "status": "completed"
    },
    "tags": []
   },
   "source": [
    "<a id=\"5b\"></a>\n",
    "\n",
    "## **Missing Values: 'fuel_type'**"
   ]
  },
  {
   "cell_type": "code",
   "execution_count": 19,
   "id": "b70a797f",
   "metadata": {
    "execution": {
     "iopub.execute_input": "2024-09-18T18:23:05.289859Z",
     "iopub.status.busy": "2024-09-18T18:23:05.289084Z",
     "iopub.status.idle": "2024-09-18T18:23:05.303815Z",
     "shell.execute_reply": "2024-09-18T18:23:05.302616Z"
    },
    "papermill": {
     "duration": 0.037768,
     "end_time": "2024-09-18T18:23:05.305842",
     "exception": false,
     "start_time": "2024-09-18T18:23:05.268074",
     "status": "completed"
    },
    "tags": []
   },
   "outputs": [
    {
     "name": "stdout",
     "output_type": "stream",
     "text": [
      "Missing 'fuel_type' values in 'train': 5253\n"
     ]
    }
   ],
   "source": [
    "# Reviewing number of missing values for 'fuel_type' in combined dataset 'train'\n",
    "print(\"Missing 'fuel_type' values in 'train':\", train.fuel_type.isna().sum())"
   ]
  },
  {
   "cell_type": "code",
   "execution_count": 20,
   "id": "13a06fdc",
   "metadata": {
    "execution": {
     "iopub.execute_input": "2024-09-18T18:23:05.347328Z",
     "iopub.status.busy": "2024-09-18T18:23:05.346666Z",
     "iopub.status.idle": "2024-09-18T18:23:05.371319Z",
     "shell.execute_reply": "2024-09-18T18:23:05.369579Z"
    },
    "papermill": {
     "duration": 0.048811,
     "end_time": "2024-09-18T18:23:05.374528",
     "exception": false,
     "start_time": "2024-09-18T18:23:05.325717",
     "status": "completed"
    },
    "tags": []
   },
   "outputs": [
    {
     "data": {
      "text/plain": [
       "fuel_type\n",
       "Gasoline          169249\n",
       "Hybrid              7026\n",
       "E85 Flex Fuel       5545\n",
       "Diesel              4071\n",
       "–                    826\n",
       "Plug-In Hybrid       555\n",
       "not supported         17\n",
       "Name: count, dtype: int64"
      ]
     },
     "execution_count": 20,
     "metadata": {},
     "output_type": "execute_result"
    }
   ],
   "source": [
    "# Verifying number of unique values (categories) in 'fuel_type'\n",
    "train.fuel_type.value_counts()"
   ]
  },
  {
   "cell_type": "markdown",
   "id": "f1e834b4",
   "metadata": {
    "papermill": {
     "duration": 0.024244,
     "end_time": "2024-09-18T18:23:05.427346",
     "exception": false,
     "start_time": "2024-09-18T18:23:05.403102",
     "status": "completed"
    },
    "tags": []
   },
   "source": [
    "Above, we can see the 7 unique values (and their counts) in the 'fuel_type' column. What immediately stands out are the '-' and 'not supported' values. "
   ]
  },
  {
   "cell_type": "code",
   "execution_count": 21,
   "id": "645e4790",
   "metadata": {
    "execution": {
     "iopub.execute_input": "2024-09-18T18:23:05.468129Z",
     "iopub.status.busy": "2024-09-18T18:23:05.467341Z",
     "iopub.status.idle": "2024-09-18T18:23:05.498276Z",
     "shell.execute_reply": "2024-09-18T18:23:05.497344Z"
    },
    "papermill": {
     "duration": 0.053723,
     "end_time": "2024-09-18T18:23:05.500494",
     "exception": false,
     "start_time": "2024-09-18T18:23:05.446771",
     "status": "completed"
    },
    "tags": []
   },
   "outputs": [
    {
     "data": {
      "text/html": [
       "<div>\n",
       "<style scoped>\n",
       "    .dataframe tbody tr th:only-of-type {\n",
       "        vertical-align: middle;\n",
       "    }\n",
       "\n",
       "    .dataframe tbody tr th {\n",
       "        vertical-align: top;\n",
       "    }\n",
       "\n",
       "    .dataframe thead th {\n",
       "        text-align: right;\n",
       "    }\n",
       "</style>\n",
       "<table border=\"1\" class=\"dataframe\">\n",
       "  <thead>\n",
       "    <tr style=\"text-align: right;\">\n",
       "      <th></th>\n",
       "      <th>brand</th>\n",
       "      <th>model</th>\n",
       "      <th>model_year</th>\n",
       "      <th>milage</th>\n",
       "      <th>fuel_type</th>\n",
       "      <th>engine</th>\n",
       "      <th>transmission</th>\n",
       "      <th>ext_col</th>\n",
       "      <th>int_col</th>\n",
       "      <th>accident</th>\n",
       "      <th>clean_title</th>\n",
       "      <th>price</th>\n",
       "    </tr>\n",
       "  </thead>\n",
       "  <tbody>\n",
       "    <tr>\n",
       "      <th>532</th>\n",
       "      <td>Dodge</td>\n",
       "      <td>Challenger R/T Scat Pack</td>\n",
       "      <td>2021</td>\n",
       "      <td>35000</td>\n",
       "      <td>–</td>\n",
       "      <td>–</td>\n",
       "      <td>8-Speed A/T</td>\n",
       "      <td>Blue</td>\n",
       "      <td>Gray</td>\n",
       "      <td>None reported</td>\n",
       "      <td>Yes</td>\n",
       "      <td>48000</td>\n",
       "    </tr>\n",
       "    <tr>\n",
       "      <th>1155</th>\n",
       "      <td>Ford</td>\n",
       "      <td>Mustang GT Premium</td>\n",
       "      <td>2017</td>\n",
       "      <td>143600</td>\n",
       "      <td>–</td>\n",
       "      <td>–</td>\n",
       "      <td>6-Speed M/T</td>\n",
       "      <td>White</td>\n",
       "      <td>Black</td>\n",
       "      <td>At least 1 accident or damage reported</td>\n",
       "      <td>Yes</td>\n",
       "      <td>31000</td>\n",
       "    </tr>\n",
       "    <tr>\n",
       "      <th>1307</th>\n",
       "      <td>Toyota</td>\n",
       "      <td>Land Cruiser Base</td>\n",
       "      <td>1994</td>\n",
       "      <td>138033</td>\n",
       "      <td>–</td>\n",
       "      <td>–</td>\n",
       "      <td>A/T</td>\n",
       "      <td>Green</td>\n",
       "      <td>Beige</td>\n",
       "      <td>None reported</td>\n",
       "      <td>Yes</td>\n",
       "      <td>11999</td>\n",
       "    </tr>\n",
       "    <tr>\n",
       "      <th>1362</th>\n",
       "      <td>Ford</td>\n",
       "      <td>Mustang EcoBoost Premium</td>\n",
       "      <td>2016</td>\n",
       "      <td>43000</td>\n",
       "      <td>–</td>\n",
       "      <td>–</td>\n",
       "      <td>A/T</td>\n",
       "      <td>Blue</td>\n",
       "      <td>Black</td>\n",
       "      <td>None reported</td>\n",
       "      <td>Yes</td>\n",
       "      <td>15500</td>\n",
       "    </tr>\n",
       "    <tr>\n",
       "      <th>1741</th>\n",
       "      <td>Chevrolet</td>\n",
       "      <td>Protege DX</td>\n",
       "      <td>1993</td>\n",
       "      <td>94200</td>\n",
       "      <td>–</td>\n",
       "      <td>–</td>\n",
       "      <td>A/T</td>\n",
       "      <td>Red</td>\n",
       "      <td>Gray</td>\n",
       "      <td>None reported</td>\n",
       "      <td>Yes</td>\n",
       "      <td>7599</td>\n",
       "    </tr>\n",
       "    <tr>\n",
       "      <th>...</th>\n",
       "      <td>...</td>\n",
       "      <td>...</td>\n",
       "      <td>...</td>\n",
       "      <td>...</td>\n",
       "      <td>...</td>\n",
       "      <td>...</td>\n",
       "      <td>...</td>\n",
       "      <td>...</td>\n",
       "      <td>...</td>\n",
       "      <td>...</td>\n",
       "      <td>...</td>\n",
       "      <td>...</td>\n",
       "    </tr>\n",
       "    <tr>\n",
       "      <th>3702</th>\n",
       "      <td>GMC</td>\n",
       "      <td>Sierra 1500 SLE1 Extended Cab</td>\n",
       "      <td>2008</td>\n",
       "      <td>187000</td>\n",
       "      <td>–</td>\n",
       "      <td>–</td>\n",
       "      <td>4-Speed A/T</td>\n",
       "      <td>Red</td>\n",
       "      <td>Gray</td>\n",
       "      <td>At least 1 accident or damage reported</td>\n",
       "      <td>Yes</td>\n",
       "      <td>6100</td>\n",
       "    </tr>\n",
       "    <tr>\n",
       "      <th>3918</th>\n",
       "      <td>Porsche</td>\n",
       "      <td>911 Carrera Cabriolet</td>\n",
       "      <td>1996</td>\n",
       "      <td>38000</td>\n",
       "      <td>–</td>\n",
       "      <td>–</td>\n",
       "      <td>Transmission w/Dual Shift Mode</td>\n",
       "      <td>Blue</td>\n",
       "      <td>Gray</td>\n",
       "      <td>NaN</td>\n",
       "      <td>NaN</td>\n",
       "      <td>75000</td>\n",
       "    </tr>\n",
       "    <tr>\n",
       "      <th>3922</th>\n",
       "      <td>Mazda</td>\n",
       "      <td>Protege DX</td>\n",
       "      <td>1993</td>\n",
       "      <td>94200</td>\n",
       "      <td>–</td>\n",
       "      <td>–</td>\n",
       "      <td>A/T</td>\n",
       "      <td>Gray</td>\n",
       "      <td>–</td>\n",
       "      <td>At least 1 accident or damage reported</td>\n",
       "      <td>Yes</td>\n",
       "      <td>2500</td>\n",
       "    </tr>\n",
       "    <tr>\n",
       "      <th>3952</th>\n",
       "      <td>Dodge</td>\n",
       "      <td>Ram 3500 Quad Cab DRW</td>\n",
       "      <td>2000</td>\n",
       "      <td>188000</td>\n",
       "      <td>–</td>\n",
       "      <td>–</td>\n",
       "      <td>A/T</td>\n",
       "      <td>Silver</td>\n",
       "      <td>Gray</td>\n",
       "      <td>At least 1 accident or damage reported</td>\n",
       "      <td>Yes</td>\n",
       "      <td>10000</td>\n",
       "    </tr>\n",
       "    <tr>\n",
       "      <th>3984</th>\n",
       "      <td>Toyota</td>\n",
       "      <td>Land Cruiser Base</td>\n",
       "      <td>1994</td>\n",
       "      <td>178416</td>\n",
       "      <td>–</td>\n",
       "      <td>–</td>\n",
       "      <td>A/T</td>\n",
       "      <td>Green</td>\n",
       "      <td>Beige</td>\n",
       "      <td>None reported</td>\n",
       "      <td>Yes</td>\n",
       "      <td>9000</td>\n",
       "    </tr>\n",
       "  </tbody>\n",
       "</table>\n",
       "<p>826 rows × 12 columns</p>\n",
       "</div>"
      ],
      "text/plain": [
       "          brand                          model  model_year  milage fuel_type  \\\n",
       "532       Dodge       Challenger R/T Scat Pack        2021   35000         –   \n",
       "1155       Ford             Mustang GT Premium        2017  143600         –   \n",
       "1307     Toyota              Land Cruiser Base        1994  138033         –   \n",
       "1362       Ford       Mustang EcoBoost Premium        2016   43000         –   \n",
       "1741  Chevrolet                     Protege DX        1993   94200         –   \n",
       "...         ...                            ...         ...     ...       ...   \n",
       "3702        GMC  Sierra 1500 SLE1 Extended Cab        2008  187000         –   \n",
       "3918    Porsche          911 Carrera Cabriolet        1996   38000         –   \n",
       "3922      Mazda                     Protege DX        1993   94200         –   \n",
       "3952      Dodge          Ram 3500 Quad Cab DRW        2000  188000         –   \n",
       "3984     Toyota              Land Cruiser Base        1994  178416         –   \n",
       "\n",
       "     engine                    transmission ext_col int_col  \\\n",
       "532       –                     8-Speed A/T    Blue    Gray   \n",
       "1155      –                     6-Speed M/T   White   Black   \n",
       "1307      –                             A/T   Green   Beige   \n",
       "1362      –                             A/T    Blue   Black   \n",
       "1741      –                             A/T     Red    Gray   \n",
       "...     ...                             ...     ...     ...   \n",
       "3702      –                     4-Speed A/T     Red    Gray   \n",
       "3918      –  Transmission w/Dual Shift Mode    Blue    Gray   \n",
       "3922      –                             A/T    Gray       –   \n",
       "3952      –                             A/T  Silver    Gray   \n",
       "3984      –                             A/T   Green   Beige   \n",
       "\n",
       "                                    accident clean_title  price  \n",
       "532                            None reported         Yes  48000  \n",
       "1155  At least 1 accident or damage reported         Yes  31000  \n",
       "1307                           None reported         Yes  11999  \n",
       "1362                           None reported         Yes  15500  \n",
       "1741                           None reported         Yes   7599  \n",
       "...                                      ...         ...    ...  \n",
       "3702  At least 1 accident or damage reported         Yes   6100  \n",
       "3918                                     NaN         NaN  75000  \n",
       "3922  At least 1 accident or damage reported         Yes   2500  \n",
       "3952  At least 1 accident or damage reported         Yes  10000  \n",
       "3984                           None reported         Yes   9000  \n",
       "\n",
       "[826 rows x 12 columns]"
      ]
     },
     "execution_count": 21,
     "metadata": {},
     "output_type": "execute_result"
    }
   ],
   "source": [
    "# Examining examples of entries where 'fuel_type' is '–'\n",
    "train[train['fuel_type']=='–']"
   ]
  },
  {
   "cell_type": "markdown",
   "id": "21456dc3",
   "metadata": {
    "papermill": {
     "duration": 0.019974,
     "end_time": "2024-09-18T18:23:05.540767",
     "exception": false,
     "start_time": "2024-09-18T18:23:05.520793",
     "status": "completed"
    },
    "tags": []
   },
   "source": [
    "Above, we can see several examples of where 'fuel_type' is '–'. Here, we can see that the 'engine' column also contains '–'. Before we go ahead and remove these rows, it would be wise to confirm whether or not all 826 rows contain a '–' in the 'engine' column."
   ]
  },
  {
   "cell_type": "code",
   "execution_count": 22,
   "id": "f04624be",
   "metadata": {
    "execution": {
     "iopub.execute_input": "2024-09-18T18:23:05.584716Z",
     "iopub.status.busy": "2024-09-18T18:23:05.583959Z",
     "iopub.status.idle": "2024-09-18T18:23:05.627046Z",
     "shell.execute_reply": "2024-09-18T18:23:05.626063Z"
    },
    "papermill": {
     "duration": 0.067374,
     "end_time": "2024-09-18T18:23:05.629158",
     "exception": false,
     "start_time": "2024-09-18T18:23:05.561784",
     "status": "completed"
    },
    "tags": []
   },
   "outputs": [
    {
     "data": {
      "text/html": [
       "<div>\n",
       "<style scoped>\n",
       "    .dataframe tbody tr th:only-of-type {\n",
       "        vertical-align: middle;\n",
       "    }\n",
       "\n",
       "    .dataframe tbody tr th {\n",
       "        vertical-align: top;\n",
       "    }\n",
       "\n",
       "    .dataframe thead th {\n",
       "        text-align: right;\n",
       "    }\n",
       "</style>\n",
       "<table border=\"1\" class=\"dataframe\">\n",
       "  <thead>\n",
       "    <tr style=\"text-align: right;\">\n",
       "      <th></th>\n",
       "      <th>brand</th>\n",
       "      <th>model</th>\n",
       "      <th>model_year</th>\n",
       "      <th>milage</th>\n",
       "      <th>fuel_type</th>\n",
       "      <th>engine</th>\n",
       "      <th>transmission</th>\n",
       "      <th>ext_col</th>\n",
       "      <th>int_col</th>\n",
       "      <th>accident</th>\n",
       "      <th>clean_title</th>\n",
       "      <th>price</th>\n",
       "    </tr>\n",
       "  </thead>\n",
       "  <tbody>\n",
       "    <tr>\n",
       "      <th>2138</th>\n",
       "      <td>Saturn</td>\n",
       "      <td>Sky Base</td>\n",
       "      <td>2008</td>\n",
       "      <td>125800</td>\n",
       "      <td>–</td>\n",
       "      <td>140.0HP 1.8L 4 Cylinder Engine Gasoline Fuel</td>\n",
       "      <td>A/T</td>\n",
       "      <td>Blue</td>\n",
       "      <td>Black</td>\n",
       "      <td>None reported</td>\n",
       "      <td>Yes</td>\n",
       "      <td>9950</td>\n",
       "    </tr>\n",
       "    <tr>\n",
       "      <th>2741</th>\n",
       "      <td>Bentley</td>\n",
       "      <td>Continental GT W12</td>\n",
       "      <td>2022</td>\n",
       "      <td>13232</td>\n",
       "      <td>–</td>\n",
       "      <td>582.0HP 6.0L 12 Cylinder Engine Gasoline Fuel</td>\n",
       "      <td>8-Speed A/T</td>\n",
       "      <td>White</td>\n",
       "      <td>Black</td>\n",
       "      <td>None reported</td>\n",
       "      <td>Yes</td>\n",
       "      <td>52000</td>\n",
       "    </tr>\n",
       "    <tr>\n",
       "      <th>8607</th>\n",
       "      <td>Ford</td>\n",
       "      <td>Excursion XLT 4WD</td>\n",
       "      <td>2000</td>\n",
       "      <td>93000</td>\n",
       "      <td>–</td>\n",
       "      <td>310.0HP 6.8L 10 Cylinder Engine Gasoline Fuel</td>\n",
       "      <td>A/T</td>\n",
       "      <td>Silver</td>\n",
       "      <td>Black</td>\n",
       "      <td>At least 1 accident or damage reported</td>\n",
       "      <td>Yes</td>\n",
       "      <td>28500</td>\n",
       "    </tr>\n",
       "    <tr>\n",
       "      <th>15550</th>\n",
       "      <td>RAM</td>\n",
       "      <td>1500 Rebel</td>\n",
       "      <td>2018</td>\n",
       "      <td>11000</td>\n",
       "      <td>–</td>\n",
       "      <td>395.0HP 5.7L 8 Cylinder Engine Gasoline/Mild E...</td>\n",
       "      <td>A/T</td>\n",
       "      <td>White</td>\n",
       "      <td>Black</td>\n",
       "      <td>None reported</td>\n",
       "      <td>Yes</td>\n",
       "      <td>105000</td>\n",
       "    </tr>\n",
       "    <tr>\n",
       "      <th>23676</th>\n",
       "      <td>Nissan</td>\n",
       "      <td>Juke SL</td>\n",
       "      <td>2019</td>\n",
       "      <td>46000</td>\n",
       "      <td>–</td>\n",
       "      <td>188.0HP 1.6L 4 Cylinder Engine Gasoline Fuel</td>\n",
       "      <td>CVT Transmission</td>\n",
       "      <td>White</td>\n",
       "      <td>Gray</td>\n",
       "      <td>At least 1 accident or damage reported</td>\n",
       "      <td>Yes</td>\n",
       "      <td>59000</td>\n",
       "    </tr>\n",
       "    <tr>\n",
       "      <th>105015</th>\n",
       "      <td>Toyota</td>\n",
       "      <td>Tacoma TRD Pro</td>\n",
       "      <td>2018</td>\n",
       "      <td>31678</td>\n",
       "      <td>–</td>\n",
       "      <td>3.5 Liter</td>\n",
       "      <td>Automatic</td>\n",
       "      <td>Midnight Black Metallic</td>\n",
       "      <td>Graphite w/Gun Metal</td>\n",
       "      <td>None reported</td>\n",
       "      <td>NaN</td>\n",
       "      <td>40998</td>\n",
       "    </tr>\n",
       "    <tr>\n",
       "      <th>112813</th>\n",
       "      <td>RAM</td>\n",
       "      <td>1500 Classic Tradesman</td>\n",
       "      <td>2017</td>\n",
       "      <td>133338</td>\n",
       "      <td>–</td>\n",
       "      <td>3.6L V6 24V MPFI DOHC</td>\n",
       "      <td>8-Speed Automatic</td>\n",
       "      <td>Ruby Flare Pearl</td>\n",
       "      <td>Black</td>\n",
       "      <td>At least 1 accident or damage reported</td>\n",
       "      <td>Yes</td>\n",
       "      <td>45999</td>\n",
       "    </tr>\n",
       "    <tr>\n",
       "      <th>128224</th>\n",
       "      <td>BMW</td>\n",
       "      <td>M3 Base</td>\n",
       "      <td>2008</td>\n",
       "      <td>58000</td>\n",
       "      <td>–</td>\n",
       "      <td>333.0HP 3.2L Straight 6 Cylinder Engine Gasoli...</td>\n",
       "      <td>6-Speed M/T</td>\n",
       "      <td>White</td>\n",
       "      <td>Black</td>\n",
       "      <td>At least 1 accident or damage reported</td>\n",
       "      <td>Yes</td>\n",
       "      <td>41500</td>\n",
       "    </tr>\n",
       "    <tr>\n",
       "      <th>187495</th>\n",
       "      <td>Nissan</td>\n",
       "      <td>Pathfinder SL</td>\n",
       "      <td>2014</td>\n",
       "      <td>87305</td>\n",
       "      <td>–</td>\n",
       "      <td>284.0HP 3.5L V6 Cylinder Engine Gasoline Fuel</td>\n",
       "      <td>A/T</td>\n",
       "      <td>Brown</td>\n",
       "      <td>Gray</td>\n",
       "      <td>At least 1 accident or damage reported</td>\n",
       "      <td>Yes</td>\n",
       "      <td>10000</td>\n",
       "    </tr>\n",
       "  </tbody>\n",
       "</table>\n",
       "</div>"
      ],
      "text/plain": [
       "          brand                   model  model_year  milage fuel_type  \\\n",
       "2138     Saturn                Sky Base        2008  125800         –   \n",
       "2741    Bentley      Continental GT W12        2022   13232         –   \n",
       "8607       Ford       Excursion XLT 4WD        2000   93000         –   \n",
       "15550       RAM              1500 Rebel        2018   11000         –   \n",
       "23676    Nissan                 Juke SL        2019   46000         –   \n",
       "105015   Toyota          Tacoma TRD Pro        2018   31678         –   \n",
       "112813      RAM  1500 Classic Tradesman        2017  133338         –   \n",
       "128224      BMW                 M3 Base        2008   58000         –   \n",
       "187495   Nissan           Pathfinder SL        2014   87305         –   \n",
       "\n",
       "                                                   engine       transmission  \\\n",
       "2138         140.0HP 1.8L 4 Cylinder Engine Gasoline Fuel                A/T   \n",
       "2741        582.0HP 6.0L 12 Cylinder Engine Gasoline Fuel        8-Speed A/T   \n",
       "8607        310.0HP 6.8L 10 Cylinder Engine Gasoline Fuel                A/T   \n",
       "15550   395.0HP 5.7L 8 Cylinder Engine Gasoline/Mild E...                A/T   \n",
       "23676        188.0HP 1.6L 4 Cylinder Engine Gasoline Fuel   CVT Transmission   \n",
       "105015                                          3.5 Liter          Automatic   \n",
       "112813                              3.6L V6 24V MPFI DOHC  8-Speed Automatic   \n",
       "128224  333.0HP 3.2L Straight 6 Cylinder Engine Gasoli...        6-Speed M/T   \n",
       "187495      284.0HP 3.5L V6 Cylinder Engine Gasoline Fuel                A/T   \n",
       "\n",
       "                        ext_col               int_col  \\\n",
       "2138                       Blue                 Black   \n",
       "2741                      White                 Black   \n",
       "8607                     Silver                 Black   \n",
       "15550                     White                 Black   \n",
       "23676                     White                  Gray   \n",
       "105015  Midnight Black Metallic  Graphite w/Gun Metal   \n",
       "112813         Ruby Flare Pearl                 Black   \n",
       "128224                    White                 Black   \n",
       "187495                    Brown                  Gray   \n",
       "\n",
       "                                      accident clean_title   price  \n",
       "2138                             None reported         Yes    9950  \n",
       "2741                             None reported         Yes   52000  \n",
       "8607    At least 1 accident or damage reported         Yes   28500  \n",
       "15550                            None reported         Yes  105000  \n",
       "23676   At least 1 accident or damage reported         Yes   59000  \n",
       "105015                           None reported         NaN   40998  \n",
       "112813  At least 1 accident or damage reported         Yes   45999  \n",
       "128224  At least 1 accident or damage reported         Yes   41500  \n",
       "187495  At least 1 accident or damage reported         Yes   10000  "
      ]
     },
     "execution_count": 22,
     "metadata": {},
     "output_type": "execute_result"
    }
   ],
   "source": [
    "# Examining rows where 'fuel_type' is '–' but 'engine' is NOT '–'\n",
    "train[(train['fuel_type']=='–') & (train['engine']!='–')]"
   ]
  },
  {
   "cell_type": "markdown",
   "id": "1f04ddea",
   "metadata": {
    "papermill": {
     "duration": 0.023965,
     "end_time": "2024-09-18T18:23:05.675168",
     "exception": false,
     "start_time": "2024-09-18T18:23:05.651203",
     "status": "completed"
    },
    "tags": []
   },
   "source": [
    "Above, we find that 9 of the 826 rows do actually have some entries in the 'engine' column. With some basic inference, we can determine that the 'fuel_type' for these entries should probably be 'Gasoline'. The next line of code will work to fill in these values. "
   ]
  },
  {
   "cell_type": "code",
   "execution_count": 23,
   "id": "15bca084",
   "metadata": {
    "execution": {
     "iopub.execute_input": "2024-09-18T18:23:05.727870Z",
     "iopub.status.busy": "2024-09-18T18:23:05.727421Z",
     "iopub.status.idle": "2024-09-18T18:23:05.766634Z",
     "shell.execute_reply": "2024-09-18T18:23:05.765620Z"
    },
    "papermill": {
     "duration": 0.069533,
     "end_time": "2024-09-18T18:23:05.768701",
     "exception": false,
     "start_time": "2024-09-18T18:23:05.699168",
     "status": "completed"
    },
    "tags": []
   },
   "outputs": [],
   "source": [
    "# Replacing 'fuel_type' with 'Gasoline' where 'fuel_type' is '–' and 'engine' is NOT '–'\n",
    "train.loc[(train['fuel_type']=='–') & (train['engine']!='–'),'fuel_type'] = 'Gasoline' "
   ]
  },
  {
   "cell_type": "code",
   "execution_count": 24,
   "id": "7064b5bf",
   "metadata": {
    "execution": {
     "iopub.execute_input": "2024-09-18T18:23:05.811247Z",
     "iopub.status.busy": "2024-09-18T18:23:05.810340Z",
     "iopub.status.idle": "2024-09-18T18:23:05.848449Z",
     "shell.execute_reply": "2024-09-18T18:23:05.847417Z"
    },
    "papermill": {
     "duration": 0.061817,
     "end_time": "2024-09-18T18:23:05.850803",
     "exception": false,
     "start_time": "2024-09-18T18:23:05.788986",
     "status": "completed"
    },
    "tags": []
   },
   "outputs": [],
   "source": [
    "# Dropping remaining rows where 'fuel_type' is '–'\n",
    "train = train[~train['fuel_type'].isin(['–'])]\n",
    "train.reset_index(drop=True, inplace=True)"
   ]
  },
  {
   "cell_type": "code",
   "execution_count": 25,
   "id": "940538eb",
   "metadata": {
    "execution": {
     "iopub.execute_input": "2024-09-18T18:23:05.894040Z",
     "iopub.status.busy": "2024-09-18T18:23:05.893151Z",
     "iopub.status.idle": "2024-09-18T18:23:05.914465Z",
     "shell.execute_reply": "2024-09-18T18:23:05.913487Z"
    },
    "papermill": {
     "duration": 0.045137,
     "end_time": "2024-09-18T18:23:05.916525",
     "exception": false,
     "start_time": "2024-09-18T18:23:05.871388",
     "status": "completed"
    },
    "tags": []
   },
   "outputs": [
    {
     "data": {
      "text/plain": [
       "fuel_type\n",
       "Gasoline          169258\n",
       "Hybrid              7026\n",
       "E85 Flex Fuel       5545\n",
       "Diesel              4071\n",
       "Plug-In Hybrid       555\n",
       "not supported         17\n",
       "Name: count, dtype: int64"
      ]
     },
     "execution_count": 25,
     "metadata": {},
     "output_type": "execute_result"
    }
   ],
   "source": [
    "# Verifying changes to 'train'\n",
    "# Note: there should no longer be any entries with '–'\n",
    "train.fuel_type.value_counts()"
   ]
  },
  {
   "cell_type": "code",
   "execution_count": 26,
   "id": "0170107a",
   "metadata": {
    "execution": {
     "iopub.execute_input": "2024-09-18T18:23:05.960091Z",
     "iopub.status.busy": "2024-09-18T18:23:05.959334Z",
     "iopub.status.idle": "2024-09-18T18:23:05.991074Z",
     "shell.execute_reply": "2024-09-18T18:23:05.990070Z"
    },
    "papermill": {
     "duration": 0.05612,
     "end_time": "2024-09-18T18:23:05.993298",
     "exception": false,
     "start_time": "2024-09-18T18:23:05.937178",
     "status": "completed"
    },
    "tags": []
   },
   "outputs": [
    {
     "data": {
      "text/html": [
       "<div>\n",
       "<style scoped>\n",
       "    .dataframe tbody tr th:only-of-type {\n",
       "        vertical-align: middle;\n",
       "    }\n",
       "\n",
       "    .dataframe tbody tr th {\n",
       "        vertical-align: top;\n",
       "    }\n",
       "\n",
       "    .dataframe thead th {\n",
       "        text-align: right;\n",
       "    }\n",
       "</style>\n",
       "<table border=\"1\" class=\"dataframe\">\n",
       "  <thead>\n",
       "    <tr style=\"text-align: right;\">\n",
       "      <th></th>\n",
       "      <th>brand</th>\n",
       "      <th>model</th>\n",
       "      <th>model_year</th>\n",
       "      <th>milage</th>\n",
       "      <th>fuel_type</th>\n",
       "      <th>engine</th>\n",
       "      <th>transmission</th>\n",
       "      <th>ext_col</th>\n",
       "      <th>int_col</th>\n",
       "      <th>accident</th>\n",
       "      <th>clean_title</th>\n",
       "      <th>price</th>\n",
       "    </tr>\n",
       "  </thead>\n",
       "  <tbody>\n",
       "    <tr>\n",
       "      <th>4808</th>\n",
       "      <td>Chevrolet</td>\n",
       "      <td>Suburban LT</td>\n",
       "      <td>2011</td>\n",
       "      <td>109646</td>\n",
       "      <td>not supported</td>\n",
       "      <td>320.0HP 5.3L 8 Cylinder Engine Flex Fuel Capab...</td>\n",
       "      <td>6-Speed A/T</td>\n",
       "      <td>Black</td>\n",
       "      <td>Beige</td>\n",
       "      <td>None reported</td>\n",
       "      <td>Yes</td>\n",
       "      <td>18998</td>\n",
       "    </tr>\n",
       "    <tr>\n",
       "      <th>17940</th>\n",
       "      <td>Porsche</td>\n",
       "      <td>Camaro 2SS</td>\n",
       "      <td>2015</td>\n",
       "      <td>67000</td>\n",
       "      <td>not supported</td>\n",
       "      <td>240.0HP 2.0L 4 Cylinder Engine Gasoline Fuel</td>\n",
       "      <td>Transmission w/Dual Shift Mode</td>\n",
       "      <td>Black</td>\n",
       "      <td>Black</td>\n",
       "      <td>None reported</td>\n",
       "      <td>Yes</td>\n",
       "      <td>11500</td>\n",
       "    </tr>\n",
       "    <tr>\n",
       "      <th>19117</th>\n",
       "      <td>Nissan</td>\n",
       "      <td>Mirai Limited</td>\n",
       "      <td>2000</td>\n",
       "      <td>131000</td>\n",
       "      <td>not supported</td>\n",
       "      <td>182.0HP Electric Motor Hydrogen Fuel</td>\n",
       "      <td>A/T</td>\n",
       "      <td>Silver</td>\n",
       "      <td>Black</td>\n",
       "      <td>None reported</td>\n",
       "      <td>Yes</td>\n",
       "      <td>5000</td>\n",
       "    </tr>\n",
       "    <tr>\n",
       "      <th>27101</th>\n",
       "      <td>Subaru</td>\n",
       "      <td>Outback 2.5i Limited</td>\n",
       "      <td>2017</td>\n",
       "      <td>116000</td>\n",
       "      <td>not supported</td>\n",
       "      <td>175.0HP 2.5L 4 Cylinder Engine Gasoline Fuel</td>\n",
       "      <td>CVT Transmission</td>\n",
       "      <td>Gray</td>\n",
       "      <td>Black</td>\n",
       "      <td>At least 1 accident or damage reported</td>\n",
       "      <td>Yes</td>\n",
       "      <td>27499</td>\n",
       "    </tr>\n",
       "    <tr>\n",
       "      <th>32915</th>\n",
       "      <td>Nissan</td>\n",
       "      <td>Mirai Limited</td>\n",
       "      <td>2009</td>\n",
       "      <td>137333</td>\n",
       "      <td>not supported</td>\n",
       "      <td>182.0HP Electric Motor Hydrogen Fuel</td>\n",
       "      <td>A/T</td>\n",
       "      <td>White</td>\n",
       "      <td>Gray</td>\n",
       "      <td>At least 1 accident or damage reported</td>\n",
       "      <td>Yes</td>\n",
       "      <td>12999</td>\n",
       "    </tr>\n",
       "    <tr>\n",
       "      <th>60475</th>\n",
       "      <td>Chevrolet</td>\n",
       "      <td>Silverado 1500 RST</td>\n",
       "      <td>2020</td>\n",
       "      <td>19200</td>\n",
       "      <td>not supported</td>\n",
       "      <td>355.0HP 5.3L 8 Cylinder Engine Gasoline Fuel</td>\n",
       "      <td>10-Speed A/T</td>\n",
       "      <td>White</td>\n",
       "      <td>Black</td>\n",
       "      <td>At least 1 accident or damage reported</td>\n",
       "      <td>Yes</td>\n",
       "      <td>58000</td>\n",
       "    </tr>\n",
       "    <tr>\n",
       "      <th>73802</th>\n",
       "      <td>Toyota</td>\n",
       "      <td>Mirai Limited</td>\n",
       "      <td>2021</td>\n",
       "      <td>79876</td>\n",
       "      <td>not supported</td>\n",
       "      <td>182.0HP Electric Motor Hydrogen Fuel</td>\n",
       "      <td>A/T</td>\n",
       "      <td>Red</td>\n",
       "      <td>Black</td>\n",
       "      <td>None reported</td>\n",
       "      <td>Yes</td>\n",
       "      <td>15000</td>\n",
       "    </tr>\n",
       "    <tr>\n",
       "      <th>86548</th>\n",
       "      <td>Lexus</td>\n",
       "      <td>IS 350 F Sport</td>\n",
       "      <td>2022</td>\n",
       "      <td>9500</td>\n",
       "      <td>not supported</td>\n",
       "      <td>311.0HP 3.5L V6 Cylinder Engine Gasoline Fuel</td>\n",
       "      <td>A/T</td>\n",
       "      <td>Gray</td>\n",
       "      <td>Black</td>\n",
       "      <td>None reported</td>\n",
       "      <td>Yes</td>\n",
       "      <td>60000</td>\n",
       "    </tr>\n",
       "    <tr>\n",
       "      <th>94047</th>\n",
       "      <td>Porsche</td>\n",
       "      <td>Cayenne Turbo GT</td>\n",
       "      <td>2018</td>\n",
       "      <td>52000</td>\n",
       "      <td>not supported</td>\n",
       "      <td>550.0HP 4.8L 8 Cylinder Engine Gasoline Fuel</td>\n",
       "      <td>Transmission w/Dual Shift Mode</td>\n",
       "      <td>Gray</td>\n",
       "      <td>Gray</td>\n",
       "      <td>At least 1 accident or damage reported</td>\n",
       "      <td>Yes</td>\n",
       "      <td>35000</td>\n",
       "    </tr>\n",
       "    <tr>\n",
       "      <th>126552</th>\n",
       "      <td>Toyota</td>\n",
       "      <td>Mirai Limited</td>\n",
       "      <td>2016</td>\n",
       "      <td>58664</td>\n",
       "      <td>not supported</td>\n",
       "      <td>151.0HP Electric Motor Hydrogen Fuel</td>\n",
       "      <td>CVT Transmission</td>\n",
       "      <td>Black</td>\n",
       "      <td>Black</td>\n",
       "      <td>At least 1 accident or damage reported</td>\n",
       "      <td>Yes</td>\n",
       "      <td>22500</td>\n",
       "    </tr>\n",
       "    <tr>\n",
       "      <th>128396</th>\n",
       "      <td>Mazda</td>\n",
       "      <td>MX-5 Miata Base</td>\n",
       "      <td>1999</td>\n",
       "      <td>120000</td>\n",
       "      <td>not supported</td>\n",
       "      <td>140.0HP 1.8L 4 Cylinder Engine Gasoline Fuel</td>\n",
       "      <td>5-Speed M/T</td>\n",
       "      <td>Black</td>\n",
       "      <td>Beige</td>\n",
       "      <td>At least 1 accident or damage reported</td>\n",
       "      <td>Yes</td>\n",
       "      <td>4000</td>\n",
       "    </tr>\n",
       "    <tr>\n",
       "      <th>135322</th>\n",
       "      <td>Lexus</td>\n",
       "      <td>Mirai Limited</td>\n",
       "      <td>2014</td>\n",
       "      <td>123331</td>\n",
       "      <td>not supported</td>\n",
       "      <td>182.0HP Electric Motor Hydrogen Fuel</td>\n",
       "      <td>A/T</td>\n",
       "      <td>Red</td>\n",
       "      <td>Gray</td>\n",
       "      <td>At least 1 accident or damage reported</td>\n",
       "      <td>Yes</td>\n",
       "      <td>11495</td>\n",
       "    </tr>\n",
       "    <tr>\n",
       "      <th>139644</th>\n",
       "      <td>Lexus</td>\n",
       "      <td>RX 330 Base</td>\n",
       "      <td>2006</td>\n",
       "      <td>110000</td>\n",
       "      <td>not supported</td>\n",
       "      <td>230.0HP 3.3L V6 Cylinder Engine Gasoline Fuel</td>\n",
       "      <td>5-Speed A/T</td>\n",
       "      <td>White</td>\n",
       "      <td>Beige</td>\n",
       "      <td>At least 1 accident or damage reported</td>\n",
       "      <td>Yes</td>\n",
       "      <td>9500</td>\n",
       "    </tr>\n",
       "    <tr>\n",
       "      <th>170426</th>\n",
       "      <td>Hummer</td>\n",
       "      <td>H2 Base</td>\n",
       "      <td>2013</td>\n",
       "      <td>152068</td>\n",
       "      <td>not supported</td>\n",
       "      <td>316.0HP 6.0L 8 Cylinder Engine Gasoline Fuel</td>\n",
       "      <td>A/T</td>\n",
       "      <td>Black</td>\n",
       "      <td>Black</td>\n",
       "      <td>At least 1 accident or damage reported</td>\n",
       "      <td>Yes</td>\n",
       "      <td>14000</td>\n",
       "    </tr>\n",
       "    <tr>\n",
       "      <th>170964</th>\n",
       "      <td>Toyota</td>\n",
       "      <td>Mirai Limited</td>\n",
       "      <td>2021</td>\n",
       "      <td>44000</td>\n",
       "      <td>not supported</td>\n",
       "      <td>182.0HP Electric Motor Hydrogen Fuel</td>\n",
       "      <td>A/T</td>\n",
       "      <td>Gray</td>\n",
       "      <td>Black</td>\n",
       "      <td>None reported</td>\n",
       "      <td>Yes</td>\n",
       "      <td>4900</td>\n",
       "    </tr>\n",
       "    <tr>\n",
       "      <th>190622</th>\n",
       "      <td>Toyota</td>\n",
       "      <td>Mirai Limited</td>\n",
       "      <td>2021</td>\n",
       "      <td>44000</td>\n",
       "      <td>not supported</td>\n",
       "      <td>182.0HP Electric Motor Hydrogen Fuel</td>\n",
       "      <td>A/T</td>\n",
       "      <td>Gray</td>\n",
       "      <td>Black</td>\n",
       "      <td>None reported</td>\n",
       "      <td>Yes</td>\n",
       "      <td>18500</td>\n",
       "    </tr>\n",
       "    <tr>\n",
       "      <th>191421</th>\n",
       "      <td>Toyota</td>\n",
       "      <td>Mirai Base</td>\n",
       "      <td>2016</td>\n",
       "      <td>40000</td>\n",
       "      <td>not supported</td>\n",
       "      <td>151.0HP Electric Motor Hydrogen Fuel</td>\n",
       "      <td>A/T</td>\n",
       "      <td>Silver</td>\n",
       "      <td>Black</td>\n",
       "      <td>None reported</td>\n",
       "      <td>Yes</td>\n",
       "      <td>9500</td>\n",
       "    </tr>\n",
       "  </tbody>\n",
       "</table>\n",
       "</div>"
      ],
      "text/plain": [
       "            brand                 model  model_year  milage      fuel_type  \\\n",
       "4808    Chevrolet           Suburban LT        2011  109646  not supported   \n",
       "17940     Porsche            Camaro 2SS        2015   67000  not supported   \n",
       "19117      Nissan         Mirai Limited        2000  131000  not supported   \n",
       "27101      Subaru  Outback 2.5i Limited        2017  116000  not supported   \n",
       "32915      Nissan         Mirai Limited        2009  137333  not supported   \n",
       "60475   Chevrolet    Silverado 1500 RST        2020   19200  not supported   \n",
       "73802      Toyota         Mirai Limited        2021   79876  not supported   \n",
       "86548       Lexus        IS 350 F Sport        2022    9500  not supported   \n",
       "94047     Porsche      Cayenne Turbo GT        2018   52000  not supported   \n",
       "126552     Toyota         Mirai Limited        2016   58664  not supported   \n",
       "128396      Mazda       MX-5 Miata Base        1999  120000  not supported   \n",
       "135322      Lexus         Mirai Limited        2014  123331  not supported   \n",
       "139644      Lexus           RX 330 Base        2006  110000  not supported   \n",
       "170426     Hummer               H2 Base        2013  152068  not supported   \n",
       "170964     Toyota         Mirai Limited        2021   44000  not supported   \n",
       "190622     Toyota         Mirai Limited        2021   44000  not supported   \n",
       "191421     Toyota            Mirai Base        2016   40000  not supported   \n",
       "\n",
       "                                                   engine  \\\n",
       "4808    320.0HP 5.3L 8 Cylinder Engine Flex Fuel Capab...   \n",
       "17940        240.0HP 2.0L 4 Cylinder Engine Gasoline Fuel   \n",
       "19117                182.0HP Electric Motor Hydrogen Fuel   \n",
       "27101        175.0HP 2.5L 4 Cylinder Engine Gasoline Fuel   \n",
       "32915                182.0HP Electric Motor Hydrogen Fuel   \n",
       "60475        355.0HP 5.3L 8 Cylinder Engine Gasoline Fuel   \n",
       "73802                182.0HP Electric Motor Hydrogen Fuel   \n",
       "86548       311.0HP 3.5L V6 Cylinder Engine Gasoline Fuel   \n",
       "94047        550.0HP 4.8L 8 Cylinder Engine Gasoline Fuel   \n",
       "126552               151.0HP Electric Motor Hydrogen Fuel   \n",
       "128396       140.0HP 1.8L 4 Cylinder Engine Gasoline Fuel   \n",
       "135322               182.0HP Electric Motor Hydrogen Fuel   \n",
       "139644      230.0HP 3.3L V6 Cylinder Engine Gasoline Fuel   \n",
       "170426       316.0HP 6.0L 8 Cylinder Engine Gasoline Fuel   \n",
       "170964               182.0HP Electric Motor Hydrogen Fuel   \n",
       "190622               182.0HP Electric Motor Hydrogen Fuel   \n",
       "191421               151.0HP Electric Motor Hydrogen Fuel   \n",
       "\n",
       "                          transmission ext_col int_col  \\\n",
       "4808                       6-Speed A/T   Black   Beige   \n",
       "17940   Transmission w/Dual Shift Mode   Black   Black   \n",
       "19117                              A/T  Silver   Black   \n",
       "27101                 CVT Transmission    Gray   Black   \n",
       "32915                              A/T   White    Gray   \n",
       "60475                     10-Speed A/T   White   Black   \n",
       "73802                              A/T     Red   Black   \n",
       "86548                              A/T    Gray   Black   \n",
       "94047   Transmission w/Dual Shift Mode    Gray    Gray   \n",
       "126552                CVT Transmission   Black   Black   \n",
       "128396                     5-Speed M/T   Black   Beige   \n",
       "135322                             A/T     Red    Gray   \n",
       "139644                     5-Speed A/T   White   Beige   \n",
       "170426                             A/T   Black   Black   \n",
       "170964                             A/T    Gray   Black   \n",
       "190622                             A/T    Gray   Black   \n",
       "191421                             A/T  Silver   Black   \n",
       "\n",
       "                                      accident clean_title  price  \n",
       "4808                             None reported         Yes  18998  \n",
       "17940                            None reported         Yes  11500  \n",
       "19117                            None reported         Yes   5000  \n",
       "27101   At least 1 accident or damage reported         Yes  27499  \n",
       "32915   At least 1 accident or damage reported         Yes  12999  \n",
       "60475   At least 1 accident or damage reported         Yes  58000  \n",
       "73802                            None reported         Yes  15000  \n",
       "86548                            None reported         Yes  60000  \n",
       "94047   At least 1 accident or damage reported         Yes  35000  \n",
       "126552  At least 1 accident or damage reported         Yes  22500  \n",
       "128396  At least 1 accident or damage reported         Yes   4000  \n",
       "135322  At least 1 accident or damage reported         Yes  11495  \n",
       "139644  At least 1 accident or damage reported         Yes   9500  \n",
       "170426  At least 1 accident or damage reported         Yes  14000  \n",
       "170964                           None reported         Yes   4900  \n",
       "190622                           None reported         Yes  18500  \n",
       "191421                           None reported         Yes   9500  "
      ]
     },
     "execution_count": 26,
     "metadata": {},
     "output_type": "execute_result"
    }
   ],
   "source": [
    "# Examining cases where 'fuel_type' is 'not supported'\n",
    "train[train['fuel_type']=='not supported']"
   ]
  },
  {
   "cell_type": "markdown",
   "id": "4e22a3ec",
   "metadata": {
    "papermill": {
     "duration": 0.020877,
     "end_time": "2024-09-18T18:23:06.036034",
     "exception": false,
     "start_time": "2024-09-18T18:23:06.015157",
     "status": "completed"
    },
    "tags": []
   },
   "source": [
    "Above, we can see the rows where 'fuel_type' is 'not supported'. We can argue that some of these should be 'Gasoline' where the 'engine' column contains any mention of a gasoline/cylinder engine, e.g. \"311.0HP 3.5L V6 Cylinder Engine Gasoline Fuel\". In contrast, the other rows where the 'engine' column mentions hydrogen fuel should be classified as 'Hybrid'. These rows will be assigned accordingly in the next line of code."
   ]
  },
  {
   "cell_type": "code",
   "execution_count": 27,
   "id": "334a6e27",
   "metadata": {
    "execution": {
     "iopub.execute_input": "2024-09-18T18:23:06.080343Z",
     "iopub.status.busy": "2024-09-18T18:23:06.079618Z",
     "iopub.status.idle": "2024-09-18T18:23:06.422065Z",
     "shell.execute_reply": "2024-09-18T18:23:06.420991Z"
    },
    "papermill": {
     "duration": 0.367128,
     "end_time": "2024-09-18T18:23:06.424470",
     "exception": false,
     "start_time": "2024-09-18T18:23:06.057342",
     "status": "completed"
    },
    "tags": []
   },
   "outputs": [],
   "source": [
    "# Replacing 'not supported' with 'Gasoline' where 'engine' column contains 'Cylinder'\n",
    "train.loc[(train['fuel_type']=='not supported') & (train['engine'].str.contains('Cylinder', case=False, na=False)), 'fuel_type'] = 'Gasoline'\n",
    "\n",
    "# Replacing 'not supported' with 'Hybrid' where 'engine' columns contains 'Hydrogen'\n",
    "train.loc[(train['fuel_type']=='not supported') & (train['engine'].str.contains('Hydrogen', case=False, na=False)), 'fuel_type'] = 'Hybrid'"
   ]
  },
  {
   "cell_type": "code",
   "execution_count": 28,
   "id": "ac69e374",
   "metadata": {
    "execution": {
     "iopub.execute_input": "2024-09-18T18:23:06.468630Z",
     "iopub.status.busy": "2024-09-18T18:23:06.467710Z",
     "iopub.status.idle": "2024-09-18T18:23:06.488829Z",
     "shell.execute_reply": "2024-09-18T18:23:06.487888Z"
    },
    "papermill": {
     "duration": 0.045211,
     "end_time": "2024-09-18T18:23:06.490723",
     "exception": false,
     "start_time": "2024-09-18T18:23:06.445512",
     "status": "completed"
    },
    "tags": []
   },
   "outputs": [
    {
     "data": {
      "text/plain": [
       "fuel_type\n",
       "Gasoline          169267\n",
       "Hybrid              7034\n",
       "E85 Flex Fuel       5545\n",
       "Diesel              4071\n",
       "Plug-In Hybrid       555\n",
       "Name: count, dtype: int64"
      ]
     },
     "execution_count": 28,
     "metadata": {},
     "output_type": "execute_result"
    }
   ],
   "source": [
    "# Verifying changes to 'train'\n",
    "# Note: there should no longer be any entries with 'not supported'\n",
    "train.fuel_type.value_counts()"
   ]
  },
  {
   "cell_type": "markdown",
   "id": "38b01a95",
   "metadata": {
    "papermill": {
     "duration": 0.020998,
     "end_time": "2024-09-18T18:23:06.533112",
     "exception": false,
     "start_time": "2024-09-18T18:23:06.512114",
     "status": "completed"
    },
    "tags": []
   },
   "source": [
    "We have now corrected the rows where 'fuel_type' was either '–' or 'not supported'. However, we still need to deal with the 5253 missing values. The code chunk below has been adapted from a great piece of work by Wissam Elias & Ismail Alshofi (listed in the References section). This code assigns the likely correct fuel types based upon either the 'engine', 'brand', or 'model' columns containing particular strings. For example, we can fill in missing values for 'fuel_type' as 'Flex' where the 'engine' column contains the string 'Flex'. Or we can assign the 'fuel_type' as 'Hybrid' where the 'model' column contains the string 'Hybrid'. The process is similar to the steps that I have taken above.   "
   ]
  },
  {
   "cell_type": "code",
   "execution_count": 29,
   "id": "41353f71",
   "metadata": {
    "execution": {
     "iopub.execute_input": "2024-09-18T18:23:06.577723Z",
     "iopub.status.busy": "2024-09-18T18:23:06.576781Z",
     "iopub.status.idle": "2024-09-18T18:23:09.365302Z",
     "shell.execute_reply": "2024-09-18T18:23:09.364446Z"
    },
    "papermill": {
     "duration": 2.813667,
     "end_time": "2024-09-18T18:23:09.367903",
     "exception": false,
     "start_time": "2024-09-18T18:23:06.554236",
     "status": "completed"
    },
    "tags": []
   },
   "outputs": [],
   "source": [
    "# Kudos to Wissam Elias & Ismail Alshofi for this adapted code! \n",
    "\n",
    "# Assigning 'fuel_type' as 'E85 Flex Fuel' where 'engine' column contains 'Flex'\n",
    "train.loc[(train['fuel_type'].isna()) & (train['engine'].str.contains(\"Flex\", case=False, na=False)), 'fuel_type'] = 'E85 Flex Fuel'\n",
    "\n",
    "# Assigning as 'Hybrid' where 'engine' contains 'Dual', 'Electric', 'Battery', 'kW', 'AH'\n",
    "# Also where 'brand' contains 'Tesla' & where 'model' contains 'Hybrid'\n",
    "train.loc[(train['fuel_type'].isna()) & (train['engine'].str.contains(\"Dual\", case=False, na=False)), 'fuel_type'] = 'Hybrid'\n",
    "train.loc[(train['fuel_type'].isna()) & (train['engine'].str.contains(\"Electric\", case=False, na=False)), 'fuel_type'] = 'Hybrid'\n",
    "train.loc[(train['fuel_type'].isna()) & (train['engine'].str.contains(\"Battery\", case=False, na=False)), 'fuel_type'] = 'Hybrid'\n",
    "train.loc[(train['fuel_type'].isna()) & (train['engine'].str.contains(\"kW\", case=False, na=False)), 'fuel_type'] = 'Hybrid'\n",
    "train.loc[(train['fuel_type'].isna()) & (train['engine'].str.contains(\"AH\", case=False, na=False)), 'fuel_type'] = 'Hybrid'\n",
    "train.loc[(train['fuel_type'].isna()) & (train['brand'].str.contains(\"Tesla\", case=False, na=False)), 'fuel_type'] = 'Hybrid'\n",
    "train.loc[(train['fuel_type'].isna()) & (train['model'].str.contains(\"Hybrid\", case=False, na=False)), 'fuel_type'] = 'Hybrid'\n",
    "\n",
    "# Assigning as 'Gasoline' where 'engine' contains 'GDI', 'PDI', 'OHV', 'MPFI', 'TFSI', 'DOHC', 'Gasoline'\n",
    "train.loc[(train['fuel_type'].isna()) & (train['engine'].str.contains(\"GDI\", case=False, na=False)), 'fuel_type'] = 'Gasoline'\n",
    "train.loc[(train['fuel_type'].isna()) & (train['engine'].str.contains(\"PDI\", case=False, na=False)), 'fuel_type'] = 'Gasoline'\n",
    "train.loc[(train['fuel_type'].isna()) & (train['engine'].str.contains(\"OHV\", case=False, na=False)), 'fuel_type'] = 'Gasoline'\n",
    "train.loc[(train['fuel_type'].isna()) & (train['engine'].str.contains(\"MPFI\", case=False, na=False)), 'fuel_type'] = 'Gasoline'\n",
    "train.loc[(train['fuel_type'].isna()) & (train['engine'].str.contains(\"TFSI\", case=False, na=False)), 'fuel_type'] = 'Gasoline'\n",
    "train.loc[(train['fuel_type'].isna()) & (train['engine'].str.contains(\"DOHC\", case=False, na=False)), 'fuel_type'] = 'Gasoline'\n",
    "train.loc[(train['fuel_type'].isna()) & (train['engine'].str.contains(\"Gasoline\", case=False, na=False)), 'fuel_type'] = 'Gasoline'\n",
    "train.loc[(train['fuel_type'].isna()) & (train['model_year'] < 2020), 'fuel_type'] = 'Gasoline'\n",
    "\n",
    "# Assigning as 'Diesel' where 'engine' contains 'Diesel'\n",
    "train.loc[(train['fuel_type'].isna()) & (train['engine'].str.contains(\"Diesel\", case=False, na=False)), 'fuel_type'] = 'Diesel'"
   ]
  },
  {
   "cell_type": "code",
   "execution_count": 30,
   "id": "d08d85c4",
   "metadata": {
    "execution": {
     "iopub.execute_input": "2024-09-18T18:23:09.412943Z",
     "iopub.status.busy": "2024-09-18T18:23:09.412521Z",
     "iopub.status.idle": "2024-09-18T18:23:09.436284Z",
     "shell.execute_reply": "2024-09-18T18:23:09.435369Z"
    },
    "papermill": {
     "duration": 0.048514,
     "end_time": "2024-09-18T18:23:09.438284",
     "exception": false,
     "start_time": "2024-09-18T18:23:09.389770",
     "status": "completed"
    },
    "tags": []
   },
   "outputs": [
    {
     "data": {
      "text/html": [
       "<div>\n",
       "<style scoped>\n",
       "    .dataframe tbody tr th:only-of-type {\n",
       "        vertical-align: middle;\n",
       "    }\n",
       "\n",
       "    .dataframe tbody tr th {\n",
       "        vertical-align: top;\n",
       "    }\n",
       "\n",
       "    .dataframe thead th {\n",
       "        text-align: right;\n",
       "    }\n",
       "</style>\n",
       "<table border=\"1\" class=\"dataframe\">\n",
       "  <thead>\n",
       "    <tr style=\"text-align: right;\">\n",
       "      <th></th>\n",
       "      <th>brand</th>\n",
       "      <th>model</th>\n",
       "      <th>model_year</th>\n",
       "      <th>milage</th>\n",
       "      <th>fuel_type</th>\n",
       "      <th>engine</th>\n",
       "      <th>transmission</th>\n",
       "      <th>ext_col</th>\n",
       "      <th>int_col</th>\n",
       "      <th>accident</th>\n",
       "      <th>clean_title</th>\n",
       "      <th>price</th>\n",
       "    </tr>\n",
       "  </thead>\n",
       "  <tbody>\n",
       "    <tr>\n",
       "      <th>19800</th>\n",
       "      <td>Nissan</td>\n",
       "      <td>Titan SV</td>\n",
       "      <td>2023</td>\n",
       "      <td>4451</td>\n",
       "      <td>NaN</td>\n",
       "      <td>5.3 Liter</td>\n",
       "      <td>Automatic</td>\n",
       "      <td>Anthracite Blue Metallic</td>\n",
       "      <td>Black</td>\n",
       "      <td>None reported</td>\n",
       "      <td>NaN</td>\n",
       "      <td>96998</td>\n",
       "    </tr>\n",
       "    <tr>\n",
       "      <th>34994</th>\n",
       "      <td>Rivian</td>\n",
       "      <td>R1S Adventure Package</td>\n",
       "      <td>2023</td>\n",
       "      <td>15097</td>\n",
       "      <td>NaN</td>\n",
       "      <td>5.5 Liter</td>\n",
       "      <td>Automatic</td>\n",
       "      <td>White</td>\n",
       "      <td>Black</td>\n",
       "      <td>None reported</td>\n",
       "      <td>NaN</td>\n",
       "      <td>58900</td>\n",
       "    </tr>\n",
       "    <tr>\n",
       "      <th>43132</th>\n",
       "      <td>Audi</td>\n",
       "      <td>Q4 e-tron Sportback Premium</td>\n",
       "      <td>2021</td>\n",
       "      <td>13613</td>\n",
       "      <td>NaN</td>\n",
       "      <td>2.0 Liter Turbo</td>\n",
       "      <td>Automatic</td>\n",
       "      <td>Navarra Blue Metallic</td>\n",
       "      <td>Black</td>\n",
       "      <td>None reported</td>\n",
       "      <td>NaN</td>\n",
       "      <td>38998</td>\n",
       "    </tr>\n",
       "    <tr>\n",
       "      <th>47854</th>\n",
       "      <td>Mercedes-Benz</td>\n",
       "      <td>EQS 450 4MATIC</td>\n",
       "      <td>2022</td>\n",
       "      <td>20104</td>\n",
       "      <td>NaN</td>\n",
       "      <td>4.0 Liter Twin Turbo</td>\n",
       "      <td>Automatic</td>\n",
       "      <td>–</td>\n",
       "      <td>–</td>\n",
       "      <td>None reported</td>\n",
       "      <td>NaN</td>\n",
       "      <td>94998</td>\n",
       "    </tr>\n",
       "    <tr>\n",
       "      <th>55614</th>\n",
       "      <td>Land</td>\n",
       "      <td>Rover Range Rover Velar SVAutobiography Dynami...</td>\n",
       "      <td>2021</td>\n",
       "      <td>16184</td>\n",
       "      <td>NaN</td>\n",
       "      <td>V8</td>\n",
       "      <td>Automatic</td>\n",
       "      <td>Fuji White</td>\n",
       "      <td>Black</td>\n",
       "      <td>None reported</td>\n",
       "      <td>NaN</td>\n",
       "      <td>58598</td>\n",
       "    </tr>\n",
       "    <tr>\n",
       "      <th>149820</th>\n",
       "      <td>Jaguar</td>\n",
       "      <td>F-PACE S</td>\n",
       "      <td>2022</td>\n",
       "      <td>11111</td>\n",
       "      <td>NaN</td>\n",
       "      <td>3.0 Liter</td>\n",
       "      <td>Automatic</td>\n",
       "      <td>Santorini Black Metallic</td>\n",
       "      <td>Ebony / Pimento</td>\n",
       "      <td>None reported</td>\n",
       "      <td>NaN</td>\n",
       "      <td>81900</td>\n",
       "    </tr>\n",
       "    <tr>\n",
       "      <th>180883</th>\n",
       "      <td>Mercedes-Benz</td>\n",
       "      <td>S-Class S 560 4MATIC</td>\n",
       "      <td>2020</td>\n",
       "      <td>4665</td>\n",
       "      <td>NaN</td>\n",
       "      <td>4.0 Liter</td>\n",
       "      <td>Automatic</td>\n",
       "      <td>Black</td>\n",
       "      <td>Black</td>\n",
       "      <td>None reported</td>\n",
       "      <td>NaN</td>\n",
       "      <td>40798</td>\n",
       "    </tr>\n",
       "  </tbody>\n",
       "</table>\n",
       "</div>"
      ],
      "text/plain": [
       "                brand                                              model  \\\n",
       "19800          Nissan                                           Titan SV   \n",
       "34994          Rivian                              R1S Adventure Package   \n",
       "43132            Audi                        Q4 e-tron Sportback Premium   \n",
       "47854   Mercedes-Benz                                     EQS 450 4MATIC   \n",
       "55614            Land  Rover Range Rover Velar SVAutobiography Dynami...   \n",
       "149820         Jaguar                                           F-PACE S   \n",
       "180883  Mercedes-Benz                               S-Class S 560 4MATIC   \n",
       "\n",
       "        model_year  milage fuel_type                engine transmission  \\\n",
       "19800         2023    4451       NaN             5.3 Liter    Automatic   \n",
       "34994         2023   15097       NaN             5.5 Liter    Automatic   \n",
       "43132         2021   13613       NaN       2.0 Liter Turbo    Automatic   \n",
       "47854         2022   20104       NaN  4.0 Liter Twin Turbo    Automatic   \n",
       "55614         2021   16184       NaN                    V8    Automatic   \n",
       "149820        2022   11111       NaN             3.0 Liter    Automatic   \n",
       "180883        2020    4665       NaN             4.0 Liter    Automatic   \n",
       "\n",
       "                         ext_col          int_col       accident clean_title  \\\n",
       "19800   Anthracite Blue Metallic            Black  None reported         NaN   \n",
       "34994                      White            Black  None reported         NaN   \n",
       "43132      Navarra Blue Metallic            Black  None reported         NaN   \n",
       "47854                          –                –  None reported         NaN   \n",
       "55614                 Fuji White            Black  None reported         NaN   \n",
       "149820  Santorini Black Metallic  Ebony / Pimento  None reported         NaN   \n",
       "180883                     Black            Black  None reported         NaN   \n",
       "\n",
       "        price  \n",
       "19800   96998  \n",
       "34994   58900  \n",
       "43132   38998  \n",
       "47854   94998  \n",
       "55614   58598  \n",
       "149820  81900  \n",
       "180883  40798  "
      ]
     },
     "execution_count": 30,
     "metadata": {},
     "output_type": "execute_result"
    }
   ],
   "source": [
    "# Verifying changes and identifying any remaining missing values\n",
    "train[train['fuel_type'].isna()]"
   ]
  },
  {
   "cell_type": "code",
   "execution_count": 31,
   "id": "ffd28d23",
   "metadata": {
    "execution": {
     "iopub.execute_input": "2024-09-18T18:23:09.483767Z",
     "iopub.status.busy": "2024-09-18T18:23:09.482827Z",
     "iopub.status.idle": "2024-09-18T18:23:10.894060Z",
     "shell.execute_reply": "2024-09-18T18:23:10.892722Z"
    },
    "papermill": {
     "duration": 1.436381,
     "end_time": "2024-09-18T18:23:10.896445",
     "exception": false,
     "start_time": "2024-09-18T18:23:09.460064",
     "status": "completed"
    },
    "tags": []
   },
   "outputs": [],
   "source": [
    "# Assigning fuel types to remaining outliers\n",
    "train.loc[(train['fuel_type'].isna()) & (train['brand'].str.contains(\"Nissan\", case=False, na=False)) & (train['model'].str.contains('Titan', case=False, na=False)), 'fuel_type'] = 'Gasoline'\n",
    "train.loc[(train['fuel_type'].isna()) & (train['brand'].str.contains(\"Rivian\", case=False, na=False)) & (train['model'].str.contains('Adventure', case=False, na=False)), 'fuel_type'] = 'Hybrid'\n",
    "train.loc[(train['fuel_type'].isna()) & (train['brand'].str.contains(\"Audi\", case=False, na=False)) & (train['model'].str.contains('Sportback', case=False, na=False)), 'fuel_type'] = 'Hybrid'\n",
    "train.loc[(train['fuel_type'].isna()) & (train['brand'].str.contains(\"Mercedes\", case=False, na=False)) & (train['model'].str.contains('EQS', case=False, na=False)), 'fuel_type'] = 'Hybrid'\n",
    "train.loc[(train['fuel_type'].isna()) & (train['brand'].str.contains(\"Land\", case=False, na=False)) & (train['model'].str.contains('Rover', case=False, na=False)), 'fuel_type'] = 'Gasoline'\n",
    "train.loc[(train['fuel_type'].isna()) & (train['brand'].str.contains(\"Jaguar\", case=False, na=False)) & (train['model'].str.contains('PACE', case=False, na=False)), 'fuel_type'] = 'Gasoline'\n",
    "train.loc[(train['fuel_type'].isna()) & (train['brand'].str.contains(\"Mercedes\", case=False, na=False)) & (train['model'].str.contains('Class', case=False, na=False)), 'fuel_type'] = 'Gasoline'"
   ]
  },
  {
   "cell_type": "code",
   "execution_count": 32,
   "id": "dbed1847",
   "metadata": {
    "execution": {
     "iopub.execute_input": "2024-09-18T18:23:10.941412Z",
     "iopub.status.busy": "2024-09-18T18:23:10.940618Z",
     "iopub.status.idle": "2024-09-18T18:23:10.955126Z",
     "shell.execute_reply": "2024-09-18T18:23:10.954116Z"
    },
    "papermill": {
     "duration": 0.039424,
     "end_time": "2024-09-18T18:23:10.957454",
     "exception": false,
     "start_time": "2024-09-18T18:23:10.918030",
     "status": "completed"
    },
    "tags": []
   },
   "outputs": [
    {
     "name": "stdout",
     "output_type": "stream",
     "text": [
      "Missing 'fuel_type' values in 'train': 0\n"
     ]
    }
   ],
   "source": [
    "# Verifying changes\n",
    "print(\"Missing 'fuel_type' values in 'train':\", train.fuel_type.isna().sum())"
   ]
  },
  {
   "cell_type": "markdown",
   "id": "e2d5b032",
   "metadata": {
    "papermill": {
     "duration": 0.021276,
     "end_time": "2024-09-18T18:23:11.000303",
     "exception": false,
     "start_time": "2024-09-18T18:23:10.979027",
     "status": "completed"
    },
    "tags": []
   },
   "source": [
    "We now have no more missing values in the 'fuel_type' column! "
   ]
  },
  {
   "cell_type": "markdown",
   "id": "85c226bf",
   "metadata": {
    "papermill": {
     "duration": 0.021107,
     "end_time": "2024-09-18T18:23:11.043251",
     "exception": false,
     "start_time": "2024-09-18T18:23:11.022144",
     "status": "completed"
    },
    "tags": []
   },
   "source": [
    "<a id=\"5c\"></a>\n",
    "\n",
    "## **Missing Values: 'clean_title' & 'accident'**"
   ]
  },
  {
   "cell_type": "code",
   "execution_count": 33,
   "id": "1895d980",
   "metadata": {
    "execution": {
     "iopub.execute_input": "2024-09-18T18:23:11.088104Z",
     "iopub.status.busy": "2024-09-18T18:23:11.087182Z",
     "iopub.status.idle": "2024-09-18T18:23:11.110606Z",
     "shell.execute_reply": "2024-09-18T18:23:11.109579Z"
    },
    "papermill": {
     "duration": 0.048244,
     "end_time": "2024-09-18T18:23:11.112783",
     "exception": false,
     "start_time": "2024-09-18T18:23:11.064539",
     "status": "completed"
    },
    "tags": []
   },
   "outputs": [
    {
     "name": "stdout",
     "output_type": "stream",
     "text": [
      "Missing 'clean_title' values in 'train': 21989\n",
      "Missing 'accident' values in 'train': 2547\n"
     ]
    }
   ],
   "source": [
    "# Reviewing number of missing values in 'clean_title' & 'accident' columns\n",
    "print(\"Missing 'clean_title' values in 'train':\", train.clean_title.isna().sum())\n",
    "print(\"Missing 'accident' values in 'train':\", train.accident.isna().sum())"
   ]
  },
  {
   "cell_type": "code",
   "execution_count": 34,
   "id": "81a10ef9",
   "metadata": {
    "execution": {
     "iopub.execute_input": "2024-09-18T18:23:11.158075Z",
     "iopub.status.busy": "2024-09-18T18:23:11.157700Z",
     "iopub.status.idle": "2024-09-18T18:23:11.178657Z",
     "shell.execute_reply": "2024-09-18T18:23:11.177665Z"
    },
    "papermill": {
     "duration": 0.045891,
     "end_time": "2024-09-18T18:23:11.180687",
     "exception": false,
     "start_time": "2024-09-18T18:23:11.134796",
     "status": "completed"
    },
    "tags": []
   },
   "outputs": [
    {
     "data": {
      "text/plain": [
       "accident\n",
       "None reported                             146912\n",
       "At least 1 accident or damage reported     42266\n",
       "Name: count, dtype: int64"
      ]
     },
     "execution_count": 34,
     "metadata": {},
     "output_type": "execute_result"
    }
   ],
   "source": [
    "# Examining unique values in 'accident'\n",
    "train['accident'].value_counts()"
   ]
  },
  {
   "cell_type": "markdown",
   "id": "da9eff89",
   "metadata": {
    "papermill": {
     "duration": 0.021287,
     "end_time": "2024-09-18T18:23:11.223693",
     "exception": false,
     "start_time": "2024-09-18T18:23:11.202406",
     "status": "completed"
    },
    "tags": []
   },
   "source": [
    "Above, we can see the two possible unique values for 'accident'. These are 'None reported' and 'At least 1 accident or damage reported'. "
   ]
  },
  {
   "cell_type": "code",
   "execution_count": 35,
   "id": "a71b2b01",
   "metadata": {
    "execution": {
     "iopub.execute_input": "2024-09-18T18:23:11.268224Z",
     "iopub.status.busy": "2024-09-18T18:23:11.267867Z",
     "iopub.status.idle": "2024-09-18T18:23:11.294609Z",
     "shell.execute_reply": "2024-09-18T18:23:11.293663Z"
    },
    "papermill": {
     "duration": 0.051851,
     "end_time": "2024-09-18T18:23:11.296897",
     "exception": false,
     "start_time": "2024-09-18T18:23:11.245046",
     "status": "completed"
    },
    "tags": []
   },
   "outputs": [
    {
     "data": {
      "text/html": [
       "<div>\n",
       "<style scoped>\n",
       "    .dataframe tbody tr th:only-of-type {\n",
       "        vertical-align: middle;\n",
       "    }\n",
       "\n",
       "    .dataframe tbody tr th {\n",
       "        vertical-align: top;\n",
       "    }\n",
       "\n",
       "    .dataframe thead th {\n",
       "        text-align: right;\n",
       "    }\n",
       "</style>\n",
       "<table border=\"1\" class=\"dataframe\">\n",
       "  <thead>\n",
       "    <tr style=\"text-align: right;\">\n",
       "      <th></th>\n",
       "      <th>brand</th>\n",
       "      <th>model</th>\n",
       "      <th>model_year</th>\n",
       "      <th>milage</th>\n",
       "      <th>fuel_type</th>\n",
       "      <th>engine</th>\n",
       "      <th>transmission</th>\n",
       "      <th>ext_col</th>\n",
       "      <th>int_col</th>\n",
       "      <th>accident</th>\n",
       "      <th>clean_title</th>\n",
       "      <th>price</th>\n",
       "    </tr>\n",
       "  </thead>\n",
       "  <tbody>\n",
       "    <tr>\n",
       "      <th>87</th>\n",
       "      <td>RAM</td>\n",
       "      <td>2500 Big Horn</td>\n",
       "      <td>2012</td>\n",
       "      <td>95400</td>\n",
       "      <td>Diesel</td>\n",
       "      <td>350.0HP 6.7L Straight 6 Cylinder Engine Diesel...</td>\n",
       "      <td>6-Speed A/T</td>\n",
       "      <td>Black</td>\n",
       "      <td>Black</td>\n",
       "      <td>NaN</td>\n",
       "      <td>NaN</td>\n",
       "      <td>27899</td>\n",
       "    </tr>\n",
       "    <tr>\n",
       "      <th>134</th>\n",
       "      <td>Jeep</td>\n",
       "      <td>Gladiator Sport</td>\n",
       "      <td>2021</td>\n",
       "      <td>61341</td>\n",
       "      <td>Gasoline</td>\n",
       "      <td>3.6L V6 24V MPFI DOHC</td>\n",
       "      <td>8-Speed Automatic</td>\n",
       "      <td>Firecracker Red Clearcoat</td>\n",
       "      <td>Black</td>\n",
       "      <td>NaN</td>\n",
       "      <td>NaN</td>\n",
       "      <td>32455</td>\n",
       "    </tr>\n",
       "    <tr>\n",
       "      <th>164</th>\n",
       "      <td>Acura</td>\n",
       "      <td>RDX w/A-Spec Package</td>\n",
       "      <td>2023</td>\n",
       "      <td>39517</td>\n",
       "      <td>Gasoline</td>\n",
       "      <td>2.0 Liter DOHC Turbo</td>\n",
       "      <td>Automatic</td>\n",
       "      <td>Gray</td>\n",
       "      <td>Black</td>\n",
       "      <td>NaN</td>\n",
       "      <td>NaN</td>\n",
       "      <td>29645</td>\n",
       "    </tr>\n",
       "    <tr>\n",
       "      <th>333</th>\n",
       "      <td>Mercedes-Benz</td>\n",
       "      <td>SLK-Class SLK320</td>\n",
       "      <td>2001</td>\n",
       "      <td>170000</td>\n",
       "      <td>Gasoline</td>\n",
       "      <td>215.0HP 3.2L V6 Cylinder Engine Gasoline Fuel</td>\n",
       "      <td>5-Speed A/T</td>\n",
       "      <td>Black</td>\n",
       "      <td>Beige</td>\n",
       "      <td>NaN</td>\n",
       "      <td>NaN</td>\n",
       "      <td>6000</td>\n",
       "    </tr>\n",
       "    <tr>\n",
       "      <th>361</th>\n",
       "      <td>RAM</td>\n",
       "      <td>2500 SLT</td>\n",
       "      <td>2016</td>\n",
       "      <td>69600</td>\n",
       "      <td>Gasoline</td>\n",
       "      <td>410.0HP 6.4L 8 Cylinder Engine Gasoline Fuel</td>\n",
       "      <td>6-Speed A/T</td>\n",
       "      <td>Blue</td>\n",
       "      <td>Gray</td>\n",
       "      <td>NaN</td>\n",
       "      <td>NaN</td>\n",
       "      <td>35900</td>\n",
       "    </tr>\n",
       "    <tr>\n",
       "      <th>...</th>\n",
       "      <td>...</td>\n",
       "      <td>...</td>\n",
       "      <td>...</td>\n",
       "      <td>...</td>\n",
       "      <td>...</td>\n",
       "      <td>...</td>\n",
       "      <td>...</td>\n",
       "      <td>...</td>\n",
       "      <td>...</td>\n",
       "      <td>...</td>\n",
       "      <td>...</td>\n",
       "      <td>...</td>\n",
       "    </tr>\n",
       "    <tr>\n",
       "      <th>191581</th>\n",
       "      <td>Ford</td>\n",
       "      <td>Escape SEL</td>\n",
       "      <td>2020</td>\n",
       "      <td>42000</td>\n",
       "      <td>Gasoline</td>\n",
       "      <td>181.0HP 1.5L 3 Cylinder Engine Gasoline Fuel</td>\n",
       "      <td>A/T</td>\n",
       "      <td>White</td>\n",
       "      <td>Beige</td>\n",
       "      <td>NaN</td>\n",
       "      <td>NaN</td>\n",
       "      <td>19000</td>\n",
       "    </tr>\n",
       "    <tr>\n",
       "      <th>191585</th>\n",
       "      <td>Alfa</td>\n",
       "      <td>Romeo Giulia Quadrifoglio</td>\n",
       "      <td>2018</td>\n",
       "      <td>28644</td>\n",
       "      <td>Gasoline</td>\n",
       "      <td>505.0HP 2.9L V6 Cylinder Engine Gasoline Fuel</td>\n",
       "      <td>8-Speed A/T</td>\n",
       "      <td>Black</td>\n",
       "      <td>Black</td>\n",
       "      <td>NaN</td>\n",
       "      <td>NaN</td>\n",
       "      <td>41500</td>\n",
       "    </tr>\n",
       "    <tr>\n",
       "      <th>191621</th>\n",
       "      <td>Mazda</td>\n",
       "      <td>CX-5 Grand Touring</td>\n",
       "      <td>2021</td>\n",
       "      <td>24781</td>\n",
       "      <td>Gasoline</td>\n",
       "      <td>2.5L I4 16V GDI DOHC</td>\n",
       "      <td>6-Speed Automatic</td>\n",
       "      <td>Machine Gray Metallic</td>\n",
       "      <td>Black</td>\n",
       "      <td>NaN</td>\n",
       "      <td>NaN</td>\n",
       "      <td>28991</td>\n",
       "    </tr>\n",
       "    <tr>\n",
       "      <th>191709</th>\n",
       "      <td>Porsche</td>\n",
       "      <td>911 Carrera S</td>\n",
       "      <td>2021</td>\n",
       "      <td>7008</td>\n",
       "      <td>Gasoline</td>\n",
       "      <td>443.0HP 3.0L Flat 6 Cylinder Engine Gasoline Fuel</td>\n",
       "      <td>8-Speed A/T</td>\n",
       "      <td>Gray</td>\n",
       "      <td>Black</td>\n",
       "      <td>NaN</td>\n",
       "      <td>NaN</td>\n",
       "      <td>151900</td>\n",
       "    </tr>\n",
       "    <tr>\n",
       "      <th>191712</th>\n",
       "      <td>Aston</td>\n",
       "      <td>Martin DB7 Vantage Volante</td>\n",
       "      <td>2003</td>\n",
       "      <td>14900</td>\n",
       "      <td>Gasoline</td>\n",
       "      <td>420.0HP 5.9L 12 Cylinder Engine Gasoline Fuel</td>\n",
       "      <td>6-Speed M/T</td>\n",
       "      <td>White</td>\n",
       "      <td>Beige</td>\n",
       "      <td>NaN</td>\n",
       "      <td>NaN</td>\n",
       "      <td>32850</td>\n",
       "    </tr>\n",
       "  </tbody>\n",
       "</table>\n",
       "<p>2547 rows × 12 columns</p>\n",
       "</div>"
      ],
      "text/plain": [
       "                brand                       model  model_year  milage  \\\n",
       "87                RAM               2500 Big Horn        2012   95400   \n",
       "134              Jeep             Gladiator Sport        2021   61341   \n",
       "164             Acura        RDX w/A-Spec Package        2023   39517   \n",
       "333     Mercedes-Benz            SLK-Class SLK320        2001  170000   \n",
       "361               RAM                    2500 SLT        2016   69600   \n",
       "...               ...                         ...         ...     ...   \n",
       "191581           Ford                  Escape SEL        2020   42000   \n",
       "191585           Alfa   Romeo Giulia Quadrifoglio        2018   28644   \n",
       "191621          Mazda          CX-5 Grand Touring        2021   24781   \n",
       "191709        Porsche               911 Carrera S        2021    7008   \n",
       "191712          Aston  Martin DB7 Vantage Volante        2003   14900   \n",
       "\n",
       "       fuel_type                                             engine  \\\n",
       "87        Diesel  350.0HP 6.7L Straight 6 Cylinder Engine Diesel...   \n",
       "134     Gasoline                              3.6L V6 24V MPFI DOHC   \n",
       "164     Gasoline                               2.0 Liter DOHC Turbo   \n",
       "333     Gasoline      215.0HP 3.2L V6 Cylinder Engine Gasoline Fuel   \n",
       "361     Gasoline       410.0HP 6.4L 8 Cylinder Engine Gasoline Fuel   \n",
       "...          ...                                                ...   \n",
       "191581  Gasoline       181.0HP 1.5L 3 Cylinder Engine Gasoline Fuel   \n",
       "191585  Gasoline      505.0HP 2.9L V6 Cylinder Engine Gasoline Fuel   \n",
       "191621  Gasoline                               2.5L I4 16V GDI DOHC   \n",
       "191709  Gasoline  443.0HP 3.0L Flat 6 Cylinder Engine Gasoline Fuel   \n",
       "191712  Gasoline      420.0HP 5.9L 12 Cylinder Engine Gasoline Fuel   \n",
       "\n",
       "             transmission                    ext_col int_col accident  \\\n",
       "87            6-Speed A/T                      Black   Black      NaN   \n",
       "134     8-Speed Automatic  Firecracker Red Clearcoat   Black      NaN   \n",
       "164             Automatic                       Gray   Black      NaN   \n",
       "333           5-Speed A/T                      Black   Beige      NaN   \n",
       "361           6-Speed A/T                       Blue    Gray      NaN   \n",
       "...                   ...                        ...     ...      ...   \n",
       "191581                A/T                      White   Beige      NaN   \n",
       "191585        8-Speed A/T                      Black   Black      NaN   \n",
       "191621  6-Speed Automatic      Machine Gray Metallic   Black      NaN   \n",
       "191709        8-Speed A/T                       Gray   Black      NaN   \n",
       "191712        6-Speed M/T                      White   Beige      NaN   \n",
       "\n",
       "       clean_title   price  \n",
       "87             NaN   27899  \n",
       "134            NaN   32455  \n",
       "164            NaN   29645  \n",
       "333            NaN    6000  \n",
       "361            NaN   35900  \n",
       "...            ...     ...  \n",
       "191581         NaN   19000  \n",
       "191585         NaN   41500  \n",
       "191621         NaN   28991  \n",
       "191709         NaN  151900  \n",
       "191712         NaN   32850  \n",
       "\n",
       "[2547 rows x 12 columns]"
      ]
     },
     "execution_count": 35,
     "metadata": {},
     "output_type": "execute_result"
    }
   ],
   "source": [
    "# Examining cases where 'accident' is missing values\n",
    "train[train['accident'].isna()]"
   ]
  },
  {
   "cell_type": "markdown",
   "id": "6734255a",
   "metadata": {
    "papermill": {
     "duration": 0.021811,
     "end_time": "2024-09-18T18:23:11.341287",
     "exception": false,
     "start_time": "2024-09-18T18:23:11.319476",
     "status": "completed"
    },
    "tags": []
   },
   "source": [
    "Above, we can see cases of where the 'accident' column has missing values. Interestingly, it appears as though these cases also have missing values in the 'clean_title' column. In order to remedy this, we will simply fill in all missing values in the 'accident' column with 'None reported'. This is accomplished in the code line below. "
   ]
  },
  {
   "cell_type": "code",
   "execution_count": 36,
   "id": "474c1de7",
   "metadata": {
    "execution": {
     "iopub.execute_input": "2024-09-18T18:23:11.388429Z",
     "iopub.status.busy": "2024-09-18T18:23:11.387558Z",
     "iopub.status.idle": "2024-09-18T18:23:11.406315Z",
     "shell.execute_reply": "2024-09-18T18:23:11.405516Z"
    },
    "papermill": {
     "duration": 0.0448,
     "end_time": "2024-09-18T18:23:11.408452",
     "exception": false,
     "start_time": "2024-09-18T18:23:11.363652",
     "status": "completed"
    },
    "tags": []
   },
   "outputs": [],
   "source": [
    "# Filling in missing values in 'accident' with 'None reported'\n",
    "train['accident'] = train['accident'].fillna('None reported')"
   ]
  },
  {
   "cell_type": "code",
   "execution_count": 37,
   "id": "9dfd1811",
   "metadata": {
    "execution": {
     "iopub.execute_input": "2024-09-18T18:23:11.454826Z",
     "iopub.status.busy": "2024-09-18T18:23:11.453946Z",
     "iopub.status.idle": "2024-09-18T18:23:11.469444Z",
     "shell.execute_reply": "2024-09-18T18:23:11.468502Z"
    },
    "papermill": {
     "duration": 0.040912,
     "end_time": "2024-09-18T18:23:11.471564",
     "exception": false,
     "start_time": "2024-09-18T18:23:11.430652",
     "status": "completed"
    },
    "tags": []
   },
   "outputs": [
    {
     "data": {
      "text/plain": [
       "0"
      ]
     },
     "execution_count": 37,
     "metadata": {},
     "output_type": "execute_result"
    }
   ],
   "source": [
    "# Verifying changes to 'accident' column\n",
    "train['accident'].isna().sum()"
   ]
  },
  {
   "cell_type": "markdown",
   "id": "0e8c3ee4",
   "metadata": {
    "papermill": {
     "duration": 0.023432,
     "end_time": "2024-09-18T18:23:11.517777",
     "exception": false,
     "start_time": "2024-09-18T18:23:11.494345",
     "status": "completed"
    },
    "tags": []
   },
   "source": [
    "There are now no more missing values in the 'accident' column!"
   ]
  },
  {
   "cell_type": "code",
   "execution_count": 38,
   "id": "ae1036be",
   "metadata": {
    "execution": {
     "iopub.execute_input": "2024-09-18T18:23:11.563774Z",
     "iopub.status.busy": "2024-09-18T18:23:11.563371Z",
     "iopub.status.idle": "2024-09-18T18:23:11.583573Z",
     "shell.execute_reply": "2024-09-18T18:23:11.582544Z"
    },
    "papermill": {
     "duration": 0.045471,
     "end_time": "2024-09-18T18:23:11.585601",
     "exception": false,
     "start_time": "2024-09-18T18:23:11.540130",
     "status": "completed"
    },
    "tags": []
   },
   "outputs": [
    {
     "data": {
      "text/plain": [
       "clean_title\n",
       "Yes    169736\n",
       "Name: count, dtype: int64"
      ]
     },
     "execution_count": 38,
     "metadata": {},
     "output_type": "execute_result"
    }
   ],
   "source": [
    "# Examining unique values in 'clean_title'\n",
    "train['clean_title'].value_counts()"
   ]
  },
  {
   "cell_type": "markdown",
   "id": "11fcaec6",
   "metadata": {
    "papermill": {
     "duration": 0.022012,
     "end_time": "2024-09-18T18:23:11.629978",
     "exception": false,
     "start_time": "2024-09-18T18:23:11.607966",
     "status": "completed"
    },
    "tags": []
   },
   "source": [
    "Above, we can see the unique values for 'clean_title'. From this, we now know that there is only 'Yes' for this column. To fix this, we will need to assign other cases as 'No', indicating that the car does not have a clean title. But prior to this, we will need to determine which cases should elicit a 'No' entry. "
   ]
  },
  {
   "cell_type": "code",
   "execution_count": 39,
   "id": "0c68a132",
   "metadata": {
    "execution": {
     "iopub.execute_input": "2024-09-18T18:23:11.677869Z",
     "iopub.status.busy": "2024-09-18T18:23:11.677481Z",
     "iopub.status.idle": "2024-09-18T18:23:11.706491Z",
     "shell.execute_reply": "2024-09-18T18:23:11.705527Z"
    },
    "papermill": {
     "duration": 0.056016,
     "end_time": "2024-09-18T18:23:11.708700",
     "exception": false,
     "start_time": "2024-09-18T18:23:11.652684",
     "status": "completed"
    },
    "tags": []
   },
   "outputs": [
    {
     "data": {
      "text/html": [
       "<div>\n",
       "<style scoped>\n",
       "    .dataframe tbody tr th:only-of-type {\n",
       "        vertical-align: middle;\n",
       "    }\n",
       "\n",
       "    .dataframe tbody tr th {\n",
       "        vertical-align: top;\n",
       "    }\n",
       "\n",
       "    .dataframe thead th {\n",
       "        text-align: right;\n",
       "    }\n",
       "</style>\n",
       "<table border=\"1\" class=\"dataframe\">\n",
       "  <thead>\n",
       "    <tr style=\"text-align: right;\">\n",
       "      <th></th>\n",
       "      <th>brand</th>\n",
       "      <th>model</th>\n",
       "      <th>model_year</th>\n",
       "      <th>milage</th>\n",
       "      <th>fuel_type</th>\n",
       "      <th>engine</th>\n",
       "      <th>transmission</th>\n",
       "      <th>ext_col</th>\n",
       "      <th>int_col</th>\n",
       "      <th>accident</th>\n",
       "      <th>clean_title</th>\n",
       "      <th>price</th>\n",
       "    </tr>\n",
       "  </thead>\n",
       "  <tbody>\n",
       "    <tr>\n",
       "      <th>20</th>\n",
       "      <td>Land</td>\n",
       "      <td>Rover Defender S</td>\n",
       "      <td>2023</td>\n",
       "      <td>7978</td>\n",
       "      <td>Gasoline</td>\n",
       "      <td>5.2L V10 40V PDI DOHC</td>\n",
       "      <td>8-Speed Automatic</td>\n",
       "      <td>Santorini Black Metallic</td>\n",
       "      <td>Black</td>\n",
       "      <td>None reported</td>\n",
       "      <td>NaN</td>\n",
       "      <td>41998</td>\n",
       "    </tr>\n",
       "    <tr>\n",
       "      <th>45</th>\n",
       "      <td>RAM</td>\n",
       "      <td>1500 Laramie</td>\n",
       "      <td>2022</td>\n",
       "      <td>27352</td>\n",
       "      <td>Gasoline</td>\n",
       "      <td>5.7L V8 16V MPFI OHV</td>\n",
       "      <td>8-Speed Automatic</td>\n",
       "      <td>Diamond Black</td>\n",
       "      <td>Black</td>\n",
       "      <td>None reported</td>\n",
       "      <td>NaN</td>\n",
       "      <td>42599</td>\n",
       "    </tr>\n",
       "    <tr>\n",
       "      <th>51</th>\n",
       "      <td>Tesla</td>\n",
       "      <td>Model 3 Long Range</td>\n",
       "      <td>2020</td>\n",
       "      <td>38360</td>\n",
       "      <td>Hybrid</td>\n",
       "      <td>Dual Motor - Standard</td>\n",
       "      <td>Automatic</td>\n",
       "      <td>White</td>\n",
       "      <td>Black</td>\n",
       "      <td>None reported</td>\n",
       "      <td>NaN</td>\n",
       "      <td>59598</td>\n",
       "    </tr>\n",
       "    <tr>\n",
       "      <th>60</th>\n",
       "      <td>Mercedes-Benz</td>\n",
       "      <td>GLS 450 Base 4MATIC</td>\n",
       "      <td>2017</td>\n",
       "      <td>44147</td>\n",
       "      <td>Gasoline</td>\n",
       "      <td>3.0L V6 24V GDI DOHC Twin Turbo</td>\n",
       "      <td>9-Speed Automatic</td>\n",
       "      <td>White</td>\n",
       "      <td>Parchment.</td>\n",
       "      <td>At least 1 accident or damage reported</td>\n",
       "      <td>NaN</td>\n",
       "      <td>29999</td>\n",
       "    </tr>\n",
       "    <tr>\n",
       "      <th>70</th>\n",
       "      <td>McLaren</td>\n",
       "      <td>570S Spider</td>\n",
       "      <td>2023</td>\n",
       "      <td>3254</td>\n",
       "      <td>Gasoline</td>\n",
       "      <td>3.8L V8 32V MPFI DOHC Twin Turbo</td>\n",
       "      <td>7-Speed Automatic with Auto-Shift</td>\n",
       "      <td>Vega Blue</td>\n",
       "      <td>Black</td>\n",
       "      <td>None reported</td>\n",
       "      <td>NaN</td>\n",
       "      <td>92500</td>\n",
       "    </tr>\n",
       "    <tr>\n",
       "      <th>...</th>\n",
       "      <td>...</td>\n",
       "      <td>...</td>\n",
       "      <td>...</td>\n",
       "      <td>...</td>\n",
       "      <td>...</td>\n",
       "      <td>...</td>\n",
       "      <td>...</td>\n",
       "      <td>...</td>\n",
       "      <td>...</td>\n",
       "      <td>...</td>\n",
       "      <td>...</td>\n",
       "      <td>...</td>\n",
       "    </tr>\n",
       "    <tr>\n",
       "      <th>191679</th>\n",
       "      <td>Toyota</td>\n",
       "      <td>4Runner TRD Pro</td>\n",
       "      <td>2021</td>\n",
       "      <td>35048</td>\n",
       "      <td>Gasoline</td>\n",
       "      <td>4.0L V6 24V MPFI DOHC</td>\n",
       "      <td>5-Speed Automatic</td>\n",
       "      <td>Lunar Rock</td>\n",
       "      <td>Black / Graphite</td>\n",
       "      <td>None reported</td>\n",
       "      <td>NaN</td>\n",
       "      <td>52590</td>\n",
       "    </tr>\n",
       "    <tr>\n",
       "      <th>191707</th>\n",
       "      <td>Porsche</td>\n",
       "      <td>Cayenne Turbo</td>\n",
       "      <td>2020</td>\n",
       "      <td>39611</td>\n",
       "      <td>Gasoline</td>\n",
       "      <td>4.0L V8 32V GDI DOHC Twin Turbo</td>\n",
       "      <td>8-Speed Automatic</td>\n",
       "      <td>Quartzite Grey Metallic</td>\n",
       "      <td>Black</td>\n",
       "      <td>None reported</td>\n",
       "      <td>NaN</td>\n",
       "      <td>89900</td>\n",
       "    </tr>\n",
       "    <tr>\n",
       "      <th>191709</th>\n",
       "      <td>Porsche</td>\n",
       "      <td>911 Carrera S</td>\n",
       "      <td>2021</td>\n",
       "      <td>7008</td>\n",
       "      <td>Gasoline</td>\n",
       "      <td>443.0HP 3.0L Flat 6 Cylinder Engine Gasoline Fuel</td>\n",
       "      <td>8-Speed A/T</td>\n",
       "      <td>Gray</td>\n",
       "      <td>Black</td>\n",
       "      <td>None reported</td>\n",
       "      <td>NaN</td>\n",
       "      <td>151900</td>\n",
       "    </tr>\n",
       "    <tr>\n",
       "      <th>191712</th>\n",
       "      <td>Aston</td>\n",
       "      <td>Martin DB7 Vantage Volante</td>\n",
       "      <td>2003</td>\n",
       "      <td>14900</td>\n",
       "      <td>Gasoline</td>\n",
       "      <td>420.0HP 5.9L 12 Cylinder Engine Gasoline Fuel</td>\n",
       "      <td>6-Speed M/T</td>\n",
       "      <td>White</td>\n",
       "      <td>Beige</td>\n",
       "      <td>None reported</td>\n",
       "      <td>NaN</td>\n",
       "      <td>32850</td>\n",
       "    </tr>\n",
       "    <tr>\n",
       "      <th>191722</th>\n",
       "      <td>Porsche</td>\n",
       "      <td>Taycan</td>\n",
       "      <td>2022</td>\n",
       "      <td>2116</td>\n",
       "      <td>Hybrid</td>\n",
       "      <td>Electric</td>\n",
       "      <td>Automatic</td>\n",
       "      <td>Black</td>\n",
       "      <td>Black</td>\n",
       "      <td>None reported</td>\n",
       "      <td>NaN</td>\n",
       "      <td>90998</td>\n",
       "    </tr>\n",
       "  </tbody>\n",
       "</table>\n",
       "<p>21989 rows × 12 columns</p>\n",
       "</div>"
      ],
      "text/plain": [
       "                brand                       model  model_year  milage  \\\n",
       "20               Land            Rover Defender S        2023    7978   \n",
       "45                RAM                1500 Laramie        2022   27352   \n",
       "51              Tesla          Model 3 Long Range        2020   38360   \n",
       "60      Mercedes-Benz         GLS 450 Base 4MATIC        2017   44147   \n",
       "70            McLaren                 570S Spider        2023    3254   \n",
       "...               ...                         ...         ...     ...   \n",
       "191679         Toyota             4Runner TRD Pro        2021   35048   \n",
       "191707        Porsche               Cayenne Turbo        2020   39611   \n",
       "191709        Porsche               911 Carrera S        2021    7008   \n",
       "191712          Aston  Martin DB7 Vantage Volante        2003   14900   \n",
       "191722        Porsche                      Taycan        2022    2116   \n",
       "\n",
       "       fuel_type                                             engine  \\\n",
       "20      Gasoline                              5.2L V10 40V PDI DOHC   \n",
       "45      Gasoline                               5.7L V8 16V MPFI OHV   \n",
       "51        Hybrid                              Dual Motor - Standard   \n",
       "60      Gasoline                    3.0L V6 24V GDI DOHC Twin Turbo   \n",
       "70      Gasoline                   3.8L V8 32V MPFI DOHC Twin Turbo   \n",
       "...          ...                                                ...   \n",
       "191679  Gasoline                              4.0L V6 24V MPFI DOHC   \n",
       "191707  Gasoline                    4.0L V8 32V GDI DOHC Twin Turbo   \n",
       "191709  Gasoline  443.0HP 3.0L Flat 6 Cylinder Engine Gasoline Fuel   \n",
       "191712  Gasoline      420.0HP 5.9L 12 Cylinder Engine Gasoline Fuel   \n",
       "191722    Hybrid                                           Electric   \n",
       "\n",
       "                             transmission                   ext_col  \\\n",
       "20                      8-Speed Automatic  Santorini Black Metallic   \n",
       "45                      8-Speed Automatic             Diamond Black   \n",
       "51                              Automatic                     White   \n",
       "60                      9-Speed Automatic                     White   \n",
       "70      7-Speed Automatic with Auto-Shift                 Vega Blue   \n",
       "...                                   ...                       ...   \n",
       "191679                  5-Speed Automatic                Lunar Rock   \n",
       "191707                  8-Speed Automatic   Quartzite Grey Metallic   \n",
       "191709                        8-Speed A/T                      Gray   \n",
       "191712                        6-Speed M/T                     White   \n",
       "191722                          Automatic                     Black   \n",
       "\n",
       "                 int_col                                accident clean_title  \\\n",
       "20                 Black                           None reported         NaN   \n",
       "45                 Black                           None reported         NaN   \n",
       "51                 Black                           None reported         NaN   \n",
       "60            Parchment.  At least 1 accident or damage reported         NaN   \n",
       "70                 Black                           None reported         NaN   \n",
       "...                  ...                                     ...         ...   \n",
       "191679  Black / Graphite                           None reported         NaN   \n",
       "191707             Black                           None reported         NaN   \n",
       "191709             Black                           None reported         NaN   \n",
       "191712             Beige                           None reported         NaN   \n",
       "191722             Black                           None reported         NaN   \n",
       "\n",
       "         price  \n",
       "20       41998  \n",
       "45       42599  \n",
       "51       59598  \n",
       "60       29999  \n",
       "70       92500  \n",
       "...        ...  \n",
       "191679   52590  \n",
       "191707   89900  \n",
       "191709  151900  \n",
       "191712   32850  \n",
       "191722   90998  \n",
       "\n",
       "[21989 rows x 12 columns]"
      ]
     },
     "execution_count": 39,
     "metadata": {},
     "output_type": "execute_result"
    }
   ],
   "source": [
    "# Examining cases where 'clean_title' is missing values\n",
    "train[train['clean_title'].isna()]"
   ]
  },
  {
   "cell_type": "markdown",
   "id": "e54ccb76",
   "metadata": {
    "papermill": {
     "duration": 0.02252,
     "end_time": "2024-09-18T18:23:11.753972",
     "exception": false,
     "start_time": "2024-09-18T18:23:11.731452",
     "status": "completed"
    },
    "tags": []
   },
   "source": [
    "We can now see that there are missing values in 'clean_title' when the 'accident' column either has 'None reported' or 'At least 1 accident or damage reported'. To fix these missing values, we can opt to assign 'Yes' in the 'clean_title' column when the 'accident' column contains 'None', as a car with no prior accidents likely has a clean title. The remaining rows, where 'accident' contains at least 1 reported accident, will be assigned with 'No', meaning that the car title is not clean. While in reality having an accident does not necessary elicit a non-clean title, this may be the best approach to correctly assigning values to these empty rows."
   ]
  },
  {
   "cell_type": "code",
   "execution_count": 40,
   "id": "c07f1fef",
   "metadata": {
    "execution": {
     "iopub.execute_input": "2024-09-18T18:23:11.801063Z",
     "iopub.status.busy": "2024-09-18T18:23:11.800397Z",
     "iopub.status.idle": "2024-09-18T18:23:11.928886Z",
     "shell.execute_reply": "2024-09-18T18:23:11.928017Z"
    },
    "papermill": {
     "duration": 0.154741,
     "end_time": "2024-09-18T18:23:11.931295",
     "exception": false,
     "start_time": "2024-09-18T18:23:11.776554",
     "status": "completed"
    },
    "tags": []
   },
   "outputs": [],
   "source": [
    "# Assigning 'Yes' to 'clean_title' column when the 'accident' column contains 'None'\n",
    "train.loc[(train['clean_title'].isna()) & (train['accident'].str.contains('None', case=False, na=False)), 'clean_title'] = 'Yes'"
   ]
  },
  {
   "cell_type": "code",
   "execution_count": 41,
   "id": "68f841ec",
   "metadata": {
    "execution": {
     "iopub.execute_input": "2024-09-18T18:23:11.978387Z",
     "iopub.status.busy": "2024-09-18T18:23:11.977987Z",
     "iopub.status.idle": "2024-09-18T18:23:11.996707Z",
     "shell.execute_reply": "2024-09-18T18:23:11.995882Z"
    },
    "papermill": {
     "duration": 0.044831,
     "end_time": "2024-09-18T18:23:11.998944",
     "exception": false,
     "start_time": "2024-09-18T18:23:11.954113",
     "status": "completed"
    },
    "tags": []
   },
   "outputs": [],
   "source": [
    "# Filling in remaining missing values in 'clean_title' with 'No'\n",
    "train['clean_title'] = train['clean_title'].fillna('No')"
   ]
  },
  {
   "cell_type": "code",
   "execution_count": 42,
   "id": "7ae91a7b",
   "metadata": {
    "execution": {
     "iopub.execute_input": "2024-09-18T18:23:12.047474Z",
     "iopub.status.busy": "2024-09-18T18:23:12.047037Z",
     "iopub.status.idle": "2024-09-18T18:23:12.062335Z",
     "shell.execute_reply": "2024-09-18T18:23:12.061406Z"
    },
    "papermill": {
     "duration": 0.041741,
     "end_time": "2024-09-18T18:23:12.064375",
     "exception": false,
     "start_time": "2024-09-18T18:23:12.022634",
     "status": "completed"
    },
    "tags": []
   },
   "outputs": [
    {
     "data": {
      "text/plain": [
       "0"
      ]
     },
     "execution_count": 42,
     "metadata": {},
     "output_type": "execute_result"
    }
   ],
   "source": [
    "# Verifying changes to 'clean_title' column\n",
    "train['clean_title'].isna().sum()"
   ]
  },
  {
   "cell_type": "code",
   "execution_count": 43,
   "id": "9b11a538",
   "metadata": {
    "execution": {
     "iopub.execute_input": "2024-09-18T18:23:12.111610Z",
     "iopub.status.busy": "2024-09-18T18:23:12.111109Z",
     "iopub.status.idle": "2024-09-18T18:23:12.197344Z",
     "shell.execute_reply": "2024-09-18T18:23:12.196325Z"
    },
    "papermill": {
     "duration": 0.112253,
     "end_time": "2024-09-18T18:23:12.199425",
     "exception": false,
     "start_time": "2024-09-18T18:23:12.087172",
     "status": "completed"
    },
    "tags": []
   },
   "outputs": [
    {
     "name": "stdout",
     "output_type": "stream",
     "text": [
      "<class 'pandas.core.frame.DataFrame'>\n",
      "RangeIndex: 191725 entries, 0 to 191724\n",
      "Data columns (total 12 columns):\n",
      " #   Column        Non-Null Count   Dtype \n",
      "---  ------        --------------   ----- \n",
      " 0   brand         191725 non-null  object\n",
      " 1   model         191725 non-null  object\n",
      " 2   model_year    191725 non-null  int64 \n",
      " 3   milage        191725 non-null  int64 \n",
      " 4   fuel_type     191725 non-null  object\n",
      " 5   engine        191725 non-null  object\n",
      " 6   transmission  191725 non-null  object\n",
      " 7   ext_col       191725 non-null  object\n",
      " 8   int_col       191725 non-null  object\n",
      " 9   accident      191725 non-null  object\n",
      " 10  clean_title   191725 non-null  object\n",
      " 11  price         191725 non-null  int64 \n",
      "dtypes: int64(3), object(9)\n",
      "memory usage: 17.6+ MB\n"
     ]
    }
   ],
   "source": [
    "train.info()"
   ]
  },
  {
   "cell_type": "markdown",
   "id": "9ae5cbd9",
   "metadata": {
    "papermill": {
     "duration": 0.022305,
     "end_time": "2024-09-18T18:23:12.244502",
     "exception": false,
     "start_time": "2024-09-18T18:23:12.222197",
     "status": "completed"
    },
    "tags": []
   },
   "source": [
    "Data Cleaning Summary:\n",
    "\n",
    "- Removed unnecessary elements from 'price' and 'milage' columns in 'original_df'\n",
    "- Converted 'price' and 'milage' columns from object to int in 'original_df'\n",
    "- Concatenated 'train_df' and 'original_df' into 'train', also removed 'id' column\n",
    "- Resolved missing values for 'fuel_type'\n",
    "- Resolved missing values for 'accident' and 'clean_title'\n",
    "- Initial training dataset size: 188533\n",
    "- Final training dataset size: 191725"
   ]
  },
  {
   "cell_type": "markdown",
   "id": "7dcf9965",
   "metadata": {
    "papermill": {
     "duration": 0.022332,
     "end_time": "2024-09-18T18:23:12.289268",
     "exception": false,
     "start_time": "2024-09-18T18:23:12.266936",
     "status": "completed"
    },
    "tags": []
   },
   "source": [
    "<a id=\"0\"></a>\n",
    "\n",
    "<a href=\"#0\" style=\"background-color:blue; color:white; padding: 7px 10px; text-decoration: none; border-radius: 50px;\">Back to top</a><a id=\"0\"></a>\n",
    "\n",
    "<a id=\"0\"></a>\n",
    "\n",
    "<a href=\"#7\" style=\"background-color:blue; color:white; padding: 7px 10px; text-decoration: none; border-radius: 50px;\">Next Section</a><a id=\"0\"></a>\n",
    "\n",
    "<a id=\"6\"></a>\n",
    "\n",
    "# **Data Preprocessing**\n",
    "\n",
    "Objectives:\n",
    "- Encode object columns\n",
    "- Split the data into training and testing sets\n",
    "- Scale the data \n",
    "- Train test split 80/20"
   ]
  },
  {
   "cell_type": "code",
   "execution_count": 44,
   "id": "c0202e8e",
   "metadata": {
    "execution": {
     "iopub.execute_input": "2024-09-18T18:23:12.336256Z",
     "iopub.status.busy": "2024-09-18T18:23:12.335866Z",
     "iopub.status.idle": "2024-09-18T18:23:12.673083Z",
     "shell.execute_reply": "2024-09-18T18:23:12.672013Z"
    },
    "papermill": {
     "duration": 0.363768,
     "end_time": "2024-09-18T18:23:12.675631",
     "exception": false,
     "start_time": "2024-09-18T18:23:12.311863",
     "status": "completed"
    },
    "tags": []
   },
   "outputs": [],
   "source": [
    "# Encoding object (categorical) variables\n",
    "cat_cols = ['brand', 'model', 'fuel_type', 'engine', 'transmission', 'ext_col', 'int_col',\n",
    "           'accident', 'clean_title']\n",
    "\n",
    "le = LabelEncoder()\n",
    "\n",
    "for col in cat_cols:\n",
    "    if col in train.columns:\n",
    "        train[col] = le.fit_transform(train[col])"
   ]
  },
  {
   "cell_type": "code",
   "execution_count": 45,
   "id": "d4374ee7",
   "metadata": {
    "execution": {
     "iopub.execute_input": "2024-09-18T18:23:12.724225Z",
     "iopub.status.busy": "2024-09-18T18:23:12.723842Z",
     "iopub.status.idle": "2024-09-18T18:23:12.734575Z",
     "shell.execute_reply": "2024-09-18T18:23:12.733781Z"
    },
    "papermill": {
     "duration": 0.036737,
     "end_time": "2024-09-18T18:23:12.736596",
     "exception": false,
     "start_time": "2024-09-18T18:23:12.699859",
     "status": "completed"
    },
    "tags": []
   },
   "outputs": [],
   "source": [
    "# Removing target variable 'price' from 'train' to assign training (X) and testing (y) sets\n",
    "X = train.drop(columns=['price'])\n",
    "y = train['price']"
   ]
  },
  {
   "cell_type": "code",
   "execution_count": 46,
   "id": "13330ee7",
   "metadata": {
    "execution": {
     "iopub.execute_input": "2024-09-18T18:23:12.783986Z",
     "iopub.status.busy": "2024-09-18T18:23:12.783588Z",
     "iopub.status.idle": "2024-09-18T18:23:12.829523Z",
     "shell.execute_reply": "2024-09-18T18:23:12.828657Z"
    },
    "papermill": {
     "duration": 0.072498,
     "end_time": "2024-09-18T18:23:12.831828",
     "exception": false,
     "start_time": "2024-09-18T18:23:12.759330",
     "status": "completed"
    },
    "tags": []
   },
   "outputs": [],
   "source": [
    "# Applying MinMaxScaler to the training data 'X'\n",
    "scaler = MinMaxScaler()\n",
    "X = scaler.fit_transform(X)"
   ]
  },
  {
   "cell_type": "code",
   "execution_count": 47,
   "id": "6698f211",
   "metadata": {
    "execution": {
     "iopub.execute_input": "2024-09-18T18:23:12.879256Z",
     "iopub.status.busy": "2024-09-18T18:23:12.878871Z",
     "iopub.status.idle": "2024-09-18T18:23:12.909981Z",
     "shell.execute_reply": "2024-09-18T18:23:12.909137Z"
    },
    "papermill": {
     "duration": 0.057493,
     "end_time": "2024-09-18T18:23:12.912409",
     "exception": false,
     "start_time": "2024-09-18T18:23:12.854916",
     "status": "completed"
    },
    "tags": []
   },
   "outputs": [],
   "source": [
    "# Train test split, 80/20\n",
    "X_train, X_val, y_train, y_val = train_test_split(X, y, test_size=0.2, random_state=42)"
   ]
  },
  {
   "cell_type": "markdown",
   "id": "3d5801dd",
   "metadata": {
    "papermill": {
     "duration": 0.022197,
     "end_time": "2024-09-18T18:23:12.957445",
     "exception": false,
     "start_time": "2024-09-18T18:23:12.935248",
     "status": "completed"
    },
    "tags": []
   },
   "source": [
    "<a id=\"0\"></a>\n",
    "\n",
    "<a href=\"#0\" style=\"background-color:blue; color:white; padding: 7px 10px; text-decoration: none; border-radius: 50px;\">Back to top</a><a id=\"0\"></a>\n",
    "\n",
    "<a id=\"0\"></a>\n",
    "\n",
    "<a href=\"#8\" style=\"background-color:blue; color:white; padding: 7px 10px; text-decoration: none; border-radius: 50px;\">Next Section</a><a id=\"0\"></a>\n",
    "\n",
    "<a id=\"7\"></a>\n",
    "\n",
    "# **Building the Neural Network**"
   ]
  },
  {
   "cell_type": "code",
   "execution_count": 48,
   "id": "c05b7cf3",
   "metadata": {
    "execution": {
     "iopub.execute_input": "2024-09-18T18:23:13.004325Z",
     "iopub.status.busy": "2024-09-18T18:23:13.003933Z",
     "iopub.status.idle": "2024-09-18T18:23:13.140297Z",
     "shell.execute_reply": "2024-09-18T18:23:13.139210Z"
    },
    "papermill": {
     "duration": 0.162344,
     "end_time": "2024-09-18T18:23:13.142280",
     "exception": false,
     "start_time": "2024-09-18T18:23:12.979936",
     "status": "completed"
    },
    "tags": []
   },
   "outputs": [
    {
     "data": {
      "text/html": [
       "<pre style=\"white-space:pre;overflow-x:auto;line-height:normal;font-family:Menlo,'DejaVu Sans Mono',consolas,'Courier New',monospace\"><span style=\"font-weight: bold\">Model: \"sequential\"</span>\n",
       "</pre>\n"
      ],
      "text/plain": [
       "\u001b[1mModel: \"sequential\"\u001b[0m\n"
      ]
     },
     "metadata": {},
     "output_type": "display_data"
    },
    {
     "data": {
      "text/html": [
       "<pre style=\"white-space:pre;overflow-x:auto;line-height:normal;font-family:Menlo,'DejaVu Sans Mono',consolas,'Courier New',monospace\">┏━━━━━━━━━━━━━━━━━━━━━━━━━━━━━━━━━┳━━━━━━━━━━━━━━━━━━━━━━━━┳━━━━━━━━━━━━━━━┓\n",
       "┃<span style=\"font-weight: bold\"> Layer (type)                    </span>┃<span style=\"font-weight: bold\"> Output Shape           </span>┃<span style=\"font-weight: bold\">       Param # </span>┃\n",
       "┡━━━━━━━━━━━━━━━━━━━━━━━━━━━━━━━━━╇━━━━━━━━━━━━━━━━━━━━━━━━╇━━━━━━━━━━━━━━━┩\n",
       "│ dense (<span style=\"color: #0087ff; text-decoration-color: #0087ff\">Dense</span>)                   │ (<span style=\"color: #00d7ff; text-decoration-color: #00d7ff\">None</span>, <span style=\"color: #00af00; text-decoration-color: #00af00\">128</span>)            │         <span style=\"color: #00af00; text-decoration-color: #00af00\">1,536</span> │\n",
       "├─────────────────────────────────┼────────────────────────┼───────────────┤\n",
       "│ batch_normalization             │ (<span style=\"color: #00d7ff; text-decoration-color: #00d7ff\">None</span>, <span style=\"color: #00af00; text-decoration-color: #00af00\">128</span>)            │           <span style=\"color: #00af00; text-decoration-color: #00af00\">512</span> │\n",
       "│ (<span style=\"color: #0087ff; text-decoration-color: #0087ff\">BatchNormalization</span>)            │                        │               │\n",
       "├─────────────────────────────────┼────────────────────────┼───────────────┤\n",
       "│ dropout (<span style=\"color: #0087ff; text-decoration-color: #0087ff\">Dropout</span>)               │ (<span style=\"color: #00d7ff; text-decoration-color: #00d7ff\">None</span>, <span style=\"color: #00af00; text-decoration-color: #00af00\">128</span>)            │             <span style=\"color: #00af00; text-decoration-color: #00af00\">0</span> │\n",
       "├─────────────────────────────────┼────────────────────────┼───────────────┤\n",
       "│ dense_1 (<span style=\"color: #0087ff; text-decoration-color: #0087ff\">Dense</span>)                 │ (<span style=\"color: #00d7ff; text-decoration-color: #00d7ff\">None</span>, <span style=\"color: #00af00; text-decoration-color: #00af00\">128</span>)            │        <span style=\"color: #00af00; text-decoration-color: #00af00\">16,512</span> │\n",
       "├─────────────────────────────────┼────────────────────────┼───────────────┤\n",
       "│ batch_normalization_1           │ (<span style=\"color: #00d7ff; text-decoration-color: #00d7ff\">None</span>, <span style=\"color: #00af00; text-decoration-color: #00af00\">128</span>)            │           <span style=\"color: #00af00; text-decoration-color: #00af00\">512</span> │\n",
       "│ (<span style=\"color: #0087ff; text-decoration-color: #0087ff\">BatchNormalization</span>)            │                        │               │\n",
       "├─────────────────────────────────┼────────────────────────┼───────────────┤\n",
       "│ dropout_1 (<span style=\"color: #0087ff; text-decoration-color: #0087ff\">Dropout</span>)             │ (<span style=\"color: #00d7ff; text-decoration-color: #00d7ff\">None</span>, <span style=\"color: #00af00; text-decoration-color: #00af00\">128</span>)            │             <span style=\"color: #00af00; text-decoration-color: #00af00\">0</span> │\n",
       "├─────────────────────────────────┼────────────────────────┼───────────────┤\n",
       "│ dense_2 (<span style=\"color: #0087ff; text-decoration-color: #0087ff\">Dense</span>)                 │ (<span style=\"color: #00d7ff; text-decoration-color: #00d7ff\">None</span>, <span style=\"color: #00af00; text-decoration-color: #00af00\">64</span>)             │         <span style=\"color: #00af00; text-decoration-color: #00af00\">8,256</span> │\n",
       "├─────────────────────────────────┼────────────────────────┼───────────────┤\n",
       "│ batch_normalization_2           │ (<span style=\"color: #00d7ff; text-decoration-color: #00d7ff\">None</span>, <span style=\"color: #00af00; text-decoration-color: #00af00\">64</span>)             │           <span style=\"color: #00af00; text-decoration-color: #00af00\">256</span> │\n",
       "│ (<span style=\"color: #0087ff; text-decoration-color: #0087ff\">BatchNormalization</span>)            │                        │               │\n",
       "├─────────────────────────────────┼────────────────────────┼───────────────┤\n",
       "│ dense_3 (<span style=\"color: #0087ff; text-decoration-color: #0087ff\">Dense</span>)                 │ (<span style=\"color: #00d7ff; text-decoration-color: #00d7ff\">None</span>, <span style=\"color: #00af00; text-decoration-color: #00af00\">1</span>)              │            <span style=\"color: #00af00; text-decoration-color: #00af00\">65</span> │\n",
       "└─────────────────────────────────┴────────────────────────┴───────────────┘\n",
       "</pre>\n"
      ],
      "text/plain": [
       "┏━━━━━━━━━━━━━━━━━━━━━━━━━━━━━━━━━┳━━━━━━━━━━━━━━━━━━━━━━━━┳━━━━━━━━━━━━━━━┓\n",
       "┃\u001b[1m \u001b[0m\u001b[1mLayer (type)                   \u001b[0m\u001b[1m \u001b[0m┃\u001b[1m \u001b[0m\u001b[1mOutput Shape          \u001b[0m\u001b[1m \u001b[0m┃\u001b[1m \u001b[0m\u001b[1m      Param #\u001b[0m\u001b[1m \u001b[0m┃\n",
       "┡━━━━━━━━━━━━━━━━━━━━━━━━━━━━━━━━━╇━━━━━━━━━━━━━━━━━━━━━━━━╇━━━━━━━━━━━━━━━┩\n",
       "│ dense (\u001b[38;5;33mDense\u001b[0m)                   │ (\u001b[38;5;45mNone\u001b[0m, \u001b[38;5;34m128\u001b[0m)            │         \u001b[38;5;34m1,536\u001b[0m │\n",
       "├─────────────────────────────────┼────────────────────────┼───────────────┤\n",
       "│ batch_normalization             │ (\u001b[38;5;45mNone\u001b[0m, \u001b[38;5;34m128\u001b[0m)            │           \u001b[38;5;34m512\u001b[0m │\n",
       "│ (\u001b[38;5;33mBatchNormalization\u001b[0m)            │                        │               │\n",
       "├─────────────────────────────────┼────────────────────────┼───────────────┤\n",
       "│ dropout (\u001b[38;5;33mDropout\u001b[0m)               │ (\u001b[38;5;45mNone\u001b[0m, \u001b[38;5;34m128\u001b[0m)            │             \u001b[38;5;34m0\u001b[0m │\n",
       "├─────────────────────────────────┼────────────────────────┼───────────────┤\n",
       "│ dense_1 (\u001b[38;5;33mDense\u001b[0m)                 │ (\u001b[38;5;45mNone\u001b[0m, \u001b[38;5;34m128\u001b[0m)            │        \u001b[38;5;34m16,512\u001b[0m │\n",
       "├─────────────────────────────────┼────────────────────────┼───────────────┤\n",
       "│ batch_normalization_1           │ (\u001b[38;5;45mNone\u001b[0m, \u001b[38;5;34m128\u001b[0m)            │           \u001b[38;5;34m512\u001b[0m │\n",
       "│ (\u001b[38;5;33mBatchNormalization\u001b[0m)            │                        │               │\n",
       "├─────────────────────────────────┼────────────────────────┼───────────────┤\n",
       "│ dropout_1 (\u001b[38;5;33mDropout\u001b[0m)             │ (\u001b[38;5;45mNone\u001b[0m, \u001b[38;5;34m128\u001b[0m)            │             \u001b[38;5;34m0\u001b[0m │\n",
       "├─────────────────────────────────┼────────────────────────┼───────────────┤\n",
       "│ dense_2 (\u001b[38;5;33mDense\u001b[0m)                 │ (\u001b[38;5;45mNone\u001b[0m, \u001b[38;5;34m64\u001b[0m)             │         \u001b[38;5;34m8,256\u001b[0m │\n",
       "├─────────────────────────────────┼────────────────────────┼───────────────┤\n",
       "│ batch_normalization_2           │ (\u001b[38;5;45mNone\u001b[0m, \u001b[38;5;34m64\u001b[0m)             │           \u001b[38;5;34m256\u001b[0m │\n",
       "│ (\u001b[38;5;33mBatchNormalization\u001b[0m)            │                        │               │\n",
       "├─────────────────────────────────┼────────────────────────┼───────────────┤\n",
       "│ dense_3 (\u001b[38;5;33mDense\u001b[0m)                 │ (\u001b[38;5;45mNone\u001b[0m, \u001b[38;5;34m1\u001b[0m)              │            \u001b[38;5;34m65\u001b[0m │\n",
       "└─────────────────────────────────┴────────────────────────┴───────────────┘\n"
      ]
     },
     "metadata": {},
     "output_type": "display_data"
    },
    {
     "data": {
      "text/html": [
       "<pre style=\"white-space:pre;overflow-x:auto;line-height:normal;font-family:Menlo,'DejaVu Sans Mono',consolas,'Courier New',monospace\"><span style=\"font-weight: bold\"> Total params: </span><span style=\"color: #00af00; text-decoration-color: #00af00\">27,649</span> (108.00 KB)\n",
       "</pre>\n"
      ],
      "text/plain": [
       "\u001b[1m Total params: \u001b[0m\u001b[38;5;34m27,649\u001b[0m (108.00 KB)\n"
      ]
     },
     "metadata": {},
     "output_type": "display_data"
    },
    {
     "data": {
      "text/html": [
       "<pre style=\"white-space:pre;overflow-x:auto;line-height:normal;font-family:Menlo,'DejaVu Sans Mono',consolas,'Courier New',monospace\"><span style=\"font-weight: bold\"> Trainable params: </span><span style=\"color: #00af00; text-decoration-color: #00af00\">27,009</span> (105.50 KB)\n",
       "</pre>\n"
      ],
      "text/plain": [
       "\u001b[1m Trainable params: \u001b[0m\u001b[38;5;34m27,009\u001b[0m (105.50 KB)\n"
      ]
     },
     "metadata": {},
     "output_type": "display_data"
    },
    {
     "data": {
      "text/html": [
       "<pre style=\"white-space:pre;overflow-x:auto;line-height:normal;font-family:Menlo,'DejaVu Sans Mono',consolas,'Courier New',monospace\"><span style=\"font-weight: bold\"> Non-trainable params: </span><span style=\"color: #00af00; text-decoration-color: #00af00\">640</span> (2.50 KB)\n",
       "</pre>\n"
      ],
      "text/plain": [
       "\u001b[1m Non-trainable params: \u001b[0m\u001b[38;5;34m640\u001b[0m (2.50 KB)\n"
      ]
     },
     "metadata": {},
     "output_type": "display_data"
    }
   ],
   "source": [
    "# Building the model\n",
    "model = Sequential([\n",
    "    Input(shape=(X_train.shape[1],)),\n",
    "    Dense(128, activation='relu'),\n",
    "    BatchNormalization(),\n",
    "    Dropout(0.1),\n",
    "    Dense(128, activation='relu'),\n",
    "    BatchNormalization(),\n",
    "    Dropout(0.1),\n",
    "    Dense(64, activation='relu'),\n",
    "    BatchNormalization(),\n",
    "    Dense(1, activation='linear')  \n",
    "])\n",
    "\n",
    "model.summary()"
   ]
  },
  {
   "cell_type": "code",
   "execution_count": 49,
   "id": "52ee62a3",
   "metadata": {
    "execution": {
     "iopub.execute_input": "2024-09-18T18:23:13.191424Z",
     "iopub.status.busy": "2024-09-18T18:23:13.190734Z",
     "iopub.status.idle": "2024-09-18T18:23:13.205097Z",
     "shell.execute_reply": "2024-09-18T18:23:13.204303Z"
    },
    "papermill": {
     "duration": 0.041214,
     "end_time": "2024-09-18T18:23:13.207247",
     "exception": false,
     "start_time": "2024-09-18T18:23:13.166033",
     "status": "completed"
    },
    "tags": []
   },
   "outputs": [],
   "source": [
    "# Compiling the model\n",
    "model.compile(loss='mean_squared_error', optimizer=Adam(learning_rate=0.001))"
   ]
  },
  {
   "cell_type": "code",
   "execution_count": 50,
   "id": "4442a8ef",
   "metadata": {
    "execution": {
     "iopub.execute_input": "2024-09-18T18:23:13.256220Z",
     "iopub.status.busy": "2024-09-18T18:23:13.255514Z",
     "iopub.status.idle": "2024-09-18T18:26:30.625807Z",
     "shell.execute_reply": "2024-09-18T18:26:30.624698Z"
    },
    "papermill": {
     "duration": 197.39701,
     "end_time": "2024-09-18T18:26:30.628002",
     "exception": false,
     "start_time": "2024-09-18T18:23:13.230992",
     "status": "completed"
    },
    "tags": []
   },
   "outputs": [
    {
     "name": "stdout",
     "output_type": "stream",
     "text": [
      "Epoch 1/50\n",
      "\u001b[1m1199/1199\u001b[0m \u001b[32m━━━━━━━━━━━━━━━━━━━━\u001b[0m\u001b[37m\u001b[0m \u001b[1m6s\u001b[0m 3ms/step - loss: 7604319744.0000 - val_loss: 8132649984.0000\n",
      "Epoch 2/50\n",
      "\u001b[1m1199/1199\u001b[0m \u001b[32m━━━━━━━━━━━━━━━━━━━━\u001b[0m\u001b[37m\u001b[0m \u001b[1m4s\u001b[0m 3ms/step - loss: 7582426624.0000 - val_loss: 8059749888.0000\n",
      "Epoch 3/50\n",
      "\u001b[1m1199/1199\u001b[0m \u001b[32m━━━━━━━━━━━━━━━━━━━━\u001b[0m\u001b[37m\u001b[0m \u001b[1m4s\u001b[0m 3ms/step - loss: 7340428800.0000 - val_loss: 7919504896.0000\n",
      "Epoch 4/50\n",
      "\u001b[1m1199/1199\u001b[0m \u001b[32m━━━━━━━━━━━━━━━━━━━━\u001b[0m\u001b[37m\u001b[0m \u001b[1m4s\u001b[0m 3ms/step - loss: 7822487552.0000 - val_loss: 7774439936.0000\n",
      "Epoch 5/50\n",
      "\u001b[1m1199/1199\u001b[0m \u001b[32m━━━━━━━━━━━━━━━━━━━━\u001b[0m\u001b[37m\u001b[0m \u001b[1m4s\u001b[0m 3ms/step - loss: 7814188544.0000 - val_loss: 7719448064.0000\n",
      "Epoch 6/50\n",
      "\u001b[1m1199/1199\u001b[0m \u001b[32m━━━━━━━━━━━━━━━━━━━━\u001b[0m\u001b[37m\u001b[0m \u001b[1m4s\u001b[0m 3ms/step - loss: 6696615424.0000 - val_loss: 7484252160.0000\n",
      "Epoch 7/50\n",
      "\u001b[1m1199/1199\u001b[0m \u001b[32m━━━━━━━━━━━━━━━━━━━━\u001b[0m\u001b[37m\u001b[0m \u001b[1m4s\u001b[0m 3ms/step - loss: 6742863872.0000 - val_loss: 7223057408.0000\n",
      "Epoch 8/50\n",
      "\u001b[1m1199/1199\u001b[0m \u001b[32m━━━━━━━━━━━━━━━━━━━━\u001b[0m\u001b[37m\u001b[0m \u001b[1m4s\u001b[0m 3ms/step - loss: 6744112640.0000 - val_loss: 6959518720.0000\n",
      "Epoch 9/50\n",
      "\u001b[1m1199/1199\u001b[0m \u001b[32m━━━━━━━━━━━━━━━━━━━━\u001b[0m\u001b[37m\u001b[0m \u001b[1m4s\u001b[0m 3ms/step - loss: 7099935232.0000 - val_loss: 6992768512.0000\n",
      "Epoch 10/50\n",
      "\u001b[1m1199/1199\u001b[0m \u001b[32m━━━━━━━━━━━━━━━━━━━━\u001b[0m\u001b[37m\u001b[0m \u001b[1m4s\u001b[0m 3ms/step - loss: 6109046272.0000 - val_loss: 6673745920.0000\n",
      "Epoch 11/50\n",
      "\u001b[1m1199/1199\u001b[0m \u001b[32m━━━━━━━━━━━━━━━━━━━━\u001b[0m\u001b[37m\u001b[0m \u001b[1m4s\u001b[0m 3ms/step - loss: 6493928960.0000 - val_loss: 6358580736.0000\n",
      "Epoch 12/50\n",
      "\u001b[1m1199/1199\u001b[0m \u001b[32m━━━━━━━━━━━━━━━━━━━━\u001b[0m\u001b[37m\u001b[0m \u001b[1m4s\u001b[0m 3ms/step - loss: 6443930624.0000 - val_loss: 6230945280.0000\n",
      "Epoch 13/50\n",
      "\u001b[1m1199/1199\u001b[0m \u001b[32m━━━━━━━━━━━━━━━━━━━━\u001b[0m\u001b[37m\u001b[0m \u001b[1m4s\u001b[0m 3ms/step - loss: 6059465728.0000 - val_loss: 6048852480.0000\n",
      "Epoch 14/50\n",
      "\u001b[1m1199/1199\u001b[0m \u001b[32m━━━━━━━━━━━━━━━━━━━━\u001b[0m\u001b[37m\u001b[0m \u001b[1m4s\u001b[0m 3ms/step - loss: 5963137024.0000 - val_loss: 5959586304.0000\n",
      "Epoch 15/50\n",
      "\u001b[1m1199/1199\u001b[0m \u001b[32m━━━━━━━━━━━━━━━━━━━━\u001b[0m\u001b[37m\u001b[0m \u001b[1m4s\u001b[0m 3ms/step - loss: 6496679936.0000 - val_loss: 5802467840.0000\n",
      "Epoch 16/50\n",
      "\u001b[1m1199/1199\u001b[0m \u001b[32m━━━━━━━━━━━━━━━━━━━━\u001b[0m\u001b[37m\u001b[0m \u001b[1m4s\u001b[0m 3ms/step - loss: 5776913920.0000 - val_loss: 5716049920.0000\n",
      "Epoch 17/50\n",
      "\u001b[1m1199/1199\u001b[0m \u001b[32m━━━━━━━━━━━━━━━━━━━━\u001b[0m\u001b[37m\u001b[0m \u001b[1m4s\u001b[0m 3ms/step - loss: 5167644672.0000 - val_loss: 5622714368.0000\n",
      "Epoch 18/50\n",
      "\u001b[1m1199/1199\u001b[0m \u001b[32m━━━━━━━━━━━━━━━━━━━━\u001b[0m\u001b[37m\u001b[0m \u001b[1m4s\u001b[0m 3ms/step - loss: 5669961216.0000 - val_loss: 5518420992.0000\n",
      "Epoch 19/50\n",
      "\u001b[1m1199/1199\u001b[0m \u001b[32m━━━━━━━━━━━━━━━━━━━━\u001b[0m\u001b[37m\u001b[0m \u001b[1m5s\u001b[0m 3ms/step - loss: 6309563904.0000 - val_loss: 5450958336.0000\n",
      "Epoch 20/50\n",
      "\u001b[1m1199/1199\u001b[0m \u001b[32m━━━━━━━━━━━━━━━━━━━━\u001b[0m\u001b[37m\u001b[0m \u001b[1m4s\u001b[0m 3ms/step - loss: 5531363840.0000 - val_loss: 5423740928.0000\n",
      "Epoch 21/50\n",
      "\u001b[1m1199/1199\u001b[0m \u001b[32m━━━━━━━━━━━━━━━━━━━━\u001b[0m\u001b[37m\u001b[0m \u001b[1m4s\u001b[0m 3ms/step - loss: 5309214720.0000 - val_loss: 5407211008.0000\n",
      "Epoch 22/50\n",
      "\u001b[1m1199/1199\u001b[0m \u001b[32m━━━━━━━━━━━━━━━━━━━━\u001b[0m\u001b[37m\u001b[0m \u001b[1m4s\u001b[0m 3ms/step - loss: 6033297408.0000 - val_loss: 5395378176.0000\n",
      "Epoch 23/50\n",
      "\u001b[1m1199/1199\u001b[0m \u001b[32m━━━━━━━━━━━━━━━━━━━━\u001b[0m\u001b[37m\u001b[0m \u001b[1m4s\u001b[0m 3ms/step - loss: 6461541376.0000 - val_loss: 5389190144.0000\n",
      "Epoch 24/50\n",
      "\u001b[1m1199/1199\u001b[0m \u001b[32m━━━━━━━━━━━━━━━━━━━━\u001b[0m\u001b[37m\u001b[0m \u001b[1m4s\u001b[0m 3ms/step - loss: 5351465984.0000 - val_loss: 5382569984.0000\n",
      "Epoch 25/50\n",
      "\u001b[1m1199/1199\u001b[0m \u001b[32m━━━━━━━━━━━━━━━━━━━━\u001b[0m\u001b[37m\u001b[0m \u001b[1m4s\u001b[0m 3ms/step - loss: 5208517632.0000 - val_loss: 5405737984.0000\n",
      "Epoch 26/50\n",
      "\u001b[1m1199/1199\u001b[0m \u001b[32m━━━━━━━━━━━━━━━━━━━━\u001b[0m\u001b[37m\u001b[0m \u001b[1m4s\u001b[0m 3ms/step - loss: 4895048192.0000 - val_loss: 5395273728.0000\n",
      "Epoch 27/50\n",
      "\u001b[1m1199/1199\u001b[0m \u001b[32m━━━━━━━━━━━━━━━━━━━━\u001b[0m\u001b[37m\u001b[0m \u001b[1m4s\u001b[0m 3ms/step - loss: 5537538048.0000 - val_loss: 5396768768.0000\n",
      "Epoch 28/50\n",
      "\u001b[1m1199/1199\u001b[0m \u001b[32m━━━━━━━━━━━━━━━━━━━━\u001b[0m\u001b[37m\u001b[0m \u001b[1m4s\u001b[0m 3ms/step - loss: 5910219264.0000 - val_loss: 5373639168.0000\n",
      "Epoch 29/50\n",
      "\u001b[1m1199/1199\u001b[0m \u001b[32m━━━━━━━━━━━━━━━━━━━━\u001b[0m\u001b[37m\u001b[0m \u001b[1m4s\u001b[0m 3ms/step - loss: 5896593920.0000 - val_loss: 5380824576.0000\n",
      "Epoch 30/50\n",
      "\u001b[1m1199/1199\u001b[0m \u001b[32m━━━━━━━━━━━━━━━━━━━━\u001b[0m\u001b[37m\u001b[0m \u001b[1m4s\u001b[0m 3ms/step - loss: 6063111168.0000 - val_loss: 5381818368.0000\n",
      "Epoch 31/50\n",
      "\u001b[1m1199/1199\u001b[0m \u001b[32m━━━━━━━━━━━━━━━━━━━━\u001b[0m\u001b[37m\u001b[0m \u001b[1m4s\u001b[0m 3ms/step - loss: 5307583488.0000 - val_loss: 5361611264.0000\n",
      "Epoch 32/50\n",
      "\u001b[1m1199/1199\u001b[0m \u001b[32m━━━━━━━━━━━━━━━━━━━━\u001b[0m\u001b[37m\u001b[0m \u001b[1m4s\u001b[0m 3ms/step - loss: 5862898688.0000 - val_loss: 5366117888.0000\n",
      "Epoch 33/50\n",
      "\u001b[1m1199/1199\u001b[0m \u001b[32m━━━━━━━━━━━━━━━━━━━━\u001b[0m\u001b[37m\u001b[0m \u001b[1m4s\u001b[0m 3ms/step - loss: 5886440960.0000 - val_loss: 5381338112.0000\n",
      "Epoch 34/50\n",
      "\u001b[1m1199/1199\u001b[0m \u001b[32m━━━━━━━━━━━━━━━━━━━━\u001b[0m\u001b[37m\u001b[0m \u001b[1m4s\u001b[0m 3ms/step - loss: 4503028736.0000 - val_loss: 5371924992.0000\n",
      "Epoch 35/50\n",
      "\u001b[1m1199/1199\u001b[0m \u001b[32m━━━━━━━━━━━━━━━━━━━━\u001b[0m\u001b[37m\u001b[0m \u001b[1m4s\u001b[0m 3ms/step - loss: 5458491904.0000 - val_loss: 5372895232.0000\n",
      "Epoch 36/50\n",
      "\u001b[1m1199/1199\u001b[0m \u001b[32m━━━━━━━━━━━━━━━━━━━━\u001b[0m\u001b[37m\u001b[0m \u001b[1m4s\u001b[0m 3ms/step - loss: 5021965312.0000 - val_loss: 5363612160.0000\n",
      "Epoch 37/50\n",
      "\u001b[1m1199/1199\u001b[0m \u001b[32m━━━━━━━━━━━━━━━━━━━━\u001b[0m\u001b[37m\u001b[0m \u001b[1m4s\u001b[0m 3ms/step - loss: 5786015232.0000 - val_loss: 5363921408.0000\n",
      "Epoch 38/50\n",
      "\u001b[1m1199/1199\u001b[0m \u001b[32m━━━━━━━━━━━━━━━━━━━━\u001b[0m\u001b[37m\u001b[0m \u001b[1m4s\u001b[0m 3ms/step - loss: 5251880448.0000 - val_loss: 5366924288.0000\n",
      "Epoch 39/50\n",
      "\u001b[1m1199/1199\u001b[0m \u001b[32m━━━━━━━━━━━━━━━━━━━━\u001b[0m\u001b[37m\u001b[0m \u001b[1m4s\u001b[0m 3ms/step - loss: 5396781056.0000 - val_loss: 5370577408.0000\n",
      "Epoch 40/50\n",
      "\u001b[1m1199/1199\u001b[0m \u001b[32m━━━━━━━━━━━━━━━━━━━━\u001b[0m\u001b[37m\u001b[0m \u001b[1m4s\u001b[0m 3ms/step - loss: 5122875392.0000 - val_loss: 5370287104.0000\n",
      "Epoch 41/50\n",
      "\u001b[1m1199/1199\u001b[0m \u001b[32m━━━━━━━━━━━━━━━━━━━━\u001b[0m\u001b[37m\u001b[0m \u001b[1m4s\u001b[0m 3ms/step - loss: 4522586624.0000 - val_loss: 5370075648.0000\n",
      "Epoch 42/50\n",
      "\u001b[1m1199/1199\u001b[0m \u001b[32m━━━━━━━━━━━━━━━━━━━━\u001b[0m\u001b[37m\u001b[0m \u001b[1m4s\u001b[0m 3ms/step - loss: 5407956992.0000 - val_loss: 5364189696.0000\n",
      "Epoch 43/50\n",
      "\u001b[1m1199/1199\u001b[0m \u001b[32m━━━━━━━━━━━━━━━━━━━━\u001b[0m\u001b[37m\u001b[0m \u001b[1m4s\u001b[0m 3ms/step - loss: 6168818176.0000 - val_loss: 5372472832.0000\n",
      "Epoch 44/50\n",
      "\u001b[1m1199/1199\u001b[0m \u001b[32m━━━━━━━━━━━━━━━━━━━━\u001b[0m\u001b[37m\u001b[0m \u001b[1m4s\u001b[0m 3ms/step - loss: 4791100928.0000 - val_loss: 5359331328.0000\n",
      "Epoch 45/50\n",
      "\u001b[1m1199/1199\u001b[0m \u001b[32m━━━━━━━━━━━━━━━━━━━━\u001b[0m\u001b[37m\u001b[0m \u001b[1m4s\u001b[0m 3ms/step - loss: 4614575104.0000 - val_loss: 5355148800.0000\n",
      "Epoch 46/50\n",
      "\u001b[1m1199/1199\u001b[0m \u001b[32m━━━━━━━━━━━━━━━━━━━━\u001b[0m\u001b[37m\u001b[0m \u001b[1m4s\u001b[0m 3ms/step - loss: 5238554624.0000 - val_loss: 5378608128.0000\n",
      "Epoch 47/50\n",
      "\u001b[1m1199/1199\u001b[0m \u001b[32m━━━━━━━━━━━━━━━━━━━━\u001b[0m\u001b[37m\u001b[0m \u001b[1m4s\u001b[0m 3ms/step - loss: 5987852800.0000 - val_loss: 5410378240.0000\n",
      "Epoch 48/50\n",
      "\u001b[1m1199/1199\u001b[0m \u001b[32m━━━━━━━━━━━━━━━━━━━━\u001b[0m\u001b[37m\u001b[0m \u001b[1m4s\u001b[0m 3ms/step - loss: 5419654656.0000 - val_loss: 5359476224.0000\n",
      "Epoch 49/50\n",
      "\u001b[1m1199/1199\u001b[0m \u001b[32m━━━━━━━━━━━━━━━━━━━━\u001b[0m\u001b[37m\u001b[0m \u001b[1m4s\u001b[0m 3ms/step - loss: 4612672000.0000 - val_loss: 5360163840.0000\n",
      "Epoch 50/50\n",
      "\u001b[1m1199/1199\u001b[0m \u001b[32m━━━━━━━━━━━━━━━━━━━━\u001b[0m\u001b[37m\u001b[0m \u001b[1m4s\u001b[0m 3ms/step - loss: 5144741888.0000 - val_loss: 5359978496.0000\n"
     ]
    }
   ],
   "source": [
    "# Training the model\n",
    "losses = model.fit(X_train, y_train, validation_data=(X_val, y_val), epochs=50, batch_size=128)"
   ]
  },
  {
   "cell_type": "code",
   "execution_count": 51,
   "id": "769c402e",
   "metadata": {
    "execution": {
     "iopub.execute_input": "2024-09-18T18:26:31.180762Z",
     "iopub.status.busy": "2024-09-18T18:26:31.180295Z",
     "iopub.status.idle": "2024-09-18T18:26:31.479129Z",
     "shell.execute_reply": "2024-09-18T18:26:31.478167Z"
    },
    "papermill": {
     "duration": 0.606265,
     "end_time": "2024-09-18T18:26:31.481493",
     "exception": false,
     "start_time": "2024-09-18T18:26:30.875228",
     "status": "completed"
    },
    "tags": []
   },
   "outputs": [
    {
     "data": {
      "text/plain": [
       "<Axes: >"
      ]
     },
     "execution_count": 51,
     "metadata": {},
     "output_type": "execute_result"
    },
    {
     "data": {
      "image/png": "[encoded data removed]",
      "text/plain": [
       "<Figure size 640x480 with 1 Axes>"
      ]
     },
     "metadata": {},
     "output_type": "display_data"
    }
   ],
   "source": [
    "# Visualizing Training vs Validation Loss\n",
    "loss_df = pd.DataFrame(losses.history)\n",
    "loss_df.loc[:,['loss', 'val_loss']].plot()"
   ]
  },
  {
   "cell_type": "markdown",
   "id": "151b92c8",
   "metadata": {
    "papermill": {
     "duration": 0.244152,
     "end_time": "2024-09-18T18:26:31.971162",
     "exception": false,
     "start_time": "2024-09-18T18:26:31.727010",
     "status": "completed"
    },
    "tags": []
   },
   "source": [
    "The chart above shows the training and validation losses across the 50 epochs. There is a clear and significant continuous decrease in both losses from epochs 0 to 20. After that, the decrease in loss appears to taper and level off. Fortunately, the validation loss does not appear to be erratic, as it closely follows the curve of the training loss. Moreover, the model does not appear to overfit the data, as there are no significant increases in loss throughout the 50 epochs.  "
   ]
  },
  {
   "cell_type": "markdown",
   "id": "2cd2677d",
   "metadata": {
    "papermill": {
     "duration": 0.245854,
     "end_time": "2024-09-18T18:26:32.461538",
     "exception": false,
     "start_time": "2024-09-18T18:26:32.215684",
     "status": "completed"
    },
    "tags": []
   },
   "source": [
    "<a id=\"0\"></a>\n",
    "\n",
    "<a href=\"#0\" style=\"background-color:blue; color:white; padding: 7px 10px; text-decoration: none; border-radius: 50px;\">Back to top</a><a id=\"0\"></a>\n",
    "\n",
    "<a id=\"0\"></a>\n",
    "\n",
    "<a href=\"#9\" style=\"background-color:blue; color:white; padding: 7px 10px; text-decoration: none; border-radius: 50px;\">Next Section</a><a id=\"0\"></a>\n",
    "\n",
    "<a id=\"8\"></a>\n",
    "\n",
    "# **Making Predictions**\n",
    "\n",
    "Objectives:\n",
    "- Apply data cleaning process to 'test_df'\n",
    "- Encode object columns\n",
    "- Scale the 'test' data\n",
    "- Make predictions on the 'test' data using the model\n",
    "- Submit predictions as .csv"
   ]
  },
  {
   "cell_type": "code",
   "execution_count": 52,
   "id": "742882c9",
   "metadata": {
    "execution": {
     "iopub.execute_input": "2024-09-18T18:26:32.949973Z",
     "iopub.status.busy": "2024-09-18T18:26:32.949049Z",
     "iopub.status.idle": "2024-09-18T18:26:32.961596Z",
     "shell.execute_reply": "2024-09-18T18:26:32.960760Z"
    },
    "papermill": {
     "duration": 0.258703,
     "end_time": "2024-09-18T18:26:32.963726",
     "exception": false,
     "start_time": "2024-09-18T18:26:32.705023",
     "status": "completed"
    },
    "tags": []
   },
   "outputs": [],
   "source": [
    "# Creating a copy of the 'test_df' dataset\n",
    "test = test_df.copy()"
   ]
  },
  {
   "cell_type": "code",
   "execution_count": 53,
   "id": "0708281c",
   "metadata": {
    "execution": {
     "iopub.execute_input": "2024-09-18T18:26:33.509167Z",
     "iopub.status.busy": "2024-09-18T18:26:33.508761Z",
     "iopub.status.idle": "2024-09-18T18:26:33.532111Z",
     "shell.execute_reply": "2024-09-18T18:26:33.531199Z"
    },
    "papermill": {
     "duration": 0.274181,
     "end_time": "2024-09-18T18:26:33.534389",
     "exception": false,
     "start_time": "2024-09-18T18:26:33.260208",
     "status": "completed"
    },
    "tags": []
   },
   "outputs": [],
   "source": [
    "# Removing the 'id' column from 'test' dataset\n",
    "test = test.drop(columns=['id'])"
   ]
  },
  {
   "cell_type": "code",
   "execution_count": 54,
   "id": "f69e6dff",
   "metadata": {
    "execution": {
     "iopub.execute_input": "2024-09-18T18:26:34.022209Z",
     "iopub.status.busy": "2024-09-18T18:26:34.021520Z",
     "iopub.status.idle": "2024-09-18T18:26:34.047122Z",
     "shell.execute_reply": "2024-09-18T18:26:34.046287Z"
    },
    "papermill": {
     "duration": 0.27236,
     "end_time": "2024-09-18T18:26:34.049080",
     "exception": false,
     "start_time": "2024-09-18T18:26:33.776720",
     "status": "completed"
    },
    "tags": []
   },
   "outputs": [],
   "source": [
    "# Cleaning 'test_df' with similar steps from Data Cleaning section\n",
    "\n",
    "# Replacing 'fuel_type' with 'Gasoline' where 'fuel_type' is '–' and 'engine' is NOT '–'\n",
    "test.loc[(test['fuel_type']=='–') & (test['engine']!='–'),'fuel_type'] = 'Gasoline' "
   ]
  },
  {
   "cell_type": "code",
   "execution_count": 55,
   "id": "ef5f92f1",
   "metadata": {
    "execution": {
     "iopub.execute_input": "2024-09-18T18:26:34.541163Z",
     "iopub.status.busy": "2024-09-18T18:26:34.540240Z",
     "iopub.status.idle": "2024-09-18T18:26:36.629906Z",
     "shell.execute_reply": "2024-09-18T18:26:36.628805Z"
    },
    "papermill": {
     "duration": 2.33891,
     "end_time": "2024-09-18T18:26:36.632434",
     "exception": false,
     "start_time": "2024-09-18T18:26:34.293524",
     "status": "completed"
    },
    "tags": []
   },
   "outputs": [],
   "source": [
    "# Replacing 'not supported' with 'Gasoline' where 'engine' column contains 'Cylinder'\n",
    "test.loc[(test['fuel_type']=='not supported') & (test['engine'].str.contains('Cylinder', case=False, na=False)), 'fuel_type'] = 'Gasoline'\n",
    "\n",
    "# Replacing 'not supported' with 'Hybrid' where 'engine' columns contains 'Hydrogen'\n",
    "test.loc[(test['fuel_type']=='not supported') & (test['engine'].str.contains('Hydrogen', case=False, na=False)), 'fuel_type'] = 'Hybrid'\n",
    "\n",
    "# Assigning 'fuel_type' as 'E85 Flex Fuel' where 'engine' column contains 'Flex'\n",
    "test.loc[(test['fuel_type'].isna()) & (test['engine'].str.contains(\"Flex\", case=False, na=False)), 'fuel_type'] = 'E85 Flex Fuel'\n",
    "\n",
    "# Assigning as 'Hybrid' where 'engine' contains 'Dual', 'Electric', 'Battery', 'kW', 'AH'\n",
    "# Also where 'brand' contains 'Tesla' & where 'model' contains 'Hybrid'\n",
    "test.loc[(test['fuel_type'].isna()) & (test['engine'].str.contains(\"Dual\", case=False, na=False)), 'fuel_type'] = 'Hybrid'\n",
    "test.loc[(test['fuel_type'].isna()) & (test['engine'].str.contains(\"Electric\", case=False, na=False)), 'fuel_type'] = 'Hybrid'\n",
    "test.loc[(test['fuel_type'].isna()) & (test['engine'].str.contains(\"Battery\", case=False, na=False)), 'fuel_type'] = 'Hybrid'\n",
    "test.loc[(test['fuel_type'].isna()) & (test['engine'].str.contains(\"kW\", case=False, na=False)), 'fuel_type'] = 'Hybrid'\n",
    "test.loc[(test['fuel_type'].isna()) & (test['engine'].str.contains(\"AH\", case=False, na=False)), 'fuel_type'] = 'Hybrid'\n",
    "test.loc[(test['fuel_type'].isna()) & (test['brand'].str.contains(\"Tesla\", case=False, na=False)), 'fuel_type'] = 'Hybrid'\n",
    "test.loc[(test['fuel_type'].isna()) & (test['model'].str.contains(\"Hybrid\", case=False, na=False)), 'fuel_type'] = 'Hybrid'\n",
    "\n",
    "# Assigning as 'Gasoline' where 'engine' contains 'GDI', 'PDI', 'OHV', 'MPFI', 'TFSI', 'DOHC', 'Gasoline'\n",
    "test.loc[(test['fuel_type'].isna()) & (test['engine'].str.contains(\"GDI\", case=False, na=False)), 'fuel_type'] = 'Gasoline'\n",
    "test.loc[(test['fuel_type'].isna()) & (test['engine'].str.contains(\"PDI\", case=False, na=False)), 'fuel_type'] = 'Gasoline'\n",
    "test.loc[(test['fuel_type'].isna()) & (test['engine'].str.contains(\"OHV\", case=False, na=False)), 'fuel_type'] = 'Gasoline'\n",
    "test.loc[(test['fuel_type'].isna()) & (test['engine'].str.contains(\"MPFI\", case=False, na=False)), 'fuel_type'] = 'Gasoline'\n",
    "test.loc[(test['fuel_type'].isna()) & (test['engine'].str.contains(\"TFSI\", case=False, na=False)), 'fuel_type'] = 'Gasoline'\n",
    "test.loc[(test['fuel_type'].isna()) & (test['engine'].str.contains(\"DOHC\", case=False, na=False)), 'fuel_type'] = 'Gasoline'\n",
    "test.loc[(test['fuel_type'].isna()) & (test['engine'].str.contains(\"Gasoline\", case=False, na=False)), 'fuel_type'] = 'Gasoline'\n",
    "test.loc[(test['fuel_type'].isna()) & (test['model_year'] < 2020), 'fuel_type'] = 'Gasoline'\n",
    "\n",
    "# Assigning as 'Diesel' where 'engine' contains 'Diesel'\n",
    "test.loc[(test['fuel_type'].isna()) & (test['engine'].str.contains(\"Diesel\", case=False, na=False)), 'fuel_type'] = 'Diesel'\n"
   ]
  },
  {
   "cell_type": "code",
   "execution_count": 56,
   "id": "d7fae191",
   "metadata": {
    "execution": {
     "iopub.execute_input": "2024-09-18T18:26:37.177933Z",
     "iopub.status.busy": "2024-09-18T18:26:37.177204Z",
     "iopub.status.idle": "2024-09-18T18:26:37.192307Z",
     "shell.execute_reply": "2024-09-18T18:26:37.191269Z"
    },
    "papermill": {
     "duration": 0.3189,
     "end_time": "2024-09-18T18:26:37.194581",
     "exception": false,
     "start_time": "2024-09-18T18:26:36.875681",
     "status": "completed"
    },
    "tags": []
   },
   "outputs": [],
   "source": [
    "# Assigning fuel types to remaining outliers\n",
    "test['fuel_type'] = test['fuel_type'].fillna('Hybrid')"
   ]
  },
  {
   "cell_type": "code",
   "execution_count": 57,
   "id": "7fe0fd6d",
   "metadata": {
    "execution": {
     "iopub.execute_input": "2024-09-18T18:26:37.689014Z",
     "iopub.status.busy": "2024-09-18T18:26:37.688081Z",
     "iopub.status.idle": "2024-09-18T18:26:37.702766Z",
     "shell.execute_reply": "2024-09-18T18:26:37.701739Z"
    },
    "papermill": {
     "duration": 0.265236,
     "end_time": "2024-09-18T18:26:37.704987",
     "exception": false,
     "start_time": "2024-09-18T18:26:37.439751",
     "status": "completed"
    },
    "tags": []
   },
   "outputs": [],
   "source": [
    "# Filling in missing values in 'accident' with 'None reported'\n",
    "test['accident'] = test['accident'].fillna('None reported')"
   ]
  },
  {
   "cell_type": "code",
   "execution_count": 58,
   "id": "4e3b6c90",
   "metadata": {
    "execution": {
     "iopub.execute_input": "2024-09-18T18:26:38.211245Z",
     "iopub.status.busy": "2024-09-18T18:26:38.210254Z",
     "iopub.status.idle": "2024-09-18T18:26:38.304305Z",
     "shell.execute_reply": "2024-09-18T18:26:38.302962Z"
    },
    "papermill": {
     "duration": 0.34976,
     "end_time": "2024-09-18T18:26:38.307092",
     "exception": false,
     "start_time": "2024-09-18T18:26:37.957332",
     "status": "completed"
    },
    "tags": []
   },
   "outputs": [],
   "source": [
    "# Assigning 'Yes' to 'clean_title' column when the 'accident' column contains 'None'\n",
    "test.loc[(test['clean_title'].isna()) & (test['accident'].str.contains('None', case=False, na=False)), 'clean_title'] = 'Yes'"
   ]
  },
  {
   "cell_type": "code",
   "execution_count": 59,
   "id": "9bb93675",
   "metadata": {
    "execution": {
     "iopub.execute_input": "2024-09-18T18:26:38.807028Z",
     "iopub.status.busy": "2024-09-18T18:26:38.806636Z",
     "iopub.status.idle": "2024-09-18T18:26:38.822023Z",
     "shell.execute_reply": "2024-09-18T18:26:38.820986Z"
    },
    "papermill": {
     "duration": 0.262266,
     "end_time": "2024-09-18T18:26:38.824791",
     "exception": false,
     "start_time": "2024-09-18T18:26:38.562525",
     "status": "completed"
    },
    "tags": []
   },
   "outputs": [],
   "source": [
    "# Filling in remaining missing values in 'clean_title' with 'No'\n",
    "test['clean_title'] = test['clean_title'].fillna('No')"
   ]
  },
  {
   "cell_type": "code",
   "execution_count": 60,
   "id": "d625af0d",
   "metadata": {
    "execution": {
     "iopub.execute_input": "2024-09-18T18:26:39.376321Z",
     "iopub.status.busy": "2024-09-18T18:26:39.375395Z",
     "iopub.status.idle": "2024-09-18T18:26:39.603042Z",
     "shell.execute_reply": "2024-09-18T18:26:39.601920Z"
    },
    "papermill": {
     "duration": 0.478972,
     "end_time": "2024-09-18T18:26:39.605720",
     "exception": false,
     "start_time": "2024-09-18T18:26:39.126748",
     "status": "completed"
    },
    "tags": []
   },
   "outputs": [],
   "source": [
    "# Encoding object columns in 'test'\n",
    "for col in cat_cols:\n",
    "    if col in test.columns:\n",
    "        test[col] = le.fit_transform(test[col])"
   ]
  },
  {
   "cell_type": "code",
   "execution_count": 61,
   "id": "ee666b3f",
   "metadata": {
    "execution": {
     "iopub.execute_input": "2024-09-18T18:26:40.097063Z",
     "iopub.status.busy": "2024-09-18T18:26:40.096645Z",
     "iopub.status.idle": "2024-09-18T18:26:40.109831Z",
     "shell.execute_reply": "2024-09-18T18:26:40.108769Z"
    },
    "papermill": {
     "duration": 0.26146,
     "end_time": "2024-09-18T18:26:40.112057",
     "exception": false,
     "start_time": "2024-09-18T18:26:39.850597",
     "status": "completed"
    },
    "tags": []
   },
   "outputs": [
    {
     "name": "stdout",
     "output_type": "stream",
     "text": [
      "<class 'pandas.core.frame.DataFrame'>\n",
      "RangeIndex: 125690 entries, 0 to 125689\n",
      "Data columns (total 11 columns):\n",
      " #   Column        Non-Null Count   Dtype\n",
      "---  ------        --------------   -----\n",
      " 0   brand         125690 non-null  int64\n",
      " 1   model         125690 non-null  int64\n",
      " 2   model_year    125690 non-null  int64\n",
      " 3   milage        125690 non-null  int64\n",
      " 4   fuel_type     125690 non-null  int64\n",
      " 5   engine        125690 non-null  int64\n",
      " 6   transmission  125690 non-null  int64\n",
      " 7   ext_col       125690 non-null  int64\n",
      " 8   int_col       125690 non-null  int64\n",
      " 9   accident      125690 non-null  int64\n",
      " 10  clean_title   125690 non-null  int64\n",
      "dtypes: int64(11)\n",
      "memory usage: 10.5 MB\n"
     ]
    }
   ],
   "source": [
    "# Verifying changes made to 'test'\n",
    "test.info()"
   ]
  },
  {
   "cell_type": "code",
   "execution_count": 62,
   "id": "7c5648c4",
   "metadata": {
    "execution": {
     "iopub.execute_input": "2024-09-18T18:26:40.603147Z",
     "iopub.status.busy": "2024-09-18T18:26:40.602380Z",
     "iopub.status.idle": "2024-09-18T18:26:40.633183Z",
     "shell.execute_reply": "2024-09-18T18:26:40.632340Z"
    },
    "papermill": {
     "duration": 0.279572,
     "end_time": "2024-09-18T18:26:40.635492",
     "exception": false,
     "start_time": "2024-09-18T18:26:40.355920",
     "status": "completed"
    },
    "tags": []
   },
   "outputs": [],
   "source": [
    "# Applying scaler to 'test' data\n",
    "test = scaler.fit_transform(test)"
   ]
  },
  {
   "cell_type": "code",
   "execution_count": 63,
   "id": "82e20cbe",
   "metadata": {
    "execution": {
     "iopub.execute_input": "2024-09-18T18:26:41.181524Z",
     "iopub.status.busy": "2024-09-18T18:26:41.180800Z",
     "iopub.status.idle": "2024-09-18T18:26:47.078735Z",
     "shell.execute_reply": "2024-09-18T18:26:47.077617Z"
    },
    "papermill": {
     "duration": 6.202329,
     "end_time": "2024-09-18T18:26:47.081275",
     "exception": false,
     "start_time": "2024-09-18T18:26:40.878946",
     "status": "completed"
    },
    "tags": []
   },
   "outputs": [
    {
     "name": "stdout",
     "output_type": "stream",
     "text": [
      "\u001b[1m3928/3928\u001b[0m \u001b[32m━━━━━━━━━━━━━━━━━━━━\u001b[0m\u001b[37m\u001b[0m \u001b[1m4s\u001b[0m 1ms/step\n"
     ]
    }
   ],
   "source": [
    "# Making predictions on 'test' data using the model, storing predictions as 'y_pred'\n",
    "y_pred = model.predict(test)"
   ]
  },
  {
   "cell_type": "code",
   "execution_count": 64,
   "id": "6afbedf2",
   "metadata": {
    "execution": {
     "iopub.execute_input": "2024-09-18T18:26:47.586143Z",
     "iopub.status.busy": "2024-09-18T18:26:47.585740Z",
     "iopub.status.idle": "2024-09-18T18:26:47.643986Z",
     "shell.execute_reply": "2024-09-18T18:26:47.643119Z"
    },
    "papermill": {
     "duration": 0.313425,
     "end_time": "2024-09-18T18:26:47.646379",
     "exception": false,
     "start_time": "2024-09-18T18:26:47.332954",
     "status": "completed"
    },
    "tags": []
   },
   "outputs": [],
   "source": [
    "# Loading in Kaggle's sample submission file\n",
    "submission = pd.read_csv('/kaggle/input/playground-series-s4e9/sample_submission.csv')"
   ]
  },
  {
   "cell_type": "code",
   "execution_count": 65,
   "id": "f69346aa",
   "metadata": {
    "execution": {
     "iopub.execute_input": "2024-09-18T18:26:48.149649Z",
     "iopub.status.busy": "2024-09-18T18:26:48.148629Z",
     "iopub.status.idle": "2024-09-18T18:26:48.159297Z",
     "shell.execute_reply": "2024-09-18T18:26:48.158307Z"
    },
    "papermill": {
     "duration": 0.264812,
     "end_time": "2024-09-18T18:26:48.161375",
     "exception": false,
     "start_time": "2024-09-18T18:26:47.896563",
     "status": "completed"
    },
    "tags": []
   },
   "outputs": [
    {
     "data": {
      "text/html": [
       "<div>\n",
       "<style scoped>\n",
       "    .dataframe tbody tr th:only-of-type {\n",
       "        vertical-align: middle;\n",
       "    }\n",
       "\n",
       "    .dataframe tbody tr th {\n",
       "        vertical-align: top;\n",
       "    }\n",
       "\n",
       "    .dataframe thead th {\n",
       "        text-align: right;\n",
       "    }\n",
       "</style>\n",
       "<table border=\"1\" class=\"dataframe\">\n",
       "  <thead>\n",
       "    <tr style=\"text-align: right;\">\n",
       "      <th></th>\n",
       "      <th>id</th>\n",
       "      <th>price</th>\n",
       "    </tr>\n",
       "  </thead>\n",
       "  <tbody>\n",
       "    <tr>\n",
       "      <th>0</th>\n",
       "      <td>188533</td>\n",
       "      <td>19286.257812</td>\n",
       "    </tr>\n",
       "    <tr>\n",
       "      <th>1</th>\n",
       "      <td>188534</td>\n",
       "      <td>80920.640625</td>\n",
       "    </tr>\n",
       "    <tr>\n",
       "      <th>2</th>\n",
       "      <td>188535</td>\n",
       "      <td>63099.968750</td>\n",
       "    </tr>\n",
       "    <tr>\n",
       "      <th>3</th>\n",
       "      <td>188536</td>\n",
       "      <td>20661.865234</td>\n",
       "    </tr>\n",
       "    <tr>\n",
       "      <th>4</th>\n",
       "      <td>188537</td>\n",
       "      <td>28717.164062</td>\n",
       "    </tr>\n",
       "  </tbody>\n",
       "</table>\n",
       "</div>"
      ],
      "text/plain": [
       "       id         price\n",
       "0  188533  19286.257812\n",
       "1  188534  80920.640625\n",
       "2  188535  63099.968750\n",
       "3  188536  20661.865234\n",
       "4  188537  28717.164062"
      ]
     },
     "execution_count": 65,
     "metadata": {},
     "output_type": "execute_result"
    }
   ],
   "source": [
    "# Applying predicted 'price' values to 'submission'\n",
    "submission['price'] = y_pred\n",
    "submission.head()"
   ]
  },
  {
   "cell_type": "markdown",
   "id": "3aa1cf61",
   "metadata": {
    "papermill": {
     "duration": 0.30331,
     "end_time": "2024-09-18T18:26:48.715569",
     "exception": false,
     "start_time": "2024-09-18T18:26:48.412259",
     "status": "completed"
    },
    "tags": []
   },
   "source": [
    "The 'submission' dataframe above appears to follow the correct structure, i.e. having two columns, 'id' and 'price'. Each entry contains a price which has been predicted by the model. It should be noted that the index is not needed. This will be removing in the next line of code. "
   ]
  },
  {
   "cell_type": "code",
   "execution_count": 66,
   "id": "f17db22d",
   "metadata": {
    "execution": {
     "iopub.execute_input": "2024-09-18T18:26:49.220024Z",
     "iopub.status.busy": "2024-09-18T18:26:49.219610Z",
     "iopub.status.idle": "2024-09-18T18:26:49.419804Z",
     "shell.execute_reply": "2024-09-18T18:26:49.418894Z"
    },
    "papermill": {
     "duration": 0.45557,
     "end_time": "2024-09-18T18:26:49.422219",
     "exception": false,
     "start_time": "2024-09-18T18:26:48.966649",
     "status": "completed"
    },
    "tags": []
   },
   "outputs": [],
   "source": [
    "# Exporting 'submission' as a .csv for scoring\n",
    "submission.to_csv('submission.csv', index=False)"
   ]
  },
  {
   "cell_type": "markdown",
   "id": "3aa9d3e6",
   "metadata": {
    "papermill": {
     "duration": 0.249165,
     "end_time": "2024-09-18T18:26:49.923399",
     "exception": false,
     "start_time": "2024-09-18T18:26:49.674234",
     "status": "completed"
    },
    "tags": []
   },
   "source": [
    "<a id=\"0\"></a>\n",
    "\n",
    "<a href=\"#0\" style=\"background-color:blue; color:white; padding: 7px 10px; text-decoration: none; border-radius: 50px;\">Back to top</a><a id=\"0\"></a>\n",
    "\n",
    "<a id=\"0\"></a>\n",
    "\n",
    "<a href=\"#r\" style=\"background-color:blue; color:white; padding: 7px 10px; text-decoration: none; border-radius: 50px;\">Next Section</a><a id=\"0\"></a>\n",
    "\n",
    "<a id=\"c\"></a>\n",
    "\n",
    "# **Conclusion**\n",
    "\n",
    "The developed neural network appeared to be reasonably effective in predicting car prices. That is, the model yielded a RMSE score roughly halfway on the competition leaderboard. A chart showing the training and validation losses across each epoch showed that the model did not overfit the data. Both losses decreased significantly from epochs 0 to 20, then tapered off afterwards. Neither loss appeared to increase significantly across all 50 epochs, further suggesting that the model did not overfit. \n",
    "\n",
    "Final Model Parameters:\n",
    "- Model: Sequential\n",
    "- Layers:\n",
    "    - Dense (128, 'relu')\n",
    "    - Batch Normalization\n",
    "    - Dropout (0.1)\n",
    "    - Dense_1 (128, 'relu')\n",
    "    - Batch Normalization_1\n",
    "    - Dropot_1 (0.1)\n",
    "    - Dense_2 (64, 'relu')\n",
    "    - Batch Normalization_2 \n",
    "    - Dense_3 (1, 'linear')\n",
    "- Total Parameters: 27,649\n",
    "    - Trainable Parameters: 27,009\n",
    "    - Non-Trainable Parameters: 640\n",
    "- Compiling:\n",
    "    - Adam (learning rate: 0.001)\n",
    "    - MSE\n",
    "- Fitting:\n",
    "    - Epochs: 50\n",
    "    - Batch Size: 128\n",
    "    \n",
    "Possible Improvements:\n",
    "- Adjusting learning rate\n",
    "- Adding additional NN layers\n",
    "- Experimenting with different activation functions\n",
    "- Experimenting with different batch sizes\n",
    "- Feature engineering\n",
    "\n",
    "\n",
    "Thanks for checking out my project! I hope it was informative and that you maybe learned something! "
   ]
  },
  {
   "cell_type": "markdown",
   "id": "e6b8f834",
   "metadata": {
    "papermill": {
     "duration": 0.250674,
     "end_time": "2024-09-18T18:26:50.423217",
     "exception": false,
     "start_time": "2024-09-18T18:26:50.172543",
     "status": "completed"
    },
    "tags": []
   },
   "source": [
    "<a id=\"0\"></a>\n",
    "\n",
    "<a href=\"#0\" style=\"background-color:blue; color:white; padding: 7px 10px; text-decoration: none; border-radius: 50px;\">Back to top</a><a id=\"0\"></a>\n",
    "\n",
    "<a id=\"r\"></a>\n",
    "\n",
    "# **References**\n",
    "\n",
    "- https://www.kaggle.com/competitions/playground-series-s4e9/overview\n",
    "- https://www.kaggle.com/datasets/taeefnajib/used-car-price-prediction-dataset\n",
    "- https://www.kaggle.com/code/wissamelias/car-price-guide-beginners-level-eda-nn\n",
    "- https://www.kaggle.com/code/danishyousuf19/using-neural-networks-for-car-price-prediction/notebook\n"
   ]
  }
 ],
 "metadata": {
  "kaggle": {
   "accelerator": "none",
   "dataSources": [
    {
     "databundleVersionId": 9057646,
     "sourceId": 76728,
     "sourceType": "competition"
    },
    {
     "datasetId": 3742543,
     "sourceId": 6478229,
     "sourceType": "datasetVersion"
    }
   ],
   "dockerImageVersionId": 30761,
   "isGpuEnabled": false,
   "isInternetEnabled": true,
   "language": "python",
   "sourceType": "notebook"
  },
  "kernelspec": {
   "display_name": "Python 3",
   "language": "python",
   "name": "python3"
  },
  "language_info": {
   "codemirror_mode": {
    "name": "ipython",
    "version": 3
   },
   "file_extension": ".py",
   "mimetype": "text/x-python",
   "name": "python",
   "nbconvert_exporter": "python",
   "pygments_lexer": "ipython3",
   "version": "3.10.14"
  },
  "papermill": {
   "default_parameters": {},
   "duration": 246.800239,
   "end_time": "2024-09-18T18:26:52.296809",
   "environment_variables": {},
   "exception": null,
   "input_path": "__notebook__.ipynb",
   "output_path": "__notebook__.ipynb",
   "parameters": {},
   "start_time": "2024-09-18T18:22:45.496570",
   "version": "2.6.0"
  }
 },
 "nbformat": 4,
 "nbformat_minor": 5
}
